{
  "cells": [
    {
      "cell_type": "code",
      "execution_count": null,
      "metadata": {
        "colab": {
          "base_uri": "https://localhost:8080/"
        },
        "id": "cbcJ-2loWbp5",
        "outputId": "b6c80673-d385-4334-b299-5dc3f26af982"
      },
      "outputs": [
        {
          "output_type": "stream",
          "name": "stdout",
          "text": [
            "Requirement already satisfied: supervision in /usr/local/lib/python3.10/dist-packages (0.21.0)\n",
            "Requirement already satisfied: defusedxml<0.8.0,>=0.7.1 in /usr/local/lib/python3.10/dist-packages (from supervision) (0.7.1)\n",
            "Requirement already satisfied: matplotlib>=3.6.0 in /usr/local/lib/python3.10/dist-packages (from supervision) (3.7.1)\n",
            "Requirement already satisfied: numpy>=1.21.2 in /usr/local/lib/python3.10/dist-packages (from supervision) (1.25.2)\n",
            "Requirement already satisfied: opencv-python-headless>=4.5.5.64 in /usr/local/lib/python3.10/dist-packages (from supervision) (4.10.0.82)\n",
            "Requirement already satisfied: pillow>=9.4 in /usr/local/lib/python3.10/dist-packages (from supervision) (10.3.0)\n",
            "Requirement already satisfied: pyyaml>=5.3 in /usr/local/lib/python3.10/dist-packages (from supervision) (6.0.1)\n",
            "Requirement already satisfied: scipy<2.0.0,>=1.10.0 in /usr/local/lib/python3.10/dist-packages (from supervision) (1.11.4)\n",
            "Requirement already satisfied: contourpy>=1.0.1 in /usr/local/lib/python3.10/dist-packages (from matplotlib>=3.6.0->supervision) (1.2.1)\n",
            "Requirement already satisfied: cycler>=0.10 in /usr/local/lib/python3.10/dist-packages (from matplotlib>=3.6.0->supervision) (0.12.1)\n",
            "Requirement already satisfied: fonttools>=4.22.0 in /usr/local/lib/python3.10/dist-packages (from matplotlib>=3.6.0->supervision) (4.53.0)\n",
            "Requirement already satisfied: kiwisolver>=1.0.1 in /usr/local/lib/python3.10/dist-packages (from matplotlib>=3.6.0->supervision) (1.4.5)\n",
            "Requirement already satisfied: packaging>=20.0 in /usr/local/lib/python3.10/dist-packages (from matplotlib>=3.6.0->supervision) (24.0)\n",
            "Requirement already satisfied: pyparsing>=2.3.1 in /usr/local/lib/python3.10/dist-packages (from matplotlib>=3.6.0->supervision) (3.1.2)\n",
            "Requirement already satisfied: python-dateutil>=2.7 in /usr/local/lib/python3.10/dist-packages (from matplotlib>=3.6.0->supervision) (2.8.2)\n",
            "Requirement already satisfied: six>=1.5 in /usr/local/lib/python3.10/dist-packages (from python-dateutil>=2.7->matplotlib>=3.6.0->supervision) (1.16.0)\n"
          ]
        }
      ],
      "source": [
        "!pip install supervision"
      ]
    },
    {
      "cell_type": "code",
      "execution_count": null,
      "metadata": {
        "colab": {
          "base_uri": "https://localhost:8080/"
        },
        "id": "YHoymOZ8Y9XW",
        "outputId": "124dde52-6a45-4f37-c08a-20cc7ac63d28"
      },
      "outputs": [
        {
          "output_type": "stream",
          "name": "stdout",
          "text": [
            "Cloning into 'yolov5'...\n",
            "remote: Enumerating objects: 16656, done.\u001b[K\n",
            "remote: Counting objects: 100% (7/7), done.\u001b[K\n",
            "remote: Compressing objects: 100% (7/7), done.\u001b[K\n",
            "remote: Total 16656 (delta 1), reused 5 (delta 0), pack-reused 16649\u001b[K\n",
            "Receiving objects: 100% (16656/16656), 15.07 MiB | 24.42 MiB/s, done.\n",
            "Resolving deltas: 100% (11443/11443), done.\n",
            "/content/yolov5/yolov5\n",
            "Requirement already satisfied: gitpython>=3.1.30 in /usr/local/lib/python3.10/dist-packages (from -r requirements.txt (line 5)) (3.1.43)\n",
            "Requirement already satisfied: matplotlib>=3.3 in /usr/local/lib/python3.10/dist-packages (from -r requirements.txt (line 6)) (3.7.1)\n",
            "Requirement already satisfied: numpy>=1.23.5 in /usr/local/lib/python3.10/dist-packages (from -r requirements.txt (line 7)) (1.25.2)\n",
            "Requirement already satisfied: opencv-python>=4.1.1 in /usr/local/lib/python3.10/dist-packages (from -r requirements.txt (line 8)) (4.8.0.76)\n",
            "Requirement already satisfied: pillow>=10.3.0 in /usr/local/lib/python3.10/dist-packages (from -r requirements.txt (line 9)) (10.3.0)\n",
            "Requirement already satisfied: psutil in /usr/local/lib/python3.10/dist-packages (from -r requirements.txt (line 10)) (5.9.5)\n",
            "Requirement already satisfied: PyYAML>=5.3.1 in /usr/local/lib/python3.10/dist-packages (from -r requirements.txt (line 11)) (6.0.1)\n",
            "Requirement already satisfied: requests>=2.32.0 in /usr/local/lib/python3.10/dist-packages (from -r requirements.txt (line 12)) (2.32.3)\n",
            "Requirement already satisfied: scipy>=1.4.1 in /usr/local/lib/python3.10/dist-packages (from -r requirements.txt (line 13)) (1.11.4)\n",
            "Requirement already satisfied: thop>=0.1.1 in /usr/local/lib/python3.10/dist-packages (from -r requirements.txt (line 14)) (0.1.1.post2209072238)\n",
            "Requirement already satisfied: torch>=1.8.0 in /usr/local/lib/python3.10/dist-packages (from -r requirements.txt (line 15)) (2.3.0+cu121)\n",
            "Requirement already satisfied: torchvision>=0.9.0 in /usr/local/lib/python3.10/dist-packages (from -r requirements.txt (line 16)) (0.18.0+cu121)\n",
            "Requirement already satisfied: tqdm>=4.64.0 in /usr/local/lib/python3.10/dist-packages (from -r requirements.txt (line 17)) (4.66.4)\n",
            "Requirement already satisfied: ultralytics>=8.0.232 in /usr/local/lib/python3.10/dist-packages (from -r requirements.txt (line 18)) (8.2.28)\n",
            "Requirement already satisfied: pandas>=1.1.4 in /usr/local/lib/python3.10/dist-packages (from -r requirements.txt (line 27)) (2.0.3)\n",
            "Requirement already satisfied: seaborn>=0.11.0 in /usr/local/lib/python3.10/dist-packages (from -r requirements.txt (line 28)) (0.13.1)\n",
            "Requirement already satisfied: setuptools>=65.5.1 in /usr/local/lib/python3.10/dist-packages (from -r requirements.txt (line 42)) (67.7.2)\n",
            "Requirement already satisfied: wheel>=0.38.0 in /usr/local/lib/python3.10/dist-packages (from -r requirements.txt (line 50)) (0.43.0)\n",
            "Requirement already satisfied: gitdb<5,>=4.0.1 in /usr/local/lib/python3.10/dist-packages (from gitpython>=3.1.30->-r requirements.txt (line 5)) (4.0.11)\n",
            "Requirement already satisfied: contourpy>=1.0.1 in /usr/local/lib/python3.10/dist-packages (from matplotlib>=3.3->-r requirements.txt (line 6)) (1.2.1)\n",
            "Requirement already satisfied: cycler>=0.10 in /usr/local/lib/python3.10/dist-packages (from matplotlib>=3.3->-r requirements.txt (line 6)) (0.12.1)\n",
            "Requirement already satisfied: fonttools>=4.22.0 in /usr/local/lib/python3.10/dist-packages (from matplotlib>=3.3->-r requirements.txt (line 6)) (4.53.0)\n",
            "Requirement already satisfied: kiwisolver>=1.0.1 in /usr/local/lib/python3.10/dist-packages (from matplotlib>=3.3->-r requirements.txt (line 6)) (1.4.5)\n",
            "Requirement already satisfied: packaging>=20.0 in /usr/local/lib/python3.10/dist-packages (from matplotlib>=3.3->-r requirements.txt (line 6)) (24.0)\n",
            "Requirement already satisfied: pyparsing>=2.3.1 in /usr/local/lib/python3.10/dist-packages (from matplotlib>=3.3->-r requirements.txt (line 6)) (3.1.2)\n",
            "Requirement already satisfied: python-dateutil>=2.7 in /usr/local/lib/python3.10/dist-packages (from matplotlib>=3.3->-r requirements.txt (line 6)) (2.8.2)\n",
            "Requirement already satisfied: charset-normalizer<4,>=2 in /usr/local/lib/python3.10/dist-packages (from requests>=2.32.0->-r requirements.txt (line 12)) (3.3.2)\n",
            "Requirement already satisfied: idna<4,>=2.5 in /usr/local/lib/python3.10/dist-packages (from requests>=2.32.0->-r requirements.txt (line 12)) (3.7)\n",
            "Requirement already satisfied: urllib3<3,>=1.21.1 in /usr/local/lib/python3.10/dist-packages (from requests>=2.32.0->-r requirements.txt (line 12)) (2.0.7)\n",
            "Requirement already satisfied: certifi>=2017.4.17 in /usr/local/lib/python3.10/dist-packages (from requests>=2.32.0->-r requirements.txt (line 12)) (2024.6.2)\n",
            "Requirement already satisfied: filelock in /usr/local/lib/python3.10/dist-packages (from torch>=1.8.0->-r requirements.txt (line 15)) (3.14.0)\n",
            "Requirement already satisfied: typing-extensions>=4.8.0 in /usr/local/lib/python3.10/dist-packages (from torch>=1.8.0->-r requirements.txt (line 15)) (4.12.1)\n",
            "Requirement already satisfied: sympy in /usr/local/lib/python3.10/dist-packages (from torch>=1.8.0->-r requirements.txt (line 15)) (1.12.1)\n",
            "Requirement already satisfied: networkx in /usr/local/lib/python3.10/dist-packages (from torch>=1.8.0->-r requirements.txt (line 15)) (3.3)\n",
            "Requirement already satisfied: jinja2 in /usr/local/lib/python3.10/dist-packages (from torch>=1.8.0->-r requirements.txt (line 15)) (3.1.4)\n",
            "Requirement already satisfied: fsspec in /usr/local/lib/python3.10/dist-packages (from torch>=1.8.0->-r requirements.txt (line 15)) (2023.6.0)\n",
            "Requirement already satisfied: nvidia-cuda-nvrtc-cu12==12.1.105 in /usr/local/lib/python3.10/dist-packages (from torch>=1.8.0->-r requirements.txt (line 15)) (12.1.105)\n",
            "Requirement already satisfied: nvidia-cuda-runtime-cu12==12.1.105 in /usr/local/lib/python3.10/dist-packages (from torch>=1.8.0->-r requirements.txt (line 15)) (12.1.105)\n",
            "Requirement already satisfied: nvidia-cuda-cupti-cu12==12.1.105 in /usr/local/lib/python3.10/dist-packages (from torch>=1.8.0->-r requirements.txt (line 15)) (12.1.105)\n",
            "Requirement already satisfied: nvidia-cudnn-cu12==8.9.2.26 in /usr/local/lib/python3.10/dist-packages (from torch>=1.8.0->-r requirements.txt (line 15)) (8.9.2.26)\n",
            "Requirement already satisfied: nvidia-cublas-cu12==12.1.3.1 in /usr/local/lib/python3.10/dist-packages (from torch>=1.8.0->-r requirements.txt (line 15)) (12.1.3.1)\n",
            "Requirement already satisfied: nvidia-cufft-cu12==11.0.2.54 in /usr/local/lib/python3.10/dist-packages (from torch>=1.8.0->-r requirements.txt (line 15)) (11.0.2.54)\n",
            "Requirement already satisfied: nvidia-curand-cu12==10.3.2.106 in /usr/local/lib/python3.10/dist-packages (from torch>=1.8.0->-r requirements.txt (line 15)) (10.3.2.106)\n",
            "Requirement already satisfied: nvidia-cusolver-cu12==11.4.5.107 in /usr/local/lib/python3.10/dist-packages (from torch>=1.8.0->-r requirements.txt (line 15)) (11.4.5.107)\n",
            "Requirement already satisfied: nvidia-cusparse-cu12==12.1.0.106 in /usr/local/lib/python3.10/dist-packages (from torch>=1.8.0->-r requirements.txt (line 15)) (12.1.0.106)\n",
            "Requirement already satisfied: nvidia-nccl-cu12==2.20.5 in /usr/local/lib/python3.10/dist-packages (from torch>=1.8.0->-r requirements.txt (line 15)) (2.20.5)\n",
            "Requirement already satisfied: nvidia-nvtx-cu12==12.1.105 in /usr/local/lib/python3.10/dist-packages (from torch>=1.8.0->-r requirements.txt (line 15)) (12.1.105)\n",
            "Requirement already satisfied: triton==2.3.0 in /usr/local/lib/python3.10/dist-packages (from torch>=1.8.0->-r requirements.txt (line 15)) (2.3.0)\n",
            "Requirement already satisfied: nvidia-nvjitlink-cu12 in /usr/local/lib/python3.10/dist-packages (from nvidia-cusolver-cu12==11.4.5.107->torch>=1.8.0->-r requirements.txt (line 15)) (12.5.40)\n",
            "Requirement already satisfied: py-cpuinfo in /usr/local/lib/python3.10/dist-packages (from ultralytics>=8.0.232->-r requirements.txt (line 18)) (9.0.0)\n",
            "Requirement already satisfied: ultralytics-thop>=0.2.5 in /usr/local/lib/python3.10/dist-packages (from ultralytics>=8.0.232->-r requirements.txt (line 18)) (0.2.7)\n",
            "Requirement already satisfied: pytz>=2020.1 in /usr/local/lib/python3.10/dist-packages (from pandas>=1.1.4->-r requirements.txt (line 27)) (2023.4)\n",
            "Requirement already satisfied: tzdata>=2022.1 in /usr/local/lib/python3.10/dist-packages (from pandas>=1.1.4->-r requirements.txt (line 27)) (2024.1)\n",
            "Requirement already satisfied: smmap<6,>=3.0.1 in /usr/local/lib/python3.10/dist-packages (from gitdb<5,>=4.0.1->gitpython>=3.1.30->-r requirements.txt (line 5)) (5.0.1)\n",
            "Requirement already satisfied: six>=1.5 in /usr/local/lib/python3.10/dist-packages (from python-dateutil>=2.7->matplotlib>=3.3->-r requirements.txt (line 6)) (1.16.0)\n",
            "Requirement already satisfied: MarkupSafe>=2.0 in /usr/local/lib/python3.10/dist-packages (from jinja2->torch>=1.8.0->-r requirements.txt (line 15)) (2.1.5)\n",
            "Requirement already satisfied: mpmath<1.4.0,>=1.1.0 in /usr/local/lib/python3.10/dist-packages (from sympy->torch>=1.8.0->-r requirements.txt (line 15)) (1.3.0)\n",
            "Processing /content/yolov5/yolov5\n",
            "  Installing build dependencies ... \u001b[?25l\u001b[?25hdone\n",
            "  \u001b[1;31merror\u001b[0m: \u001b[1msubprocess-exited-with-error\u001b[0m\n",
            "  \n",
            "  \u001b[31m×\u001b[0m \u001b[32mGetting requirements to build wheel\u001b[0m did not run successfully.\n",
            "  \u001b[31m│\u001b[0m exit code: \u001b[1;36m1\u001b[0m\n",
            "  \u001b[31m╰─>\u001b[0m See above for output.\n",
            "  \n",
            "  \u001b[1;35mnote\u001b[0m: This error originates from a subprocess, and is likely not a problem with pip.\n",
            "  Getting requirements to build wheel ... \u001b[?25l\u001b[?25herror\n",
            "\u001b[1;31merror\u001b[0m: \u001b[1msubprocess-exited-with-error\u001b[0m\n",
            "\n",
            "\u001b[31m×\u001b[0m \u001b[32mGetting requirements to build wheel\u001b[0m did not run successfully.\n",
            "\u001b[31m│\u001b[0m exit code: \u001b[1;36m1\u001b[0m\n",
            "\u001b[31m╰─>\u001b[0m See above for output.\n",
            "\n",
            "\u001b[1;35mnote\u001b[0m: This error originates from a subprocess, and is likely not a problem with pip.\n"
          ]
        }
      ],
      "source": [
        "!git clone https://github.com/ultralytics/yolov5.git\n",
        "%cd yolov5\n",
        "!pip install -r requirements.txt\n",
        "!pip install ."
      ]
    },
    {
      "cell_type": "code",
      "execution_count": null,
      "metadata": {
        "colab": {
          "base_uri": "https://localhost:8080/"
        },
        "id": "9qw82462W7M0",
        "outputId": "86a870f4-76cd-4a19-aa82-bf2d0a0b1811"
      },
      "outputs": [
        {
          "output_type": "stream",
          "name": "stdout",
          "text": [
            "PRO TIP 💡 Replace 'model=yolov5s.pt' with new 'model=yolov5su.pt'.\n",
            "YOLOv5 'u' models are trained with https://github.com/ultralytics/ultralytics and feature improved performance vs standard YOLOv5 models trained with https://github.com/ultralytics/yolov5.\n",
            "\n",
            "Downloading https://github.com/ultralytics/assets/releases/download/v8.2.0/yolov5su.pt to 'yolov5su.pt'...\n"
          ]
        },
        {
          "output_type": "stream",
          "name": "stderr",
          "text": [
            "100%|██████████| 17.7M/17.7M [00:00<00:00, 162MB/s]\n"
          ]
        }
      ],
      "source": [
        "import supervision as sv\n",
        "import numpy as np\n",
        "from ultralytics import YOLO\n",
        "\n",
        "VIDEO_PATH = \"/content/vehicle-counting (1).mp4\"\n",
        "\n",
        "model = YOLO(\"yolov5s.pt\")\n",
        "\n",
        "video_info = sv.VideoInfo.from_video_path(VIDEO_PATH)"
      ]
    },
    {
      "cell_type": "code",
      "execution_count": null,
      "metadata": {
        "colab": {
          "base_uri": "https://localhost:8080/"
        },
        "id": "wPbAAm2yZpBU",
        "outputId": "5e66a8df-5f3e-4e22-9df8-b89f3bb2cb39"
      },
      "outputs": [
        {
          "output_type": "stream",
          "name": "stdout",
          "text": [
            "\n",
            "0: 736x1280 4 cars, 1 train, 1 truck, 1545.6ms\n",
            "Speed: 49.5ms preprocess, 1545.6ms inference, 37.6ms postprocess per image at shape (1, 3, 736, 1280)\n",
            "\n"
          ]
        },
        {
          "output_type": "stream",
          "name": "stderr",
          "text": [
            "SupervisionWarnings: annotate is deprecated: `BoxAnnotator` is deprecated and will be removed in `supervision-0.22.0`. Use `BoundingBoxAnnotator` and `LabelAnnotator` instead\n"
          ]
        },
        {
          "output_type": "stream",
          "name": "stdout",
          "text": [
            "0: 736x1280 4 cars, 1 train, 1 truck, 1407.7ms\n",
            "Speed: 24.9ms preprocess, 1407.7ms inference, 3.1ms postprocess per image at shape (1, 3, 736, 1280)\n",
            "\n"
          ]
        },
        {
          "output_type": "stream",
          "name": "stderr",
          "text": [
            "SupervisionWarnings: annotate is deprecated: `BoxAnnotator` is deprecated and will be removed in `supervision-0.22.0`. Use `BoundingBoxAnnotator` and `LabelAnnotator` instead\n"
          ]
        },
        {
          "output_type": "stream",
          "name": "stdout",
          "text": [
            "0: 736x1280 4 cars, 1 train, 1 truck, 1281.8ms\n",
            "Speed: 18.0ms preprocess, 1281.8ms inference, 2.6ms postprocess per image at shape (1, 3, 736, 1280)\n",
            "\n"
          ]
        },
        {
          "output_type": "stream",
          "name": "stderr",
          "text": [
            "SupervisionWarnings: annotate is deprecated: `BoxAnnotator` is deprecated and will be removed in `supervision-0.22.0`. Use `BoundingBoxAnnotator` and `LabelAnnotator` instead\n"
          ]
        },
        {
          "output_type": "stream",
          "name": "stdout",
          "text": [
            "0: 736x1280 4 cars, 1 train, 1 truck, 1730.7ms\n",
            "Speed: 13.1ms preprocess, 1730.7ms inference, 3.1ms postprocess per image at shape (1, 3, 736, 1280)\n",
            "\n"
          ]
        },
        {
          "output_type": "stream",
          "name": "stderr",
          "text": [
            "SupervisionWarnings: annotate is deprecated: `BoxAnnotator` is deprecated and will be removed in `supervision-0.22.0`. Use `BoundingBoxAnnotator` and `LabelAnnotator` instead\n"
          ]
        },
        {
          "output_type": "stream",
          "name": "stdout",
          "text": [
            "0: 736x1280 4 cars, 1 train, 1 truck, 2100.4ms\n",
            "Speed: 35.3ms preprocess, 2100.4ms inference, 4.3ms postprocess per image at shape (1, 3, 736, 1280)\n",
            "\n"
          ]
        },
        {
          "output_type": "stream",
          "name": "stderr",
          "text": [
            "SupervisionWarnings: annotate is deprecated: `BoxAnnotator` is deprecated and will be removed in `supervision-0.22.0`. Use `BoundingBoxAnnotator` and `LabelAnnotator` instead\n"
          ]
        },
        {
          "output_type": "stream",
          "name": "stdout",
          "text": [
            "0: 736x1280 4 cars, 1 train, 2 trucks, 1427.5ms\n",
            "Speed: 20.4ms preprocess, 1427.5ms inference, 3.6ms postprocess per image at shape (1, 3, 736, 1280)\n",
            "\n"
          ]
        },
        {
          "output_type": "stream",
          "name": "stderr",
          "text": [
            "SupervisionWarnings: annotate is deprecated: `BoxAnnotator` is deprecated and will be removed in `supervision-0.22.0`. Use `BoundingBoxAnnotator` and `LabelAnnotator` instead\n"
          ]
        },
        {
          "output_type": "stream",
          "name": "stdout",
          "text": [
            "0: 736x1280 4 cars, 1 train, 1 truck, 1232.4ms\n",
            "Speed: 14.8ms preprocess, 1232.4ms inference, 3.1ms postprocess per image at shape (1, 3, 736, 1280)\n",
            "\n"
          ]
        },
        {
          "output_type": "stream",
          "name": "stderr",
          "text": [
            "SupervisionWarnings: annotate is deprecated: `BoxAnnotator` is deprecated and will be removed in `supervision-0.22.0`. Use `BoundingBoxAnnotator` and `LabelAnnotator` instead\n"
          ]
        },
        {
          "output_type": "stream",
          "name": "stdout",
          "text": [
            "0: 736x1280 4 cars, 1 train, 1 truck, 1327.6ms\n",
            "Speed: 15.5ms preprocess, 1327.6ms inference, 3.2ms postprocess per image at shape (1, 3, 736, 1280)\n",
            "\n"
          ]
        },
        {
          "output_type": "stream",
          "name": "stderr",
          "text": [
            "SupervisionWarnings: annotate is deprecated: `BoxAnnotator` is deprecated and will be removed in `supervision-0.22.0`. Use `BoundingBoxAnnotator` and `LabelAnnotator` instead\n"
          ]
        },
        {
          "output_type": "stream",
          "name": "stdout",
          "text": [
            "0: 736x1280 5 cars, 1 train, 1 truck, 1295.5ms\n",
            "Speed: 15.2ms preprocess, 1295.5ms inference, 3.4ms postprocess per image at shape (1, 3, 736, 1280)\n",
            "\n"
          ]
        },
        {
          "output_type": "stream",
          "name": "stderr",
          "text": [
            "SupervisionWarnings: annotate is deprecated: `BoxAnnotator` is deprecated and will be removed in `supervision-0.22.0`. Use `BoundingBoxAnnotator` and `LabelAnnotator` instead\n"
          ]
        },
        {
          "output_type": "stream",
          "name": "stdout",
          "text": [
            "0: 736x1280 5 cars, 1 train, 1 truck, 1334.1ms\n",
            "Speed: 17.3ms preprocess, 1334.1ms inference, 3.0ms postprocess per image at shape (1, 3, 736, 1280)\n",
            "\n"
          ]
        },
        {
          "output_type": "stream",
          "name": "stderr",
          "text": [
            "SupervisionWarnings: annotate is deprecated: `BoxAnnotator` is deprecated and will be removed in `supervision-0.22.0`. Use `BoundingBoxAnnotator` and `LabelAnnotator` instead\n"
          ]
        },
        {
          "output_type": "stream",
          "name": "stdout",
          "text": [
            "0: 736x1280 5 cars, 1 truck, 1332.7ms\n",
            "Speed: 17.2ms preprocess, 1332.7ms inference, 3.5ms postprocess per image at shape (1, 3, 736, 1280)\n",
            "\n"
          ]
        },
        {
          "output_type": "stream",
          "name": "stderr",
          "text": [
            "SupervisionWarnings: annotate is deprecated: `BoxAnnotator` is deprecated and will be removed in `supervision-0.22.0`. Use `BoundingBoxAnnotator` and `LabelAnnotator` instead\n"
          ]
        },
        {
          "output_type": "stream",
          "name": "stdout",
          "text": [
            "0: 736x1280 5 cars, 1 truck, 1247.2ms\n",
            "Speed: 14.4ms preprocess, 1247.2ms inference, 3.3ms postprocess per image at shape (1, 3, 736, 1280)\n",
            "\n"
          ]
        },
        {
          "output_type": "stream",
          "name": "stderr",
          "text": [
            "SupervisionWarnings: annotate is deprecated: `BoxAnnotator` is deprecated and will be removed in `supervision-0.22.0`. Use `BoundingBoxAnnotator` and `LabelAnnotator` instead\n"
          ]
        },
        {
          "output_type": "stream",
          "name": "stdout",
          "text": [
            "0: 736x1280 5 cars, 1 truck, 1978.5ms\n",
            "Speed: 15.6ms preprocess, 1978.5ms inference, 5.6ms postprocess per image at shape (1, 3, 736, 1280)\n",
            "\n"
          ]
        },
        {
          "output_type": "stream",
          "name": "stderr",
          "text": [
            "SupervisionWarnings: annotate is deprecated: `BoxAnnotator` is deprecated and will be removed in `supervision-0.22.0`. Use `BoundingBoxAnnotator` and `LabelAnnotator` instead\n"
          ]
        },
        {
          "output_type": "stream",
          "name": "stdout",
          "text": [
            "0: 736x1280 1 person, 5 cars, 1 train, 1 truck, 1889.6ms\n",
            "Speed: 26.8ms preprocess, 1889.6ms inference, 3.2ms postprocess per image at shape (1, 3, 736, 1280)\n",
            "\n"
          ]
        },
        {
          "output_type": "stream",
          "name": "stderr",
          "text": [
            "SupervisionWarnings: annotate is deprecated: `BoxAnnotator` is deprecated and will be removed in `supervision-0.22.0`. Use `BoundingBoxAnnotator` and `LabelAnnotator` instead\n"
          ]
        },
        {
          "output_type": "stream",
          "name": "stdout",
          "text": [
            "0: 736x1280 5 cars, 1 train, 1 truck, 1322.1ms\n",
            "Speed: 15.3ms preprocess, 1322.1ms inference, 3.4ms postprocess per image at shape (1, 3, 736, 1280)\n",
            "\n"
          ]
        },
        {
          "output_type": "stream",
          "name": "stderr",
          "text": [
            "SupervisionWarnings: annotate is deprecated: `BoxAnnotator` is deprecated and will be removed in `supervision-0.22.0`. Use `BoundingBoxAnnotator` and `LabelAnnotator` instead\n"
          ]
        },
        {
          "output_type": "stream",
          "name": "stdout",
          "text": [
            "0: 736x1280 5 cars, 1 train, 1 truck, 1346.5ms\n",
            "Speed: 17.0ms preprocess, 1346.5ms inference, 2.9ms postprocess per image at shape (1, 3, 736, 1280)\n",
            "\n"
          ]
        },
        {
          "output_type": "stream",
          "name": "stderr",
          "text": [
            "SupervisionWarnings: annotate is deprecated: `BoxAnnotator` is deprecated and will be removed in `supervision-0.22.0`. Use `BoundingBoxAnnotator` and `LabelAnnotator` instead\n"
          ]
        },
        {
          "output_type": "stream",
          "name": "stdout",
          "text": [
            "0: 736x1280 5 cars, 1 truck, 1251.6ms\n",
            "Speed: 13.9ms preprocess, 1251.6ms inference, 3.5ms postprocess per image at shape (1, 3, 736, 1280)\n",
            "\n"
          ]
        },
        {
          "output_type": "stream",
          "name": "stderr",
          "text": [
            "SupervisionWarnings: annotate is deprecated: `BoxAnnotator` is deprecated and will be removed in `supervision-0.22.0`. Use `BoundingBoxAnnotator` and `LabelAnnotator` instead\n"
          ]
        },
        {
          "output_type": "stream",
          "name": "stdout",
          "text": [
            "0: 736x1280 1 person, 5 cars, 1 truck, 1275.3ms\n",
            "Speed: 16.1ms preprocess, 1275.3ms inference, 2.8ms postprocess per image at shape (1, 3, 736, 1280)\n",
            "\n"
          ]
        },
        {
          "output_type": "stream",
          "name": "stderr",
          "text": [
            "SupervisionWarnings: annotate is deprecated: `BoxAnnotator` is deprecated and will be removed in `supervision-0.22.0`. Use `BoundingBoxAnnotator` and `LabelAnnotator` instead\n"
          ]
        },
        {
          "output_type": "stream",
          "name": "stdout",
          "text": [
            "0: 736x1280 5 cars, 1 truck, 1269.2ms\n",
            "Speed: 15.0ms preprocess, 1269.2ms inference, 3.3ms postprocess per image at shape (1, 3, 736, 1280)\n",
            "\n"
          ]
        },
        {
          "output_type": "stream",
          "name": "stderr",
          "text": [
            "SupervisionWarnings: annotate is deprecated: `BoxAnnotator` is deprecated and will be removed in `supervision-0.22.0`. Use `BoundingBoxAnnotator` and `LabelAnnotator` instead\n"
          ]
        },
        {
          "output_type": "stream",
          "name": "stdout",
          "text": [
            "0: 736x1280 5 cars, 1 truck, 1296.5ms\n",
            "Speed: 16.1ms preprocess, 1296.5ms inference, 2.9ms postprocess per image at shape (1, 3, 736, 1280)\n",
            "\n"
          ]
        },
        {
          "output_type": "stream",
          "name": "stderr",
          "text": [
            "SupervisionWarnings: annotate is deprecated: `BoxAnnotator` is deprecated and will be removed in `supervision-0.22.0`. Use `BoundingBoxAnnotator` and `LabelAnnotator` instead\n"
          ]
        },
        {
          "output_type": "stream",
          "name": "stdout",
          "text": [
            "0: 736x1280 1 person, 5 cars, 1 truck, 1543.8ms\n",
            "Speed: 21.2ms preprocess, 1543.8ms inference, 4.0ms postprocess per image at shape (1, 3, 736, 1280)\n",
            "\n"
          ]
        },
        {
          "output_type": "stream",
          "name": "stderr",
          "text": [
            "SupervisionWarnings: annotate is deprecated: `BoxAnnotator` is deprecated and will be removed in `supervision-0.22.0`. Use `BoundingBoxAnnotator` and `LabelAnnotator` instead\n"
          ]
        },
        {
          "output_type": "stream",
          "name": "stdout",
          "text": [
            "0: 736x1280 1 person, 5 cars, 1 truck, 2026.9ms\n",
            "Speed: 24.3ms preprocess, 2026.9ms inference, 4.3ms postprocess per image at shape (1, 3, 736, 1280)\n",
            "\n"
          ]
        },
        {
          "output_type": "stream",
          "name": "stderr",
          "text": [
            "SupervisionWarnings: annotate is deprecated: `BoxAnnotator` is deprecated and will be removed in `supervision-0.22.0`. Use `BoundingBoxAnnotator` and `LabelAnnotator` instead\n"
          ]
        },
        {
          "output_type": "stream",
          "name": "stdout",
          "text": [
            "0: 736x1280 5 cars, 1 truck, 1493.8ms\n",
            "Speed: 20.5ms preprocess, 1493.8ms inference, 3.1ms postprocess per image at shape (1, 3, 736, 1280)\n",
            "\n"
          ]
        },
        {
          "output_type": "stream",
          "name": "stderr",
          "text": [
            "SupervisionWarnings: annotate is deprecated: `BoxAnnotator` is deprecated and will be removed in `supervision-0.22.0`. Use `BoundingBoxAnnotator` and `LabelAnnotator` instead\n"
          ]
        },
        {
          "output_type": "stream",
          "name": "stdout",
          "text": [
            "0: 736x1280 5 cars, 1 truck, 1290.8ms\n",
            "Speed: 16.2ms preprocess, 1290.8ms inference, 2.7ms postprocess per image at shape (1, 3, 736, 1280)\n",
            "\n"
          ]
        },
        {
          "output_type": "stream",
          "name": "stderr",
          "text": [
            "SupervisionWarnings: annotate is deprecated: `BoxAnnotator` is deprecated and will be removed in `supervision-0.22.0`. Use `BoundingBoxAnnotator` and `LabelAnnotator` instead\n"
          ]
        },
        {
          "output_type": "stream",
          "name": "stdout",
          "text": [
            "0: 736x1280 5 cars, 1 truck, 1268.1ms\n",
            "Speed: 14.2ms preprocess, 1268.1ms inference, 2.3ms postprocess per image at shape (1, 3, 736, 1280)\n",
            "\n"
          ]
        },
        {
          "output_type": "stream",
          "name": "stderr",
          "text": [
            "SupervisionWarnings: annotate is deprecated: `BoxAnnotator` is deprecated and will be removed in `supervision-0.22.0`. Use `BoundingBoxAnnotator` and `LabelAnnotator` instead\n"
          ]
        },
        {
          "output_type": "stream",
          "name": "stdout",
          "text": [
            "0: 736x1280 5 cars, 1 truck, 1248.4ms\n",
            "Speed: 19.0ms preprocess, 1248.4ms inference, 2.9ms postprocess per image at shape (1, 3, 736, 1280)\n",
            "\n"
          ]
        },
        {
          "output_type": "stream",
          "name": "stderr",
          "text": [
            "SupervisionWarnings: annotate is deprecated: `BoxAnnotator` is deprecated and will be removed in `supervision-0.22.0`. Use `BoundingBoxAnnotator` and `LabelAnnotator` instead\n"
          ]
        },
        {
          "output_type": "stream",
          "name": "stdout",
          "text": [
            "0: 736x1280 5 cars, 1 truck, 1299.7ms\n",
            "Speed: 19.8ms preprocess, 1299.7ms inference, 3.0ms postprocess per image at shape (1, 3, 736, 1280)\n",
            "\n"
          ]
        },
        {
          "output_type": "stream",
          "name": "stderr",
          "text": [
            "SupervisionWarnings: annotate is deprecated: `BoxAnnotator` is deprecated and will be removed in `supervision-0.22.0`. Use `BoundingBoxAnnotator` and `LabelAnnotator` instead\n"
          ]
        },
        {
          "output_type": "stream",
          "name": "stdout",
          "text": [
            "0: 736x1280 1 person, 5 cars, 1 truck, 1221.8ms\n",
            "Speed: 16.1ms preprocess, 1221.8ms inference, 3.4ms postprocess per image at shape (1, 3, 736, 1280)\n",
            "\n"
          ]
        },
        {
          "output_type": "stream",
          "name": "stderr",
          "text": [
            "SupervisionWarnings: annotate is deprecated: `BoxAnnotator` is deprecated and will be removed in `supervision-0.22.0`. Use `BoundingBoxAnnotator` and `LabelAnnotator` instead\n"
          ]
        },
        {
          "output_type": "stream",
          "name": "stdout",
          "text": [
            "0: 736x1280 5 cars, 1 truck, 1280.1ms\n",
            "Speed: 18.4ms preprocess, 1280.1ms inference, 2.9ms postprocess per image at shape (1, 3, 736, 1280)\n",
            "\n"
          ]
        },
        {
          "output_type": "stream",
          "name": "stderr",
          "text": [
            "SupervisionWarnings: annotate is deprecated: `BoxAnnotator` is deprecated and will be removed in `supervision-0.22.0`. Use `BoundingBoxAnnotator` and `LabelAnnotator` instead\n"
          ]
        },
        {
          "output_type": "stream",
          "name": "stdout",
          "text": [
            "0: 736x1280 5 cars, 1 truck, 1664.4ms\n",
            "Speed: 13.5ms preprocess, 1664.4ms inference, 3.2ms postprocess per image at shape (1, 3, 736, 1280)\n",
            "\n"
          ]
        },
        {
          "output_type": "stream",
          "name": "stderr",
          "text": [
            "SupervisionWarnings: annotate is deprecated: `BoxAnnotator` is deprecated and will be removed in `supervision-0.22.0`. Use `BoundingBoxAnnotator` and `LabelAnnotator` instead\n"
          ]
        },
        {
          "output_type": "stream",
          "name": "stdout",
          "text": [
            "0: 736x1280 5 cars, 1 bus, 1 truck, 1950.4ms\n",
            "Speed: 21.0ms preprocess, 1950.4ms inference, 4.6ms postprocess per image at shape (1, 3, 736, 1280)\n",
            "\n"
          ]
        },
        {
          "output_type": "stream",
          "name": "stderr",
          "text": [
            "SupervisionWarnings: annotate is deprecated: `BoxAnnotator` is deprecated and will be removed in `supervision-0.22.0`. Use `BoundingBoxAnnotator` and `LabelAnnotator` instead\n"
          ]
        },
        {
          "output_type": "stream",
          "name": "stdout",
          "text": [
            "0: 736x1280 5 cars, 1 bus, 1 truck, 1414.0ms\n",
            "Speed: 40.5ms preprocess, 1414.0ms inference, 2.4ms postprocess per image at shape (1, 3, 736, 1280)\n",
            "\n"
          ]
        },
        {
          "output_type": "stream",
          "name": "stderr",
          "text": [
            "SupervisionWarnings: annotate is deprecated: `BoxAnnotator` is deprecated and will be removed in `supervision-0.22.0`. Use `BoundingBoxAnnotator` and `LabelAnnotator` instead\n"
          ]
        },
        {
          "output_type": "stream",
          "name": "stdout",
          "text": [
            "0: 736x1280 5 cars, 1 bus, 1 truck, 1237.2ms\n",
            "Speed: 13.5ms preprocess, 1237.2ms inference, 3.0ms postprocess per image at shape (1, 3, 736, 1280)\n",
            "\n"
          ]
        },
        {
          "output_type": "stream",
          "name": "stderr",
          "text": [
            "SupervisionWarnings: annotate is deprecated: `BoxAnnotator` is deprecated and will be removed in `supervision-0.22.0`. Use `BoundingBoxAnnotator` and `LabelAnnotator` instead\n"
          ]
        },
        {
          "output_type": "stream",
          "name": "stdout",
          "text": [
            "0: 736x1280 1 person, 5 cars, 1 bus, 1 truck, 1326.1ms\n",
            "Speed: 14.8ms preprocess, 1326.1ms inference, 3.0ms postprocess per image at shape (1, 3, 736, 1280)\n",
            "\n"
          ]
        },
        {
          "output_type": "stream",
          "name": "stderr",
          "text": [
            "SupervisionWarnings: annotate is deprecated: `BoxAnnotator` is deprecated and will be removed in `supervision-0.22.0`. Use `BoundingBoxAnnotator` and `LabelAnnotator` instead\n"
          ]
        },
        {
          "output_type": "stream",
          "name": "stdout",
          "text": [
            "0: 736x1280 6 cars, 1 bus, 1 truck, 1239.6ms\n",
            "Speed: 14.8ms preprocess, 1239.6ms inference, 3.3ms postprocess per image at shape (1, 3, 736, 1280)\n",
            "\n"
          ]
        },
        {
          "output_type": "stream",
          "name": "stderr",
          "text": [
            "SupervisionWarnings: annotate is deprecated: `BoxAnnotator` is deprecated and will be removed in `supervision-0.22.0`. Use `BoundingBoxAnnotator` and `LabelAnnotator` instead\n"
          ]
        },
        {
          "output_type": "stream",
          "name": "stdout",
          "text": [
            "0: 736x1280 6 cars, 1 truck, 1344.5ms\n",
            "Speed: 15.4ms preprocess, 1344.5ms inference, 3.4ms postprocess per image at shape (1, 3, 736, 1280)\n",
            "\n"
          ]
        },
        {
          "output_type": "stream",
          "name": "stderr",
          "text": [
            "SupervisionWarnings: annotate is deprecated: `BoxAnnotator` is deprecated and will be removed in `supervision-0.22.0`. Use `BoundingBoxAnnotator` and `LabelAnnotator` instead\n"
          ]
        },
        {
          "output_type": "stream",
          "name": "stdout",
          "text": [
            "0: 736x1280 6 cars, 1 truck, 1242.1ms\n",
            "Speed: 23.5ms preprocess, 1242.1ms inference, 2.4ms postprocess per image at shape (1, 3, 736, 1280)\n",
            "\n"
          ]
        },
        {
          "output_type": "stream",
          "name": "stderr",
          "text": [
            "SupervisionWarnings: annotate is deprecated: `BoxAnnotator` is deprecated and will be removed in `supervision-0.22.0`. Use `BoundingBoxAnnotator` and `LabelAnnotator` instead\n"
          ]
        },
        {
          "output_type": "stream",
          "name": "stdout",
          "text": [
            "0: 736x1280 6 cars, 1 bus, 1 truck, 1229.4ms\n",
            "Speed: 14.9ms preprocess, 1229.4ms inference, 2.3ms postprocess per image at shape (1, 3, 736, 1280)\n",
            "\n"
          ]
        },
        {
          "output_type": "stream",
          "name": "stderr",
          "text": [
            "SupervisionWarnings: annotate is deprecated: `BoxAnnotator` is deprecated and will be removed in `supervision-0.22.0`. Use `BoundingBoxAnnotator` and `LabelAnnotator` instead\n"
          ]
        },
        {
          "output_type": "stream",
          "name": "stdout",
          "text": [
            "0: 736x1280 6 cars, 1 bus, 1 truck, 1676.2ms\n",
            "Speed: 13.3ms preprocess, 1676.2ms inference, 3.1ms postprocess per image at shape (1, 3, 736, 1280)\n",
            "\n"
          ]
        },
        {
          "output_type": "stream",
          "name": "stderr",
          "text": [
            "SupervisionWarnings: annotate is deprecated: `BoxAnnotator` is deprecated and will be removed in `supervision-0.22.0`. Use `BoundingBoxAnnotator` and `LabelAnnotator` instead\n"
          ]
        },
        {
          "output_type": "stream",
          "name": "stdout",
          "text": [
            "0: 736x1280 1 person, 6 cars, 1 bus, 1 truck, 1984.9ms\n",
            "Speed: 25.2ms preprocess, 1984.9ms inference, 4.3ms postprocess per image at shape (1, 3, 736, 1280)\n",
            "\n"
          ]
        },
        {
          "output_type": "stream",
          "name": "stderr",
          "text": [
            "SupervisionWarnings: annotate is deprecated: `BoxAnnotator` is deprecated and will be removed in `supervision-0.22.0`. Use `BoundingBoxAnnotator` and `LabelAnnotator` instead\n"
          ]
        },
        {
          "output_type": "stream",
          "name": "stdout",
          "text": [
            "0: 736x1280 6 cars, 1 bus, 1 truck, 1302.9ms\n",
            "Speed: 16.2ms preprocess, 1302.9ms inference, 2.7ms postprocess per image at shape (1, 3, 736, 1280)\n",
            "\n"
          ]
        },
        {
          "output_type": "stream",
          "name": "stderr",
          "text": [
            "SupervisionWarnings: annotate is deprecated: `BoxAnnotator` is deprecated and will be removed in `supervision-0.22.0`. Use `BoundingBoxAnnotator` and `LabelAnnotator` instead\n"
          ]
        },
        {
          "output_type": "stream",
          "name": "stdout",
          "text": [
            "0: 736x1280 1 person, 6 cars, 1 bus, 1 truck, 1234.6ms\n",
            "Speed: 13.4ms preprocess, 1234.6ms inference, 2.7ms postprocess per image at shape (1, 3, 736, 1280)\n",
            "\n"
          ]
        },
        {
          "output_type": "stream",
          "name": "stderr",
          "text": [
            "SupervisionWarnings: annotate is deprecated: `BoxAnnotator` is deprecated and will be removed in `supervision-0.22.0`. Use `BoundingBoxAnnotator` and `LabelAnnotator` instead\n"
          ]
        },
        {
          "output_type": "stream",
          "name": "stdout",
          "text": [
            "0: 736x1280 1 person, 6 cars, 1 bus, 1 truck, 1216.6ms\n",
            "Speed: 13.3ms preprocess, 1216.6ms inference, 2.3ms postprocess per image at shape (1, 3, 736, 1280)\n",
            "\n"
          ]
        },
        {
          "output_type": "stream",
          "name": "stderr",
          "text": [
            "SupervisionWarnings: annotate is deprecated: `BoxAnnotator` is deprecated and will be removed in `supervision-0.22.0`. Use `BoundingBoxAnnotator` and `LabelAnnotator` instead\n"
          ]
        },
        {
          "output_type": "stream",
          "name": "stdout",
          "text": [
            "0: 736x1280 6 cars, 1 bus, 1 truck, 1228.1ms\n",
            "Speed: 14.9ms preprocess, 1228.1ms inference, 3.3ms postprocess per image at shape (1, 3, 736, 1280)\n",
            "\n"
          ]
        },
        {
          "output_type": "stream",
          "name": "stderr",
          "text": [
            "SupervisionWarnings: annotate is deprecated: `BoxAnnotator` is deprecated and will be removed in `supervision-0.22.0`. Use `BoundingBoxAnnotator` and `LabelAnnotator` instead\n"
          ]
        },
        {
          "output_type": "stream",
          "name": "stdout",
          "text": [
            "0: 736x1280 6 cars, 1 bus, 1 truck, 1204.1ms\n",
            "Speed: 14.1ms preprocess, 1204.1ms inference, 3.1ms postprocess per image at shape (1, 3, 736, 1280)\n",
            "\n"
          ]
        },
        {
          "output_type": "stream",
          "name": "stderr",
          "text": [
            "SupervisionWarnings: annotate is deprecated: `BoxAnnotator` is deprecated and will be removed in `supervision-0.22.0`. Use `BoundingBoxAnnotator` and `LabelAnnotator` instead\n"
          ]
        },
        {
          "output_type": "stream",
          "name": "stdout",
          "text": [
            "0: 736x1280 7 cars, 1 bus, 1 truck, 1236.6ms\n",
            "Speed: 15.7ms preprocess, 1236.6ms inference, 3.4ms postprocess per image at shape (1, 3, 736, 1280)\n",
            "\n"
          ]
        },
        {
          "output_type": "stream",
          "name": "stderr",
          "text": [
            "SupervisionWarnings: annotate is deprecated: `BoxAnnotator` is deprecated and will be removed in `supervision-0.22.0`. Use `BoundingBoxAnnotator` and `LabelAnnotator` instead\n"
          ]
        },
        {
          "output_type": "stream",
          "name": "stdout",
          "text": [
            "0: 736x1280 1 person, 6 cars, 1 bus, 1 truck, 1277.6ms\n",
            "Speed: 14.8ms preprocess, 1277.6ms inference, 2.4ms postprocess per image at shape (1, 3, 736, 1280)\n",
            "\n"
          ]
        },
        {
          "output_type": "stream",
          "name": "stderr",
          "text": [
            "SupervisionWarnings: annotate is deprecated: `BoxAnnotator` is deprecated and will be removed in `supervision-0.22.0`. Use `BoundingBoxAnnotator` and `LabelAnnotator` instead\n"
          ]
        },
        {
          "output_type": "stream",
          "name": "stdout",
          "text": [
            "0: 736x1280 6 cars, 1 bus, 2 trucks, 1679.2ms\n",
            "Speed: 14.4ms preprocess, 1679.2ms inference, 3.2ms postprocess per image at shape (1, 3, 736, 1280)\n",
            "\n"
          ]
        },
        {
          "output_type": "stream",
          "name": "stderr",
          "text": [
            "SupervisionWarnings: annotate is deprecated: `BoxAnnotator` is deprecated and will be removed in `supervision-0.22.0`. Use `BoundingBoxAnnotator` and `LabelAnnotator` instead\n"
          ]
        },
        {
          "output_type": "stream",
          "name": "stdout",
          "text": [
            "0: 736x1280 6 cars, 1 bus, 1 truck, 1949.5ms\n",
            "Speed: 17.7ms preprocess, 1949.5ms inference, 4.5ms postprocess per image at shape (1, 3, 736, 1280)\n",
            "\n"
          ]
        },
        {
          "output_type": "stream",
          "name": "stderr",
          "text": [
            "SupervisionWarnings: annotate is deprecated: `BoxAnnotator` is deprecated and will be removed in `supervision-0.22.0`. Use `BoundingBoxAnnotator` and `LabelAnnotator` instead\n"
          ]
        },
        {
          "output_type": "stream",
          "name": "stdout",
          "text": [
            "0: 736x1280 1 person, 7 cars, 1 bus, 1 truck, 1309.6ms\n",
            "Speed: 37.6ms preprocess, 1309.6ms inference, 2.5ms postprocess per image at shape (1, 3, 736, 1280)\n",
            "\n"
          ]
        },
        {
          "output_type": "stream",
          "name": "stderr",
          "text": [
            "SupervisionWarnings: annotate is deprecated: `BoxAnnotator` is deprecated and will be removed in `supervision-0.22.0`. Use `BoundingBoxAnnotator` and `LabelAnnotator` instead\n"
          ]
        },
        {
          "output_type": "stream",
          "name": "stdout",
          "text": [
            "0: 736x1280 1 person, 6 cars, 1 truck, 1208.2ms\n",
            "Speed: 14.3ms preprocess, 1208.2ms inference, 2.5ms postprocess per image at shape (1, 3, 736, 1280)\n",
            "\n"
          ]
        },
        {
          "output_type": "stream",
          "name": "stderr",
          "text": [
            "SupervisionWarnings: annotate is deprecated: `BoxAnnotator` is deprecated and will be removed in `supervision-0.22.0`. Use `BoundingBoxAnnotator` and `LabelAnnotator` instead\n"
          ]
        },
        {
          "output_type": "stream",
          "name": "stdout",
          "text": [
            "0: 736x1280 1 person, 6 cars, 1 truck, 1221.4ms\n",
            "Speed: 13.7ms preprocess, 1221.4ms inference, 2.3ms postprocess per image at shape (1, 3, 736, 1280)\n",
            "\n"
          ]
        },
        {
          "output_type": "stream",
          "name": "stderr",
          "text": [
            "SupervisionWarnings: annotate is deprecated: `BoxAnnotator` is deprecated and will be removed in `supervision-0.22.0`. Use `BoundingBoxAnnotator` and `LabelAnnotator` instead\n"
          ]
        },
        {
          "output_type": "stream",
          "name": "stdout",
          "text": [
            "0: 736x1280 6 cars, 1 truck, 1224.5ms\n",
            "Speed: 14.1ms preprocess, 1224.5ms inference, 2.3ms postprocess per image at shape (1, 3, 736, 1280)\n",
            "\n"
          ]
        },
        {
          "output_type": "stream",
          "name": "stderr",
          "text": [
            "SupervisionWarnings: annotate is deprecated: `BoxAnnotator` is deprecated and will be removed in `supervision-0.22.0`. Use `BoundingBoxAnnotator` and `LabelAnnotator` instead\n"
          ]
        },
        {
          "output_type": "stream",
          "name": "stdout",
          "text": [
            "0: 736x1280 6 cars, 1 truck, 1246.4ms\n",
            "Speed: 12.7ms preprocess, 1246.4ms inference, 3.4ms postprocess per image at shape (1, 3, 736, 1280)\n",
            "\n"
          ]
        },
        {
          "output_type": "stream",
          "name": "stderr",
          "text": [
            "SupervisionWarnings: annotate is deprecated: `BoxAnnotator` is deprecated and will be removed in `supervision-0.22.0`. Use `BoundingBoxAnnotator` and `LabelAnnotator` instead\n"
          ]
        },
        {
          "output_type": "stream",
          "name": "stdout",
          "text": [
            "0: 736x1280 6 cars, 1 truck, 1302.2ms\n",
            "Speed: 14.8ms preprocess, 1302.2ms inference, 3.3ms postprocess per image at shape (1, 3, 736, 1280)\n",
            "\n"
          ]
        },
        {
          "output_type": "stream",
          "name": "stderr",
          "text": [
            "SupervisionWarnings: annotate is deprecated: `BoxAnnotator` is deprecated and will be removed in `supervision-0.22.0`. Use `BoundingBoxAnnotator` and `LabelAnnotator` instead\n"
          ]
        },
        {
          "output_type": "stream",
          "name": "stdout",
          "text": [
            "0: 736x1280 1 person, 5 cars, 1 truck, 1348.8ms\n",
            "Speed: 15.2ms preprocess, 1348.8ms inference, 3.1ms postprocess per image at shape (1, 3, 736, 1280)\n",
            "\n"
          ]
        },
        {
          "output_type": "stream",
          "name": "stderr",
          "text": [
            "SupervisionWarnings: annotate is deprecated: `BoxAnnotator` is deprecated and will be removed in `supervision-0.22.0`. Use `BoundingBoxAnnotator` and `LabelAnnotator` instead\n"
          ]
        },
        {
          "output_type": "stream",
          "name": "stdout",
          "text": [
            "0: 736x1280 1 person, 5 cars, 1 truck, 1731.1ms\n",
            "Speed: 15.1ms preprocess, 1731.1ms inference, 3.4ms postprocess per image at shape (1, 3, 736, 1280)\n",
            "\n"
          ]
        },
        {
          "output_type": "stream",
          "name": "stderr",
          "text": [
            "SupervisionWarnings: annotate is deprecated: `BoxAnnotator` is deprecated and will be removed in `supervision-0.22.0`. Use `BoundingBoxAnnotator` and `LabelAnnotator` instead\n"
          ]
        },
        {
          "output_type": "stream",
          "name": "stdout",
          "text": [
            "0: 736x1280 1 person, 5 cars, 1 truck, 1966.9ms\n",
            "Speed: 14.3ms preprocess, 1966.9ms inference, 4.7ms postprocess per image at shape (1, 3, 736, 1280)\n",
            "\n"
          ]
        },
        {
          "output_type": "stream",
          "name": "stderr",
          "text": [
            "SupervisionWarnings: annotate is deprecated: `BoxAnnotator` is deprecated and will be removed in `supervision-0.22.0`. Use `BoundingBoxAnnotator` and `LabelAnnotator` instead\n"
          ]
        },
        {
          "output_type": "stream",
          "name": "stdout",
          "text": [
            "0: 736x1280 1 person, 5 cars, 1 truck, 1305.7ms\n",
            "Speed: 17.3ms preprocess, 1305.7ms inference, 2.6ms postprocess per image at shape (1, 3, 736, 1280)\n",
            "\n"
          ]
        },
        {
          "output_type": "stream",
          "name": "stderr",
          "text": [
            "SupervisionWarnings: annotate is deprecated: `BoxAnnotator` is deprecated and will be removed in `supervision-0.22.0`. Use `BoundingBoxAnnotator` and `LabelAnnotator` instead\n"
          ]
        },
        {
          "output_type": "stream",
          "name": "stdout",
          "text": [
            "0: 736x1280 5 cars, 2 trucks, 1249.0ms\n",
            "Speed: 13.4ms preprocess, 1249.0ms inference, 2.4ms postprocess per image at shape (1, 3, 736, 1280)\n",
            "\n"
          ]
        },
        {
          "output_type": "stream",
          "name": "stderr",
          "text": [
            "SupervisionWarnings: annotate is deprecated: `BoxAnnotator` is deprecated and will be removed in `supervision-0.22.0`. Use `BoundingBoxAnnotator` and `LabelAnnotator` instead\n"
          ]
        },
        {
          "output_type": "stream",
          "name": "stdout",
          "text": [
            "0: 736x1280 5 cars, 1 bus, 2 trucks, 1323.1ms\n",
            "Speed: 19.3ms preprocess, 1323.1ms inference, 2.4ms postprocess per image at shape (1, 3, 736, 1280)\n",
            "\n"
          ]
        },
        {
          "output_type": "stream",
          "name": "stderr",
          "text": [
            "SupervisionWarnings: annotate is deprecated: `BoxAnnotator` is deprecated and will be removed in `supervision-0.22.0`. Use `BoundingBoxAnnotator` and `LabelAnnotator` instead\n"
          ]
        },
        {
          "output_type": "stream",
          "name": "stdout",
          "text": [
            "0: 736x1280 1 person, 5 cars, 3 trucks, 1213.2ms\n",
            "Speed: 13.3ms preprocess, 1213.2ms inference, 2.5ms postprocess per image at shape (1, 3, 736, 1280)\n",
            "\n"
          ]
        },
        {
          "output_type": "stream",
          "name": "stderr",
          "text": [
            "SupervisionWarnings: annotate is deprecated: `BoxAnnotator` is deprecated and will be removed in `supervision-0.22.0`. Use `BoundingBoxAnnotator` and `LabelAnnotator` instead\n"
          ]
        },
        {
          "output_type": "stream",
          "name": "stdout",
          "text": [
            "0: 736x1280 4 cars, 1 bus, 1 truck, 1 boat, 1225.5ms\n",
            "Speed: 12.8ms preprocess, 1225.5ms inference, 2.6ms postprocess per image at shape (1, 3, 736, 1280)\n",
            "\n"
          ]
        },
        {
          "output_type": "stream",
          "name": "stderr",
          "text": [
            "SupervisionWarnings: annotate is deprecated: `BoxAnnotator` is deprecated and will be removed in `supervision-0.22.0`. Use `BoundingBoxAnnotator` and `LabelAnnotator` instead\n"
          ]
        },
        {
          "output_type": "stream",
          "name": "stdout",
          "text": [
            "0: 736x1280 4 cars, 1 bus, 1 truck, 1236.5ms\n",
            "Speed: 15.0ms preprocess, 1236.5ms inference, 2.9ms postprocess per image at shape (1, 3, 736, 1280)\n",
            "\n"
          ]
        },
        {
          "output_type": "stream",
          "name": "stderr",
          "text": [
            "SupervisionWarnings: annotate is deprecated: `BoxAnnotator` is deprecated and will be removed in `supervision-0.22.0`. Use `BoundingBoxAnnotator` and `LabelAnnotator` instead\n"
          ]
        },
        {
          "output_type": "stream",
          "name": "stdout",
          "text": [
            "0: 736x1280 4 cars, 1 bus, 1 truck, 1260.9ms\n",
            "Speed: 18.5ms preprocess, 1260.9ms inference, 2.4ms postprocess per image at shape (1, 3, 736, 1280)\n",
            "\n"
          ]
        },
        {
          "output_type": "stream",
          "name": "stderr",
          "text": [
            "SupervisionWarnings: annotate is deprecated: `BoxAnnotator` is deprecated and will be removed in `supervision-0.22.0`. Use `BoundingBoxAnnotator` and `LabelAnnotator` instead\n"
          ]
        },
        {
          "output_type": "stream",
          "name": "stdout",
          "text": [
            "0: 736x1280 1 person, 4 cars, 1 truck, 1785.8ms\n",
            "Speed: 13.4ms preprocess, 1785.8ms inference, 4.0ms postprocess per image at shape (1, 3, 736, 1280)\n",
            "\n"
          ]
        },
        {
          "output_type": "stream",
          "name": "stderr",
          "text": [
            "SupervisionWarnings: annotate is deprecated: `BoxAnnotator` is deprecated and will be removed in `supervision-0.22.0`. Use `BoundingBoxAnnotator` and `LabelAnnotator` instead\n"
          ]
        },
        {
          "output_type": "stream",
          "name": "stdout",
          "text": [
            "0: 736x1280 4 cars, 1 bus, 1 truck, 2027.6ms\n",
            "Speed: 17.3ms preprocess, 2027.6ms inference, 3.8ms postprocess per image at shape (1, 3, 736, 1280)\n",
            "\n"
          ]
        },
        {
          "output_type": "stream",
          "name": "stderr",
          "text": [
            "SupervisionWarnings: annotate is deprecated: `BoxAnnotator` is deprecated and will be removed in `supervision-0.22.0`. Use `BoundingBoxAnnotator` and `LabelAnnotator` instead\n"
          ]
        },
        {
          "output_type": "stream",
          "name": "stdout",
          "text": [
            "0: 736x1280 4 cars, 1 bus, 3 trucks, 1327.2ms\n",
            "Speed: 15.3ms preprocess, 1327.2ms inference, 2.4ms postprocess per image at shape (1, 3, 736, 1280)\n",
            "\n"
          ]
        },
        {
          "output_type": "stream",
          "name": "stderr",
          "text": [
            "SupervisionWarnings: annotate is deprecated: `BoxAnnotator` is deprecated and will be removed in `supervision-0.22.0`. Use `BoundingBoxAnnotator` and `LabelAnnotator` instead\n"
          ]
        },
        {
          "output_type": "stream",
          "name": "stdout",
          "text": [
            "0: 736x1280 4 cars, 1 bus, 2 trucks, 1245.2ms\n",
            "Speed: 14.1ms preprocess, 1245.2ms inference, 3.2ms postprocess per image at shape (1, 3, 736, 1280)\n",
            "\n"
          ]
        },
        {
          "output_type": "stream",
          "name": "stderr",
          "text": [
            "SupervisionWarnings: annotate is deprecated: `BoxAnnotator` is deprecated and will be removed in `supervision-0.22.0`. Use `BoundingBoxAnnotator` and `LabelAnnotator` instead\n"
          ]
        },
        {
          "output_type": "stream",
          "name": "stdout",
          "text": [
            "0: 736x1280 4 cars, 1 bus, 2 trucks, 1333.3ms\n",
            "Speed: 15.1ms preprocess, 1333.3ms inference, 3.2ms postprocess per image at shape (1, 3, 736, 1280)\n",
            "\n"
          ]
        },
        {
          "output_type": "stream",
          "name": "stderr",
          "text": [
            "SupervisionWarnings: annotate is deprecated: `BoxAnnotator` is deprecated and will be removed in `supervision-0.22.0`. Use `BoundingBoxAnnotator` and `LabelAnnotator` instead\n"
          ]
        },
        {
          "output_type": "stream",
          "name": "stdout",
          "text": [
            "0: 736x1280 4 cars, 1 bus, 1 truck, 1245.7ms\n",
            "Speed: 15.4ms preprocess, 1245.7ms inference, 2.6ms postprocess per image at shape (1, 3, 736, 1280)\n",
            "\n"
          ]
        },
        {
          "output_type": "stream",
          "name": "stderr",
          "text": [
            "SupervisionWarnings: annotate is deprecated: `BoxAnnotator` is deprecated and will be removed in `supervision-0.22.0`. Use `BoundingBoxAnnotator` and `LabelAnnotator` instead\n"
          ]
        },
        {
          "output_type": "stream",
          "name": "stdout",
          "text": [
            "0: 736x1280 4 cars, 1 bus, 1 truck, 1221.9ms\n",
            "Speed: 25.9ms preprocess, 1221.9ms inference, 2.2ms postprocess per image at shape (1, 3, 736, 1280)\n",
            "\n"
          ]
        },
        {
          "output_type": "stream",
          "name": "stderr",
          "text": [
            "SupervisionWarnings: annotate is deprecated: `BoxAnnotator` is deprecated and will be removed in `supervision-0.22.0`. Use `BoundingBoxAnnotator` and `LabelAnnotator` instead\n"
          ]
        },
        {
          "output_type": "stream",
          "name": "stdout",
          "text": [
            "0: 736x1280 4 cars, 1 bus, 1 truck, 1247.9ms\n",
            "Speed: 14.5ms preprocess, 1247.9ms inference, 3.1ms postprocess per image at shape (1, 3, 736, 1280)\n",
            "\n"
          ]
        },
        {
          "output_type": "stream",
          "name": "stderr",
          "text": [
            "SupervisionWarnings: annotate is deprecated: `BoxAnnotator` is deprecated and will be removed in `supervision-0.22.0`. Use `BoundingBoxAnnotator` and `LabelAnnotator` instead\n"
          ]
        },
        {
          "output_type": "stream",
          "name": "stdout",
          "text": [
            "0: 736x1280 4 cars, 1 bus, 1 truck, 1253.3ms\n",
            "Speed: 15.0ms preprocess, 1253.3ms inference, 3.1ms postprocess per image at shape (1, 3, 736, 1280)\n",
            "\n"
          ]
        },
        {
          "output_type": "stream",
          "name": "stderr",
          "text": [
            "SupervisionWarnings: annotate is deprecated: `BoxAnnotator` is deprecated and will be removed in `supervision-0.22.0`. Use `BoundingBoxAnnotator` and `LabelAnnotator` instead\n"
          ]
        },
        {
          "output_type": "stream",
          "name": "stdout",
          "text": [
            "0: 736x1280 4 cars, 1 bus, 2 trucks, 1863.2ms\n",
            "Speed: 18.8ms preprocess, 1863.2ms inference, 4.1ms postprocess per image at shape (1, 3, 736, 1280)\n",
            "\n"
          ]
        },
        {
          "output_type": "stream",
          "name": "stderr",
          "text": [
            "SupervisionWarnings: annotate is deprecated: `BoxAnnotator` is deprecated and will be removed in `supervision-0.22.0`. Use `BoundingBoxAnnotator` and `LabelAnnotator` instead\n"
          ]
        },
        {
          "output_type": "stream",
          "name": "stdout",
          "text": [
            "0: 736x1280 4 cars, 1 bus, 1 truck, 1967.3ms\n",
            "Speed: 28.8ms preprocess, 1967.3ms inference, 3.0ms postprocess per image at shape (1, 3, 736, 1280)\n",
            "\n"
          ]
        },
        {
          "output_type": "stream",
          "name": "stderr",
          "text": [
            "SupervisionWarnings: annotate is deprecated: `BoxAnnotator` is deprecated and will be removed in `supervision-0.22.0`. Use `BoundingBoxAnnotator` and `LabelAnnotator` instead\n"
          ]
        },
        {
          "output_type": "stream",
          "name": "stdout",
          "text": [
            "0: 736x1280 4 cars, 1 bus, 2 trucks, 1265.6ms\n",
            "Speed: 13.0ms preprocess, 1265.6ms inference, 3.1ms postprocess per image at shape (1, 3, 736, 1280)\n",
            "\n"
          ]
        },
        {
          "output_type": "stream",
          "name": "stderr",
          "text": [
            "SupervisionWarnings: annotate is deprecated: `BoxAnnotator` is deprecated and will be removed in `supervision-0.22.0`. Use `BoundingBoxAnnotator` and `LabelAnnotator` instead\n"
          ]
        },
        {
          "output_type": "stream",
          "name": "stdout",
          "text": [
            "0: 736x1280 4 cars, 1 bus, 1 truck, 1297.4ms\n",
            "Speed: 20.8ms preprocess, 1297.4ms inference, 2.4ms postprocess per image at shape (1, 3, 736, 1280)\n",
            "\n"
          ]
        },
        {
          "output_type": "stream",
          "name": "stderr",
          "text": [
            "SupervisionWarnings: annotate is deprecated: `BoxAnnotator` is deprecated and will be removed in `supervision-0.22.0`. Use `BoundingBoxAnnotator` and `LabelAnnotator` instead\n"
          ]
        },
        {
          "output_type": "stream",
          "name": "stdout",
          "text": [
            "0: 736x1280 4 cars, 1 bus, 1 truck, 1215.6ms\n",
            "Speed: 13.3ms preprocess, 1215.6ms inference, 2.4ms postprocess per image at shape (1, 3, 736, 1280)\n",
            "\n"
          ]
        },
        {
          "output_type": "stream",
          "name": "stderr",
          "text": [
            "SupervisionWarnings: annotate is deprecated: `BoxAnnotator` is deprecated and will be removed in `supervision-0.22.0`. Use `BoundingBoxAnnotator` and `LabelAnnotator` instead\n"
          ]
        },
        {
          "output_type": "stream",
          "name": "stdout",
          "text": [
            "0: 736x1280 4 cars, 1 bus, 1291.9ms\n",
            "Speed: 13.0ms preprocess, 1291.9ms inference, 3.3ms postprocess per image at shape (1, 3, 736, 1280)\n",
            "\n"
          ]
        },
        {
          "output_type": "stream",
          "name": "stderr",
          "text": [
            "SupervisionWarnings: annotate is deprecated: `BoxAnnotator` is deprecated and will be removed in `supervision-0.22.0`. Use `BoundingBoxAnnotator` and `LabelAnnotator` instead\n"
          ]
        },
        {
          "output_type": "stream",
          "name": "stdout",
          "text": [
            "0: 736x1280 4 cars, 1 bus, 1257.7ms\n",
            "Speed: 17.7ms preprocess, 1257.7ms inference, 3.2ms postprocess per image at shape (1, 3, 736, 1280)\n",
            "\n"
          ]
        },
        {
          "output_type": "stream",
          "name": "stderr",
          "text": [
            "SupervisionWarnings: annotate is deprecated: `BoxAnnotator` is deprecated and will be removed in `supervision-0.22.0`. Use `BoundingBoxAnnotator` and `LabelAnnotator` instead\n"
          ]
        },
        {
          "output_type": "stream",
          "name": "stdout",
          "text": [
            "0: 736x1280 4 cars, 1 bus, 1257.4ms\n",
            "Speed: 15.4ms preprocess, 1257.4ms inference, 2.6ms postprocess per image at shape (1, 3, 736, 1280)\n",
            "\n"
          ]
        },
        {
          "output_type": "stream",
          "name": "stderr",
          "text": [
            "SupervisionWarnings: annotate is deprecated: `BoxAnnotator` is deprecated and will be removed in `supervision-0.22.0`. Use `BoundingBoxAnnotator` and `LabelAnnotator` instead\n"
          ]
        },
        {
          "output_type": "stream",
          "name": "stdout",
          "text": [
            "0: 736x1280 4 cars, 1 bus, 1319.2ms\n",
            "Speed: 20.6ms preprocess, 1319.2ms inference, 3.4ms postprocess per image at shape (1, 3, 736, 1280)\n",
            "\n"
          ]
        },
        {
          "output_type": "stream",
          "name": "stderr",
          "text": [
            "SupervisionWarnings: annotate is deprecated: `BoxAnnotator` is deprecated and will be removed in `supervision-0.22.0`. Use `BoundingBoxAnnotator` and `LabelAnnotator` instead\n"
          ]
        },
        {
          "output_type": "stream",
          "name": "stdout",
          "text": [
            "0: 736x1280 4 cars, 1 bus, 1 truck, 2122.4ms\n",
            "Speed: 21.9ms preprocess, 2122.4ms inference, 3.0ms postprocess per image at shape (1, 3, 736, 1280)\n",
            "\n"
          ]
        },
        {
          "output_type": "stream",
          "name": "stderr",
          "text": [
            "SupervisionWarnings: annotate is deprecated: `BoxAnnotator` is deprecated and will be removed in `supervision-0.22.0`. Use `BoundingBoxAnnotator` and `LabelAnnotator` instead\n"
          ]
        },
        {
          "output_type": "stream",
          "name": "stdout",
          "text": [
            "0: 736x1280 4 cars, 1 bus, 2092.4ms\n",
            "Speed: 16.6ms preprocess, 2092.4ms inference, 6.4ms postprocess per image at shape (1, 3, 736, 1280)\n",
            "\n"
          ]
        },
        {
          "output_type": "stream",
          "name": "stderr",
          "text": [
            "SupervisionWarnings: annotate is deprecated: `BoxAnnotator` is deprecated and will be removed in `supervision-0.22.0`. Use `BoundingBoxAnnotator` and `LabelAnnotator` instead\n"
          ]
        },
        {
          "output_type": "stream",
          "name": "stdout",
          "text": [
            "0: 736x1280 4 cars, 1 bus, 2120.4ms\n",
            "Speed: 23.9ms preprocess, 2120.4ms inference, 3.2ms postprocess per image at shape (1, 3, 736, 1280)\n",
            "\n"
          ]
        },
        {
          "output_type": "stream",
          "name": "stderr",
          "text": [
            "SupervisionWarnings: annotate is deprecated: `BoxAnnotator` is deprecated and will be removed in `supervision-0.22.0`. Use `BoundingBoxAnnotator` and `LabelAnnotator` instead\n"
          ]
        },
        {
          "output_type": "stream",
          "name": "stdout",
          "text": [
            "0: 736x1280 4 cars, 1 bus, 1254.3ms\n",
            "Speed: 14.6ms preprocess, 1254.3ms inference, 2.6ms postprocess per image at shape (1, 3, 736, 1280)\n",
            "\n"
          ]
        },
        {
          "output_type": "stream",
          "name": "stderr",
          "text": [
            "SupervisionWarnings: annotate is deprecated: `BoxAnnotator` is deprecated and will be removed in `supervision-0.22.0`. Use `BoundingBoxAnnotator` and `LabelAnnotator` instead\n"
          ]
        },
        {
          "output_type": "stream",
          "name": "stdout",
          "text": [
            "0: 736x1280 4 cars, 1 bus, 1 truck, 1244.2ms\n",
            "Speed: 13.6ms preprocess, 1244.2ms inference, 3.1ms postprocess per image at shape (1, 3, 736, 1280)\n",
            "\n"
          ]
        },
        {
          "output_type": "stream",
          "name": "stderr",
          "text": [
            "SupervisionWarnings: annotate is deprecated: `BoxAnnotator` is deprecated and will be removed in `supervision-0.22.0`. Use `BoundingBoxAnnotator` and `LabelAnnotator` instead\n"
          ]
        },
        {
          "output_type": "stream",
          "name": "stdout",
          "text": [
            "0: 736x1280 4 cars, 1 bus, 1 truck, 1271.8ms\n",
            "Speed: 15.0ms preprocess, 1271.8ms inference, 2.3ms postprocess per image at shape (1, 3, 736, 1280)\n",
            "\n"
          ]
        },
        {
          "output_type": "stream",
          "name": "stderr",
          "text": [
            "SupervisionWarnings: annotate is deprecated: `BoxAnnotator` is deprecated and will be removed in `supervision-0.22.0`. Use `BoundingBoxAnnotator` and `LabelAnnotator` instead\n"
          ]
        },
        {
          "output_type": "stream",
          "name": "stdout",
          "text": [
            "0: 736x1280 4 cars, 1 bus, 1 truck, 1217.3ms\n",
            "Speed: 12.9ms preprocess, 1217.3ms inference, 2.8ms postprocess per image at shape (1, 3, 736, 1280)\n",
            "\n"
          ]
        },
        {
          "output_type": "stream",
          "name": "stderr",
          "text": [
            "SupervisionWarnings: annotate is deprecated: `BoxAnnotator` is deprecated and will be removed in `supervision-0.22.0`. Use `BoundingBoxAnnotator` and `LabelAnnotator` instead\n"
          ]
        },
        {
          "output_type": "stream",
          "name": "stdout",
          "text": [
            "0: 736x1280 4 cars, 1 bus, 1 truck, 1231.6ms\n",
            "Speed: 13.0ms preprocess, 1231.6ms inference, 3.0ms postprocess per image at shape (1, 3, 736, 1280)\n",
            "\n"
          ]
        },
        {
          "output_type": "stream",
          "name": "stderr",
          "text": [
            "SupervisionWarnings: annotate is deprecated: `BoxAnnotator` is deprecated and will be removed in `supervision-0.22.0`. Use `BoundingBoxAnnotator` and `LabelAnnotator` instead\n"
          ]
        },
        {
          "output_type": "stream",
          "name": "stdout",
          "text": [
            "0: 736x1280 4 cars, 1 bus, 1332.3ms\n",
            "Speed: 16.1ms preprocess, 1332.3ms inference, 3.7ms postprocess per image at shape (1, 3, 736, 1280)\n",
            "\n"
          ]
        },
        {
          "output_type": "stream",
          "name": "stderr",
          "text": [
            "SupervisionWarnings: annotate is deprecated: `BoxAnnotator` is deprecated and will be removed in `supervision-0.22.0`. Use `BoundingBoxAnnotator` and `LabelAnnotator` instead\n"
          ]
        },
        {
          "output_type": "stream",
          "name": "stdout",
          "text": [
            "0: 736x1280 4 cars, 1 bus, 1221.6ms\n",
            "Speed: 14.8ms preprocess, 1221.6ms inference, 5.6ms postprocess per image at shape (1, 3, 736, 1280)\n",
            "\n"
          ]
        },
        {
          "output_type": "stream",
          "name": "stderr",
          "text": [
            "SupervisionWarnings: annotate is deprecated: `BoxAnnotator` is deprecated and will be removed in `supervision-0.22.0`. Use `BoundingBoxAnnotator` and `LabelAnnotator` instead\n"
          ]
        },
        {
          "output_type": "stream",
          "name": "stdout",
          "text": [
            "0: 736x1280 4 cars, 1 bus, 1919.4ms\n",
            "Speed: 27.6ms preprocess, 1919.4ms inference, 6.1ms postprocess per image at shape (1, 3, 736, 1280)\n",
            "\n"
          ]
        },
        {
          "output_type": "stream",
          "name": "stderr",
          "text": [
            "SupervisionWarnings: annotate is deprecated: `BoxAnnotator` is deprecated and will be removed in `supervision-0.22.0`. Use `BoundingBoxAnnotator` and `LabelAnnotator` instead\n"
          ]
        },
        {
          "output_type": "stream",
          "name": "stdout",
          "text": [
            "0: 736x1280 4 cars, 1 bus, 1810.0ms\n",
            "Speed: 25.9ms preprocess, 1810.0ms inference, 3.4ms postprocess per image at shape (1, 3, 736, 1280)\n",
            "\n"
          ]
        },
        {
          "output_type": "stream",
          "name": "stderr",
          "text": [
            "SupervisionWarnings: annotate is deprecated: `BoxAnnotator` is deprecated and will be removed in `supervision-0.22.0`. Use `BoundingBoxAnnotator` and `LabelAnnotator` instead\n"
          ]
        },
        {
          "output_type": "stream",
          "name": "stdout",
          "text": [
            "0: 736x1280 4 cars, 1 bus, 1356.1ms\n",
            "Speed: 15.2ms preprocess, 1356.1ms inference, 3.6ms postprocess per image at shape (1, 3, 736, 1280)\n",
            "\n"
          ]
        },
        {
          "output_type": "stream",
          "name": "stderr",
          "text": [
            "SupervisionWarnings: annotate is deprecated: `BoxAnnotator` is deprecated and will be removed in `supervision-0.22.0`. Use `BoundingBoxAnnotator` and `LabelAnnotator` instead\n"
          ]
        },
        {
          "output_type": "stream",
          "name": "stdout",
          "text": [
            "0: 736x1280 4 cars, 1 bus, 1314.3ms\n",
            "Speed: 16.6ms preprocess, 1314.3ms inference, 2.7ms postprocess per image at shape (1, 3, 736, 1280)\n",
            "\n"
          ]
        },
        {
          "output_type": "stream",
          "name": "stderr",
          "text": [
            "SupervisionWarnings: annotate is deprecated: `BoxAnnotator` is deprecated and will be removed in `supervision-0.22.0`. Use `BoundingBoxAnnotator` and `LabelAnnotator` instead\n"
          ]
        },
        {
          "output_type": "stream",
          "name": "stdout",
          "text": [
            "0: 736x1280 4 cars, 1 bus, 1292.7ms\n",
            "Speed: 14.1ms preprocess, 1292.7ms inference, 3.2ms postprocess per image at shape (1, 3, 736, 1280)\n",
            "\n"
          ]
        },
        {
          "output_type": "stream",
          "name": "stderr",
          "text": [
            "SupervisionWarnings: annotate is deprecated: `BoxAnnotator` is deprecated and will be removed in `supervision-0.22.0`. Use `BoundingBoxAnnotator` and `LabelAnnotator` instead\n"
          ]
        },
        {
          "output_type": "stream",
          "name": "stdout",
          "text": [
            "0: 736x1280 4 cars, 1 bus, 1298.6ms\n",
            "Speed: 19.3ms preprocess, 1298.6ms inference, 2.7ms postprocess per image at shape (1, 3, 736, 1280)\n",
            "\n"
          ]
        },
        {
          "output_type": "stream",
          "name": "stderr",
          "text": [
            "SupervisionWarnings: annotate is deprecated: `BoxAnnotator` is deprecated and will be removed in `supervision-0.22.0`. Use `BoundingBoxAnnotator` and `LabelAnnotator` instead\n"
          ]
        },
        {
          "output_type": "stream",
          "name": "stdout",
          "text": [
            "0: 736x1280 4 cars, 1 bus, 1322.6ms\n",
            "Speed: 13.7ms preprocess, 1322.6ms inference, 2.4ms postprocess per image at shape (1, 3, 736, 1280)\n",
            "\n"
          ]
        },
        {
          "output_type": "stream",
          "name": "stderr",
          "text": [
            "SupervisionWarnings: annotate is deprecated: `BoxAnnotator` is deprecated and will be removed in `supervision-0.22.0`. Use `BoundingBoxAnnotator` and `LabelAnnotator` instead\n"
          ]
        },
        {
          "output_type": "stream",
          "name": "stdout",
          "text": [
            "0: 736x1280 4 cars, 1 bus, 1270.7ms\n",
            "Speed: 19.3ms preprocess, 1270.7ms inference, 3.1ms postprocess per image at shape (1, 3, 736, 1280)\n",
            "\n"
          ]
        },
        {
          "output_type": "stream",
          "name": "stderr",
          "text": [
            "SupervisionWarnings: annotate is deprecated: `BoxAnnotator` is deprecated and will be removed in `supervision-0.22.0`. Use `BoundingBoxAnnotator` and `LabelAnnotator` instead\n"
          ]
        },
        {
          "output_type": "stream",
          "name": "stdout",
          "text": [
            "0: 736x1280 4 cars, 1 bus, 1483.7ms\n",
            "Speed: 20.3ms preprocess, 1483.7ms inference, 3.4ms postprocess per image at shape (1, 3, 736, 1280)\n",
            "\n"
          ]
        },
        {
          "output_type": "stream",
          "name": "stderr",
          "text": [
            "SupervisionWarnings: annotate is deprecated: `BoxAnnotator` is deprecated and will be removed in `supervision-0.22.0`. Use `BoundingBoxAnnotator` and `LabelAnnotator` instead\n"
          ]
        },
        {
          "output_type": "stream",
          "name": "stdout",
          "text": [
            "0: 736x1280 4 cars, 1 bus, 1921.7ms\n",
            "Speed: 41.2ms preprocess, 1921.7ms inference, 3.4ms postprocess per image at shape (1, 3, 736, 1280)\n",
            "\n"
          ]
        },
        {
          "output_type": "stream",
          "name": "stderr",
          "text": [
            "SupervisionWarnings: annotate is deprecated: `BoxAnnotator` is deprecated and will be removed in `supervision-0.22.0`. Use `BoundingBoxAnnotator` and `LabelAnnotator` instead\n"
          ]
        },
        {
          "output_type": "stream",
          "name": "stdout",
          "text": [
            "0: 736x1280 4 cars, 1 bus, 1523.6ms\n",
            "Speed: 26.9ms preprocess, 1523.6ms inference, 2.3ms postprocess per image at shape (1, 3, 736, 1280)\n",
            "\n"
          ]
        },
        {
          "output_type": "stream",
          "name": "stderr",
          "text": [
            "SupervisionWarnings: annotate is deprecated: `BoxAnnotator` is deprecated and will be removed in `supervision-0.22.0`. Use `BoundingBoxAnnotator` and `LabelAnnotator` instead\n"
          ]
        },
        {
          "output_type": "stream",
          "name": "stdout",
          "text": [
            "0: 736x1280 4 cars, 1 bus, 1225.4ms\n",
            "Speed: 12.9ms preprocess, 1225.4ms inference, 3.3ms postprocess per image at shape (1, 3, 736, 1280)\n",
            "\n"
          ]
        },
        {
          "output_type": "stream",
          "name": "stderr",
          "text": [
            "SupervisionWarnings: annotate is deprecated: `BoxAnnotator` is deprecated and will be removed in `supervision-0.22.0`. Use `BoundingBoxAnnotator` and `LabelAnnotator` instead\n"
          ]
        },
        {
          "output_type": "stream",
          "name": "stdout",
          "text": [
            "0: 736x1280 4 cars, 1 bus, 1304.2ms\n",
            "Speed: 18.3ms preprocess, 1304.2ms inference, 3.3ms postprocess per image at shape (1, 3, 736, 1280)\n",
            "\n"
          ]
        },
        {
          "output_type": "stream",
          "name": "stderr",
          "text": [
            "SupervisionWarnings: annotate is deprecated: `BoxAnnotator` is deprecated and will be removed in `supervision-0.22.0`. Use `BoundingBoxAnnotator` and `LabelAnnotator` instead\n"
          ]
        },
        {
          "output_type": "stream",
          "name": "stdout",
          "text": [
            "0: 736x1280 4 cars, 1 bus, 1294.8ms\n",
            "Speed: 18.2ms preprocess, 1294.8ms inference, 2.6ms postprocess per image at shape (1, 3, 736, 1280)\n",
            "\n"
          ]
        },
        {
          "output_type": "stream",
          "name": "stderr",
          "text": [
            "SupervisionWarnings: annotate is deprecated: `BoxAnnotator` is deprecated and will be removed in `supervision-0.22.0`. Use `BoundingBoxAnnotator` and `LabelAnnotator` instead\n"
          ]
        },
        {
          "output_type": "stream",
          "name": "stdout",
          "text": [
            "0: 736x1280 4 cars, 1 bus, 1 truck, 1254.3ms\n",
            "Speed: 13.2ms preprocess, 1254.3ms inference, 2.3ms postprocess per image at shape (1, 3, 736, 1280)\n",
            "\n"
          ]
        },
        {
          "output_type": "stream",
          "name": "stderr",
          "text": [
            "SupervisionWarnings: annotate is deprecated: `BoxAnnotator` is deprecated and will be removed in `supervision-0.22.0`. Use `BoundingBoxAnnotator` and `LabelAnnotator` instead\n"
          ]
        },
        {
          "output_type": "stream",
          "name": "stdout",
          "text": [
            "0: 736x1280 4 cars, 1 bus, 1 truck, 1213.1ms\n",
            "Speed: 13.6ms preprocess, 1213.1ms inference, 2.5ms postprocess per image at shape (1, 3, 736, 1280)\n",
            "\n"
          ]
        },
        {
          "output_type": "stream",
          "name": "stderr",
          "text": [
            "SupervisionWarnings: annotate is deprecated: `BoxAnnotator` is deprecated and will be removed in `supervision-0.22.0`. Use `BoundingBoxAnnotator` and `LabelAnnotator` instead\n"
          ]
        },
        {
          "output_type": "stream",
          "name": "stdout",
          "text": [
            "0: 736x1280 4 cars, 1 bus, 1 truck, 1292.7ms\n",
            "Speed: 21.0ms preprocess, 1292.7ms inference, 3.7ms postprocess per image at shape (1, 3, 736, 1280)\n",
            "\n"
          ]
        },
        {
          "output_type": "stream",
          "name": "stderr",
          "text": [
            "SupervisionWarnings: annotate is deprecated: `BoxAnnotator` is deprecated and will be removed in `supervision-0.22.0`. Use `BoundingBoxAnnotator` and `LabelAnnotator` instead\n"
          ]
        },
        {
          "output_type": "stream",
          "name": "stdout",
          "text": [
            "0: 736x1280 4 cars, 1 bus, 1494.5ms\n",
            "Speed: 13.2ms preprocess, 1494.5ms inference, 4.1ms postprocess per image at shape (1, 3, 736, 1280)\n",
            "\n"
          ]
        },
        {
          "output_type": "stream",
          "name": "stderr",
          "text": [
            "SupervisionWarnings: annotate is deprecated: `BoxAnnotator` is deprecated and will be removed in `supervision-0.22.0`. Use `BoundingBoxAnnotator` and `LabelAnnotator` instead\n"
          ]
        },
        {
          "output_type": "stream",
          "name": "stdout",
          "text": [
            "0: 736x1280 4 cars, 1 bus, 2011.5ms\n",
            "Speed: 48.7ms preprocess, 2011.5ms inference, 4.5ms postprocess per image at shape (1, 3, 736, 1280)\n",
            "\n"
          ]
        },
        {
          "output_type": "stream",
          "name": "stderr",
          "text": [
            "SupervisionWarnings: annotate is deprecated: `BoxAnnotator` is deprecated and will be removed in `supervision-0.22.0`. Use `BoundingBoxAnnotator` and `LabelAnnotator` instead\n"
          ]
        },
        {
          "output_type": "stream",
          "name": "stdout",
          "text": [
            "0: 736x1280 4 cars, 1 bus, 1481.6ms\n",
            "Speed: 25.4ms preprocess, 1481.6ms inference, 2.9ms postprocess per image at shape (1, 3, 736, 1280)\n",
            "\n"
          ]
        },
        {
          "output_type": "stream",
          "name": "stderr",
          "text": [
            "SupervisionWarnings: annotate is deprecated: `BoxAnnotator` is deprecated and will be removed in `supervision-0.22.0`. Use `BoundingBoxAnnotator` and `LabelAnnotator` instead\n"
          ]
        },
        {
          "output_type": "stream",
          "name": "stdout",
          "text": [
            "0: 736x1280 4 cars, 1 bus, 1291.7ms\n",
            "Speed: 15.0ms preprocess, 1291.7ms inference, 3.3ms postprocess per image at shape (1, 3, 736, 1280)\n",
            "\n"
          ]
        },
        {
          "output_type": "stream",
          "name": "stderr",
          "text": [
            "SupervisionWarnings: annotate is deprecated: `BoxAnnotator` is deprecated and will be removed in `supervision-0.22.0`. Use `BoundingBoxAnnotator` and `LabelAnnotator` instead\n"
          ]
        },
        {
          "output_type": "stream",
          "name": "stdout",
          "text": [
            "0: 736x1280 4 cars, 1 bus, 1 truck, 1212.3ms\n",
            "Speed: 17.2ms preprocess, 1212.3ms inference, 3.3ms postprocess per image at shape (1, 3, 736, 1280)\n",
            "\n"
          ]
        },
        {
          "output_type": "stream",
          "name": "stderr",
          "text": [
            "SupervisionWarnings: annotate is deprecated: `BoxAnnotator` is deprecated and will be removed in `supervision-0.22.0`. Use `BoundingBoxAnnotator` and `LabelAnnotator` instead\n"
          ]
        },
        {
          "output_type": "stream",
          "name": "stdout",
          "text": [
            "0: 736x1280 4 cars, 1 truck, 1231.5ms\n",
            "Speed: 18.2ms preprocess, 1231.5ms inference, 2.4ms postprocess per image at shape (1, 3, 736, 1280)\n",
            "\n"
          ]
        },
        {
          "output_type": "stream",
          "name": "stderr",
          "text": [
            "SupervisionWarnings: annotate is deprecated: `BoxAnnotator` is deprecated and will be removed in `supervision-0.22.0`. Use `BoundingBoxAnnotator` and `LabelAnnotator` instead\n"
          ]
        },
        {
          "output_type": "stream",
          "name": "stdout",
          "text": [
            "0: 736x1280 5 cars, 1220.0ms\n",
            "Speed: 12.8ms preprocess, 1220.0ms inference, 2.6ms postprocess per image at shape (1, 3, 736, 1280)\n",
            "\n"
          ]
        },
        {
          "output_type": "stream",
          "name": "stderr",
          "text": [
            "SupervisionWarnings: annotate is deprecated: `BoxAnnotator` is deprecated and will be removed in `supervision-0.22.0`. Use `BoundingBoxAnnotator` and `LabelAnnotator` instead\n"
          ]
        },
        {
          "output_type": "stream",
          "name": "stdout",
          "text": [
            "0: 736x1280 4 cars, 1 truck, 1319.5ms\n",
            "Speed: 14.6ms preprocess, 1319.5ms inference, 2.4ms postprocess per image at shape (1, 3, 736, 1280)\n",
            "\n"
          ]
        },
        {
          "output_type": "stream",
          "name": "stderr",
          "text": [
            "SupervisionWarnings: annotate is deprecated: `BoxAnnotator` is deprecated and will be removed in `supervision-0.22.0`. Use `BoundingBoxAnnotator` and `LabelAnnotator` instead\n"
          ]
        },
        {
          "output_type": "stream",
          "name": "stdout",
          "text": [
            "0: 736x1280 4 cars, 1 truck, 1244.0ms\n",
            "Speed: 12.9ms preprocess, 1244.0ms inference, 3.0ms postprocess per image at shape (1, 3, 736, 1280)\n",
            "\n"
          ]
        },
        {
          "output_type": "stream",
          "name": "stderr",
          "text": [
            "SupervisionWarnings: annotate is deprecated: `BoxAnnotator` is deprecated and will be removed in `supervision-0.22.0`. Use `BoundingBoxAnnotator` and `LabelAnnotator` instead\n"
          ]
        },
        {
          "output_type": "stream",
          "name": "stdout",
          "text": [
            "0: 736x1280 4 cars, 1 truck, 1477.9ms\n",
            "Speed: 13.0ms preprocess, 1477.9ms inference, 3.0ms postprocess per image at shape (1, 3, 736, 1280)\n",
            "\n"
          ]
        },
        {
          "output_type": "stream",
          "name": "stderr",
          "text": [
            "SupervisionWarnings: annotate is deprecated: `BoxAnnotator` is deprecated and will be removed in `supervision-0.22.0`. Use `BoundingBoxAnnotator` and `LabelAnnotator` instead\n"
          ]
        },
        {
          "output_type": "stream",
          "name": "stdout",
          "text": [
            "0: 736x1280 4 cars, 1867.7ms\n",
            "Speed: 12.9ms preprocess, 1867.7ms inference, 3.1ms postprocess per image at shape (1, 3, 736, 1280)\n",
            "\n"
          ]
        },
        {
          "output_type": "stream",
          "name": "stderr",
          "text": [
            "SupervisionWarnings: annotate is deprecated: `BoxAnnotator` is deprecated and will be removed in `supervision-0.22.0`. Use `BoundingBoxAnnotator` and `LabelAnnotator` instead\n"
          ]
        },
        {
          "output_type": "stream",
          "name": "stdout",
          "text": [
            "0: 736x1280 4 cars, 1 bus, 1 truck, 1563.4ms\n",
            "Speed: 17.7ms preprocess, 1563.4ms inference, 2.3ms postprocess per image at shape (1, 3, 736, 1280)\n",
            "\n"
          ]
        },
        {
          "output_type": "stream",
          "name": "stderr",
          "text": [
            "SupervisionWarnings: annotate is deprecated: `BoxAnnotator` is deprecated and will be removed in `supervision-0.22.0`. Use `BoundingBoxAnnotator` and `LabelAnnotator` instead\n"
          ]
        },
        {
          "output_type": "stream",
          "name": "stdout",
          "text": [
            "0: 736x1280 4 cars, 1 truck, 1249.6ms\n",
            "Speed: 12.7ms preprocess, 1249.6ms inference, 2.6ms postprocess per image at shape (1, 3, 736, 1280)\n",
            "\n"
          ]
        },
        {
          "output_type": "stream",
          "name": "stderr",
          "text": [
            "SupervisionWarnings: annotate is deprecated: `BoxAnnotator` is deprecated and will be removed in `supervision-0.22.0`. Use `BoundingBoxAnnotator` and `LabelAnnotator` instead\n"
          ]
        },
        {
          "output_type": "stream",
          "name": "stdout",
          "text": [
            "0: 736x1280 4 cars, 1 truck, 1221.5ms\n",
            "Speed: 12.8ms preprocess, 1221.5ms inference, 2.4ms postprocess per image at shape (1, 3, 736, 1280)\n",
            "\n"
          ]
        },
        {
          "output_type": "stream",
          "name": "stderr",
          "text": [
            "SupervisionWarnings: annotate is deprecated: `BoxAnnotator` is deprecated and will be removed in `supervision-0.22.0`. Use `BoundingBoxAnnotator` and `LabelAnnotator` instead\n"
          ]
        },
        {
          "output_type": "stream",
          "name": "stdout",
          "text": [
            "0: 736x1280 4 cars, 1 truck, 1214.3ms\n",
            "Speed: 12.8ms preprocess, 1214.3ms inference, 2.4ms postprocess per image at shape (1, 3, 736, 1280)\n",
            "\n"
          ]
        },
        {
          "output_type": "stream",
          "name": "stderr",
          "text": [
            "SupervisionWarnings: annotate is deprecated: `BoxAnnotator` is deprecated and will be removed in `supervision-0.22.0`. Use `BoundingBoxAnnotator` and `LabelAnnotator` instead\n"
          ]
        },
        {
          "output_type": "stream",
          "name": "stdout",
          "text": [
            "0: 736x1280 4 cars, 1 truck, 1345.2ms\n",
            "Speed: 13.6ms preprocess, 1345.2ms inference, 3.3ms postprocess per image at shape (1, 3, 736, 1280)\n",
            "\n"
          ]
        },
        {
          "output_type": "stream",
          "name": "stderr",
          "text": [
            "SupervisionWarnings: annotate is deprecated: `BoxAnnotator` is deprecated and will be removed in `supervision-0.22.0`. Use `BoundingBoxAnnotator` and `LabelAnnotator` instead\n"
          ]
        },
        {
          "output_type": "stream",
          "name": "stdout",
          "text": [
            "0: 736x1280 4 cars, 1 truck, 1320.9ms\n",
            "Speed: 15.9ms preprocess, 1320.9ms inference, 2.4ms postprocess per image at shape (1, 3, 736, 1280)\n",
            "\n"
          ]
        },
        {
          "output_type": "stream",
          "name": "stderr",
          "text": [
            "SupervisionWarnings: annotate is deprecated: `BoxAnnotator` is deprecated and will be removed in `supervision-0.22.0`. Use `BoundingBoxAnnotator` and `LabelAnnotator` instead\n"
          ]
        },
        {
          "output_type": "stream",
          "name": "stdout",
          "text": [
            "0: 736x1280 4 cars, 1 bus, 1 truck, 1293.7ms\n",
            "Speed: 14.9ms preprocess, 1293.7ms inference, 3.3ms postprocess per image at shape (1, 3, 736, 1280)\n",
            "\n"
          ]
        },
        {
          "output_type": "stream",
          "name": "stderr",
          "text": [
            "SupervisionWarnings: annotate is deprecated: `BoxAnnotator` is deprecated and will be removed in `supervision-0.22.0`. Use `BoundingBoxAnnotator` and `LabelAnnotator` instead\n"
          ]
        },
        {
          "output_type": "stream",
          "name": "stdout",
          "text": [
            "0: 736x1280 4 cars, 1 truck, 1608.6ms\n",
            "Speed: 16.0ms preprocess, 1608.6ms inference, 4.1ms postprocess per image at shape (1, 3, 736, 1280)\n",
            "\n"
          ]
        },
        {
          "output_type": "stream",
          "name": "stderr",
          "text": [
            "SupervisionWarnings: annotate is deprecated: `BoxAnnotator` is deprecated and will be removed in `supervision-0.22.0`. Use `BoundingBoxAnnotator` and `LabelAnnotator` instead\n"
          ]
        },
        {
          "output_type": "stream",
          "name": "stdout",
          "text": [
            "0: 736x1280 4 cars, 1 truck, 1907.9ms\n",
            "Speed: 38.9ms preprocess, 1907.9ms inference, 4.0ms postprocess per image at shape (1, 3, 736, 1280)\n",
            "\n"
          ]
        },
        {
          "output_type": "stream",
          "name": "stderr",
          "text": [
            "SupervisionWarnings: annotate is deprecated: `BoxAnnotator` is deprecated and will be removed in `supervision-0.22.0`. Use `BoundingBoxAnnotator` and `LabelAnnotator` instead\n"
          ]
        },
        {
          "output_type": "stream",
          "name": "stdout",
          "text": [
            "0: 736x1280 4 cars, 1 bus, 1 truck, 1499.9ms\n",
            "Speed: 23.9ms preprocess, 1499.9ms inference, 2.3ms postprocess per image at shape (1, 3, 736, 1280)\n",
            "\n"
          ]
        },
        {
          "output_type": "stream",
          "name": "stderr",
          "text": [
            "SupervisionWarnings: annotate is deprecated: `BoxAnnotator` is deprecated and will be removed in `supervision-0.22.0`. Use `BoundingBoxAnnotator` and `LabelAnnotator` instead\n"
          ]
        },
        {
          "output_type": "stream",
          "name": "stdout",
          "text": [
            "0: 736x1280 4 cars, 1 truck, 1276.2ms\n",
            "Speed: 14.5ms preprocess, 1276.2ms inference, 3.3ms postprocess per image at shape (1, 3, 736, 1280)\n",
            "\n"
          ]
        },
        {
          "output_type": "stream",
          "name": "stderr",
          "text": [
            "SupervisionWarnings: annotate is deprecated: `BoxAnnotator` is deprecated and will be removed in `supervision-0.22.0`. Use `BoundingBoxAnnotator` and `LabelAnnotator` instead\n"
          ]
        },
        {
          "output_type": "stream",
          "name": "stdout",
          "text": [
            "0: 736x1280 4 cars, 1321.8ms\n",
            "Speed: 14.6ms preprocess, 1321.8ms inference, 3.2ms postprocess per image at shape (1, 3, 736, 1280)\n",
            "\n"
          ]
        },
        {
          "output_type": "stream",
          "name": "stderr",
          "text": [
            "SupervisionWarnings: annotate is deprecated: `BoxAnnotator` is deprecated and will be removed in `supervision-0.22.0`. Use `BoundingBoxAnnotator` and `LabelAnnotator` instead\n"
          ]
        },
        {
          "output_type": "stream",
          "name": "stdout",
          "text": [
            "0: 736x1280 4 cars, 1298.0ms\n",
            "Speed: 15.0ms preprocess, 1298.0ms inference, 2.5ms postprocess per image at shape (1, 3, 736, 1280)\n",
            "\n"
          ]
        },
        {
          "output_type": "stream",
          "name": "stderr",
          "text": [
            "SupervisionWarnings: annotate is deprecated: `BoxAnnotator` is deprecated and will be removed in `supervision-0.22.0`. Use `BoundingBoxAnnotator` and `LabelAnnotator` instead\n"
          ]
        },
        {
          "output_type": "stream",
          "name": "stdout",
          "text": [
            "0: 736x1280 4 cars, 1 truck, 1209.9ms\n",
            "Speed: 13.3ms preprocess, 1209.9ms inference, 2.3ms postprocess per image at shape (1, 3, 736, 1280)\n",
            "\n"
          ]
        },
        {
          "output_type": "stream",
          "name": "stderr",
          "text": [
            "SupervisionWarnings: annotate is deprecated: `BoxAnnotator` is deprecated and will be removed in `supervision-0.22.0`. Use `BoundingBoxAnnotator` and `LabelAnnotator` instead\n"
          ]
        },
        {
          "output_type": "stream",
          "name": "stdout",
          "text": [
            "0: 736x1280 4 cars, 1 bus, 1 truck, 1341.7ms\n",
            "Speed: 18.2ms preprocess, 1341.7ms inference, 2.8ms postprocess per image at shape (1, 3, 736, 1280)\n",
            "\n"
          ]
        },
        {
          "output_type": "stream",
          "name": "stderr",
          "text": [
            "SupervisionWarnings: annotate is deprecated: `BoxAnnotator` is deprecated and will be removed in `supervision-0.22.0`. Use `BoundingBoxAnnotator` and `LabelAnnotator` instead\n"
          ]
        },
        {
          "output_type": "stream",
          "name": "stdout",
          "text": [
            "0: 736x1280 4 cars, 1 bus, 1284.9ms\n",
            "Speed: 15.1ms preprocess, 1284.9ms inference, 4.1ms postprocess per image at shape (1, 3, 736, 1280)\n",
            "\n"
          ]
        },
        {
          "output_type": "stream",
          "name": "stderr",
          "text": [
            "SupervisionWarnings: annotate is deprecated: `BoxAnnotator` is deprecated and will be removed in `supervision-0.22.0`. Use `BoundingBoxAnnotator` and `LabelAnnotator` instead\n"
          ]
        },
        {
          "output_type": "stream",
          "name": "stdout",
          "text": [
            "0: 736x1280 4 cars, 1 bus, 1729.0ms\n",
            "Speed: 18.6ms preprocess, 1729.0ms inference, 3.8ms postprocess per image at shape (1, 3, 736, 1280)\n",
            "\n"
          ]
        },
        {
          "output_type": "stream",
          "name": "stderr",
          "text": [
            "SupervisionWarnings: annotate is deprecated: `BoxAnnotator` is deprecated and will be removed in `supervision-0.22.0`. Use `BoundingBoxAnnotator` and `LabelAnnotator` instead\n"
          ]
        },
        {
          "output_type": "stream",
          "name": "stdout",
          "text": [
            "0: 736x1280 4 cars, 1 bus, 1943.8ms\n",
            "Speed: 17.2ms preprocess, 1943.8ms inference, 4.0ms postprocess per image at shape (1, 3, 736, 1280)\n",
            "\n"
          ]
        },
        {
          "output_type": "stream",
          "name": "stderr",
          "text": [
            "SupervisionWarnings: annotate is deprecated: `BoxAnnotator` is deprecated and will be removed in `supervision-0.22.0`. Use `BoundingBoxAnnotator` and `LabelAnnotator` instead\n"
          ]
        },
        {
          "output_type": "stream",
          "name": "stdout",
          "text": [
            "0: 736x1280 4 cars, 1 bus, 1 truck, 1356.1ms\n",
            "Speed: 32.7ms preprocess, 1356.1ms inference, 3.0ms postprocess per image at shape (1, 3, 736, 1280)\n",
            "\n"
          ]
        },
        {
          "output_type": "stream",
          "name": "stderr",
          "text": [
            "SupervisionWarnings: annotate is deprecated: `BoxAnnotator` is deprecated and will be removed in `supervision-0.22.0`. Use `BoundingBoxAnnotator` and `LabelAnnotator` instead\n"
          ]
        },
        {
          "output_type": "stream",
          "name": "stdout",
          "text": [
            "0: 736x1280 4 cars, 1 bus, 1331.3ms\n",
            "Speed: 14.9ms preprocess, 1331.3ms inference, 3.3ms postprocess per image at shape (1, 3, 736, 1280)\n",
            "\n"
          ]
        },
        {
          "output_type": "stream",
          "name": "stderr",
          "text": [
            "SupervisionWarnings: annotate is deprecated: `BoxAnnotator` is deprecated and will be removed in `supervision-0.22.0`. Use `BoundingBoxAnnotator` and `LabelAnnotator` instead\n"
          ]
        },
        {
          "output_type": "stream",
          "name": "stdout",
          "text": [
            "0: 736x1280 4 cars, 1 bus, 1 truck, 1246.9ms\n",
            "Speed: 18.2ms preprocess, 1246.9ms inference, 2.4ms postprocess per image at shape (1, 3, 736, 1280)\n",
            "\n"
          ]
        },
        {
          "output_type": "stream",
          "name": "stderr",
          "text": [
            "SupervisionWarnings: annotate is deprecated: `BoxAnnotator` is deprecated and will be removed in `supervision-0.22.0`. Use `BoundingBoxAnnotator` and `LabelAnnotator` instead\n"
          ]
        },
        {
          "output_type": "stream",
          "name": "stdout",
          "text": [
            "0: 736x1280 4 cars, 1 bus, 1 truck, 1256.5ms\n",
            "Speed: 13.6ms preprocess, 1256.5ms inference, 3.2ms postprocess per image at shape (1, 3, 736, 1280)\n",
            "\n"
          ]
        },
        {
          "output_type": "stream",
          "name": "stderr",
          "text": [
            "SupervisionWarnings: annotate is deprecated: `BoxAnnotator` is deprecated and will be removed in `supervision-0.22.0`. Use `BoundingBoxAnnotator` and `LabelAnnotator` instead\n"
          ]
        },
        {
          "output_type": "stream",
          "name": "stdout",
          "text": [
            "0: 736x1280 4 cars, 1 bus, 1 truck, 1349.2ms\n",
            "Speed: 16.0ms preprocess, 1349.2ms inference, 3.2ms postprocess per image at shape (1, 3, 736, 1280)\n",
            "\n"
          ]
        },
        {
          "output_type": "stream",
          "name": "stderr",
          "text": [
            "SupervisionWarnings: annotate is deprecated: `BoxAnnotator` is deprecated and will be removed in `supervision-0.22.0`. Use `BoundingBoxAnnotator` and `LabelAnnotator` instead\n"
          ]
        },
        {
          "output_type": "stream",
          "name": "stdout",
          "text": [
            "0: 736x1280 4 cars, 1 bus, 1303.4ms\n",
            "Speed: 17.8ms preprocess, 1303.4ms inference, 2.3ms postprocess per image at shape (1, 3, 736, 1280)\n",
            "\n"
          ]
        },
        {
          "output_type": "stream",
          "name": "stderr",
          "text": [
            "SupervisionWarnings: annotate is deprecated: `BoxAnnotator` is deprecated and will be removed in `supervision-0.22.0`. Use `BoundingBoxAnnotator` and `LabelAnnotator` instead\n"
          ]
        },
        {
          "output_type": "stream",
          "name": "stdout",
          "text": [
            "0: 736x1280 4 cars, 1 bus, 1270.7ms\n",
            "Speed: 14.6ms preprocess, 1270.7ms inference, 3.0ms postprocess per image at shape (1, 3, 736, 1280)\n",
            "\n"
          ]
        },
        {
          "output_type": "stream",
          "name": "stderr",
          "text": [
            "SupervisionWarnings: annotate is deprecated: `BoxAnnotator` is deprecated and will be removed in `supervision-0.22.0`. Use `BoundingBoxAnnotator` and `LabelAnnotator` instead\n"
          ]
        },
        {
          "output_type": "stream",
          "name": "stdout",
          "text": [
            "0: 736x1280 4 cars, 1 bus, 1796.5ms\n",
            "Speed: 22.9ms preprocess, 1796.5ms inference, 3.0ms postprocess per image at shape (1, 3, 736, 1280)\n",
            "\n"
          ]
        },
        {
          "output_type": "stream",
          "name": "stderr",
          "text": [
            "SupervisionWarnings: annotate is deprecated: `BoxAnnotator` is deprecated and will be removed in `supervision-0.22.0`. Use `BoundingBoxAnnotator` and `LabelAnnotator` instead\n"
          ]
        },
        {
          "output_type": "stream",
          "name": "stdout",
          "text": [
            "0: 736x1280 4 cars, 1 bus, 1954.1ms\n",
            "Speed: 22.0ms preprocess, 1954.1ms inference, 4.2ms postprocess per image at shape (1, 3, 736, 1280)\n",
            "\n"
          ]
        },
        {
          "output_type": "stream",
          "name": "stderr",
          "text": [
            "SupervisionWarnings: annotate is deprecated: `BoxAnnotator` is deprecated and will be removed in `supervision-0.22.0`. Use `BoundingBoxAnnotator` and `LabelAnnotator` instead\n"
          ]
        },
        {
          "output_type": "stream",
          "name": "stdout",
          "text": [
            "0: 736x1280 4 cars, 1 bus, 1247.9ms\n",
            "Speed: 27.4ms preprocess, 1247.9ms inference, 3.1ms postprocess per image at shape (1, 3, 736, 1280)\n",
            "\n"
          ]
        },
        {
          "output_type": "stream",
          "name": "stderr",
          "text": [
            "SupervisionWarnings: annotate is deprecated: `BoxAnnotator` is deprecated and will be removed in `supervision-0.22.0`. Use `BoundingBoxAnnotator` and `LabelAnnotator` instead\n"
          ]
        },
        {
          "output_type": "stream",
          "name": "stdout",
          "text": [
            "0: 736x1280 4 cars, 1 bus, 1314.6ms\n",
            "Speed: 15.0ms preprocess, 1314.6ms inference, 3.0ms postprocess per image at shape (1, 3, 736, 1280)\n",
            "\n"
          ]
        },
        {
          "output_type": "stream",
          "name": "stderr",
          "text": [
            "SupervisionWarnings: annotate is deprecated: `BoxAnnotator` is deprecated and will be removed in `supervision-0.22.0`. Use `BoundingBoxAnnotator` and `LabelAnnotator` instead\n"
          ]
        },
        {
          "output_type": "stream",
          "name": "stdout",
          "text": [
            "0: 736x1280 4 cars, 1 bus, 1331.0ms\n",
            "Speed: 18.0ms preprocess, 1331.0ms inference, 2.9ms postprocess per image at shape (1, 3, 736, 1280)\n",
            "\n"
          ]
        },
        {
          "output_type": "stream",
          "name": "stderr",
          "text": [
            "SupervisionWarnings: annotate is deprecated: `BoxAnnotator` is deprecated and will be removed in `supervision-0.22.0`. Use `BoundingBoxAnnotator` and `LabelAnnotator` instead\n"
          ]
        },
        {
          "output_type": "stream",
          "name": "stdout",
          "text": [
            "0: 736x1280 4 cars, 1 bus, 1232.2ms\n",
            "Speed: 19.0ms preprocess, 1232.2ms inference, 2.3ms postprocess per image at shape (1, 3, 736, 1280)\n",
            "\n"
          ]
        },
        {
          "output_type": "stream",
          "name": "stderr",
          "text": [
            "SupervisionWarnings: annotate is deprecated: `BoxAnnotator` is deprecated and will be removed in `supervision-0.22.0`. Use `BoundingBoxAnnotator` and `LabelAnnotator` instead\n"
          ]
        },
        {
          "output_type": "stream",
          "name": "stdout",
          "text": [
            "0: 736x1280 4 cars, 1 bus, 1 truck, 1226.1ms\n",
            "Speed: 12.5ms preprocess, 1226.1ms inference, 2.9ms postprocess per image at shape (1, 3, 736, 1280)\n",
            "\n"
          ]
        },
        {
          "output_type": "stream",
          "name": "stderr",
          "text": [
            "SupervisionWarnings: annotate is deprecated: `BoxAnnotator` is deprecated and will be removed in `supervision-0.22.0`. Use `BoundingBoxAnnotator` and `LabelAnnotator` instead\n"
          ]
        },
        {
          "output_type": "stream",
          "name": "stdout",
          "text": [
            "0: 736x1280 4 cars, 1 truck, 1321.9ms\n",
            "Speed: 17.0ms preprocess, 1321.9ms inference, 2.8ms postprocess per image at shape (1, 3, 736, 1280)\n",
            "\n"
          ]
        },
        {
          "output_type": "stream",
          "name": "stderr",
          "text": [
            "SupervisionWarnings: annotate is deprecated: `BoxAnnotator` is deprecated and will be removed in `supervision-0.22.0`. Use `BoundingBoxAnnotator` and `LabelAnnotator` instead\n"
          ]
        },
        {
          "output_type": "stream",
          "name": "stdout",
          "text": [
            "0: 736x1280 4 cars, 1 truck, 1276.3ms\n",
            "Speed: 20.3ms preprocess, 1276.3ms inference, 2.6ms postprocess per image at shape (1, 3, 736, 1280)\n",
            "\n"
          ]
        },
        {
          "output_type": "stream",
          "name": "stderr",
          "text": [
            "SupervisionWarnings: annotate is deprecated: `BoxAnnotator` is deprecated and will be removed in `supervision-0.22.0`. Use `BoundingBoxAnnotator` and `LabelAnnotator` instead\n"
          ]
        },
        {
          "output_type": "stream",
          "name": "stdout",
          "text": [
            "0: 736x1280 4 cars, 1 truck, 1810.5ms\n",
            "Speed: 13.4ms preprocess, 1810.5ms inference, 3.8ms postprocess per image at shape (1, 3, 736, 1280)\n",
            "\n"
          ]
        },
        {
          "output_type": "stream",
          "name": "stderr",
          "text": [
            "SupervisionWarnings: annotate is deprecated: `BoxAnnotator` is deprecated and will be removed in `supervision-0.22.0`. Use `BoundingBoxAnnotator` and `LabelAnnotator` instead\n"
          ]
        },
        {
          "output_type": "stream",
          "name": "stdout",
          "text": [
            "0: 736x1280 4 cars, 1 truck, 2039.4ms\n",
            "Speed: 26.4ms preprocess, 2039.4ms inference, 4.6ms postprocess per image at shape (1, 3, 736, 1280)\n",
            "\n"
          ]
        },
        {
          "output_type": "stream",
          "name": "stderr",
          "text": [
            "SupervisionWarnings: annotate is deprecated: `BoxAnnotator` is deprecated and will be removed in `supervision-0.22.0`. Use `BoundingBoxAnnotator` and `LabelAnnotator` instead\n"
          ]
        },
        {
          "output_type": "stream",
          "name": "stdout",
          "text": [
            "0: 736x1280 4 cars, 1 bus, 1314.3ms\n",
            "Speed: 15.8ms preprocess, 1314.3ms inference, 3.9ms postprocess per image at shape (1, 3, 736, 1280)\n",
            "\n"
          ]
        },
        {
          "output_type": "stream",
          "name": "stderr",
          "text": [
            "SupervisionWarnings: annotate is deprecated: `BoxAnnotator` is deprecated and will be removed in `supervision-0.22.0`. Use `BoundingBoxAnnotator` and `LabelAnnotator` instead\n"
          ]
        },
        {
          "output_type": "stream",
          "name": "stdout",
          "text": [
            "0: 736x1280 4 cars, 1 bus, 1 truck, 1363.2ms\n",
            "Speed: 15.2ms preprocess, 1363.2ms inference, 3.4ms postprocess per image at shape (1, 3, 736, 1280)\n",
            "\n"
          ]
        },
        {
          "output_type": "stream",
          "name": "stderr",
          "text": [
            "SupervisionWarnings: annotate is deprecated: `BoxAnnotator` is deprecated and will be removed in `supervision-0.22.0`. Use `BoundingBoxAnnotator` and `LabelAnnotator` instead\n"
          ]
        },
        {
          "output_type": "stream",
          "name": "stdout",
          "text": [
            "0: 736x1280 4 cars, 1 bus, 1 truck, 1342.3ms\n",
            "Speed: 19.1ms preprocess, 1342.3ms inference, 3.4ms postprocess per image at shape (1, 3, 736, 1280)\n",
            "\n"
          ]
        },
        {
          "output_type": "stream",
          "name": "stderr",
          "text": [
            "SupervisionWarnings: annotate is deprecated: `BoxAnnotator` is deprecated and will be removed in `supervision-0.22.0`. Use `BoundingBoxAnnotator` and `LabelAnnotator` instead\n"
          ]
        },
        {
          "output_type": "stream",
          "name": "stdout",
          "text": [
            "0: 736x1280 4 cars, 1 bus, 1 truck, 1325.9ms\n",
            "Speed: 15.2ms preprocess, 1325.9ms inference, 3.3ms postprocess per image at shape (1, 3, 736, 1280)\n",
            "\n"
          ]
        },
        {
          "output_type": "stream",
          "name": "stderr",
          "text": [
            "SupervisionWarnings: annotate is deprecated: `BoxAnnotator` is deprecated and will be removed in `supervision-0.22.0`. Use `BoundingBoxAnnotator` and `LabelAnnotator` instead\n"
          ]
        },
        {
          "output_type": "stream",
          "name": "stdout",
          "text": [
            "0: 736x1280 4 cars, 1 truck, 1347.7ms\n",
            "Speed: 15.8ms preprocess, 1347.7ms inference, 3.4ms postprocess per image at shape (1, 3, 736, 1280)\n",
            "\n"
          ]
        },
        {
          "output_type": "stream",
          "name": "stderr",
          "text": [
            "SupervisionWarnings: annotate is deprecated: `BoxAnnotator` is deprecated and will be removed in `supervision-0.22.0`. Use `BoundingBoxAnnotator` and `LabelAnnotator` instead\n"
          ]
        },
        {
          "output_type": "stream",
          "name": "stdout",
          "text": [
            "0: 736x1280 4 cars, 1 truck, 1324.4ms\n",
            "Speed: 16.0ms preprocess, 1324.4ms inference, 2.5ms postprocess per image at shape (1, 3, 736, 1280)\n",
            "\n"
          ]
        },
        {
          "output_type": "stream",
          "name": "stderr",
          "text": [
            "SupervisionWarnings: annotate is deprecated: `BoxAnnotator` is deprecated and will be removed in `supervision-0.22.0`. Use `BoundingBoxAnnotator` and `LabelAnnotator` instead\n"
          ]
        },
        {
          "output_type": "stream",
          "name": "stdout",
          "text": [
            "0: 736x1280 4 cars, 1 bus, 1 truck, 1260.3ms\n",
            "Speed: 22.1ms preprocess, 1260.3ms inference, 3.1ms postprocess per image at shape (1, 3, 736, 1280)\n",
            "\n"
          ]
        },
        {
          "output_type": "stream",
          "name": "stderr",
          "text": [
            "SupervisionWarnings: annotate is deprecated: `BoxAnnotator` is deprecated and will be removed in `supervision-0.22.0`. Use `BoundingBoxAnnotator` and `LabelAnnotator` instead\n"
          ]
        },
        {
          "output_type": "stream",
          "name": "stdout",
          "text": [
            "0: 736x1280 4 cars, 1 bus, 1935.8ms\n",
            "Speed: 18.9ms preprocess, 1935.8ms inference, 4.3ms postprocess per image at shape (1, 3, 736, 1280)\n",
            "\n"
          ]
        },
        {
          "output_type": "stream",
          "name": "stderr",
          "text": [
            "SupervisionWarnings: annotate is deprecated: `BoxAnnotator` is deprecated and will be removed in `supervision-0.22.0`. Use `BoundingBoxAnnotator` and `LabelAnnotator` instead\n"
          ]
        },
        {
          "output_type": "stream",
          "name": "stdout",
          "text": [
            "0: 736x1280 4 cars, 1 bus, 1746.3ms\n",
            "Speed: 23.0ms preprocess, 1746.3ms inference, 3.1ms postprocess per image at shape (1, 3, 736, 1280)\n",
            "\n"
          ]
        },
        {
          "output_type": "stream",
          "name": "stderr",
          "text": [
            "SupervisionWarnings: annotate is deprecated: `BoxAnnotator` is deprecated and will be removed in `supervision-0.22.0`. Use `BoundingBoxAnnotator` and `LabelAnnotator` instead\n"
          ]
        },
        {
          "output_type": "stream",
          "name": "stdout",
          "text": [
            "0: 736x1280 4 cars, 1 bus, 1 truck, 1320.2ms\n",
            "Speed: 15.2ms preprocess, 1320.2ms inference, 2.6ms postprocess per image at shape (1, 3, 736, 1280)\n",
            "\n"
          ]
        },
        {
          "output_type": "stream",
          "name": "stderr",
          "text": [
            "SupervisionWarnings: annotate is deprecated: `BoxAnnotator` is deprecated and will be removed in `supervision-0.22.0`. Use `BoundingBoxAnnotator` and `LabelAnnotator` instead\n"
          ]
        },
        {
          "output_type": "stream",
          "name": "stdout",
          "text": [
            "0: 736x1280 4 cars, 1 truck, 1222.8ms\n",
            "Speed: 13.4ms preprocess, 1222.8ms inference, 2.2ms postprocess per image at shape (1, 3, 736, 1280)\n",
            "\n"
          ]
        },
        {
          "output_type": "stream",
          "name": "stderr",
          "text": [
            "SupervisionWarnings: annotate is deprecated: `BoxAnnotator` is deprecated and will be removed in `supervision-0.22.0`. Use `BoundingBoxAnnotator` and `LabelAnnotator` instead\n"
          ]
        },
        {
          "output_type": "stream",
          "name": "stdout",
          "text": [
            "0: 736x1280 4 cars, 1 bus, 1 truck, 1234.4ms\n",
            "Speed: 12.7ms preprocess, 1234.4ms inference, 3.3ms postprocess per image at shape (1, 3, 736, 1280)\n",
            "\n"
          ]
        },
        {
          "output_type": "stream",
          "name": "stderr",
          "text": [
            "SupervisionWarnings: annotate is deprecated: `BoxAnnotator` is deprecated and will be removed in `supervision-0.22.0`. Use `BoundingBoxAnnotator` and `LabelAnnotator` instead\n"
          ]
        },
        {
          "output_type": "stream",
          "name": "stdout",
          "text": [
            "0: 736x1280 4 cars, 1 bus, 1 truck, 1339.6ms\n",
            "Speed: 18.8ms preprocess, 1339.6ms inference, 3.3ms postprocess per image at shape (1, 3, 736, 1280)\n",
            "\n"
          ]
        },
        {
          "output_type": "stream",
          "name": "stderr",
          "text": [
            "SupervisionWarnings: annotate is deprecated: `BoxAnnotator` is deprecated and will be removed in `supervision-0.22.0`. Use `BoundingBoxAnnotator` and `LabelAnnotator` instead\n"
          ]
        },
        {
          "output_type": "stream",
          "name": "stdout",
          "text": [
            "0: 736x1280 4 cars, 1 bus, 1 truck, 1262.6ms\n",
            "Speed: 14.1ms preprocess, 1262.6ms inference, 2.6ms postprocess per image at shape (1, 3, 736, 1280)\n",
            "\n"
          ]
        },
        {
          "output_type": "stream",
          "name": "stderr",
          "text": [
            "SupervisionWarnings: annotate is deprecated: `BoxAnnotator` is deprecated and will be removed in `supervision-0.22.0`. Use `BoundingBoxAnnotator` and `LabelAnnotator` instead\n"
          ]
        },
        {
          "output_type": "stream",
          "name": "stdout",
          "text": [
            "0: 736x1280 4 cars, 1 bus, 1 truck, 1307.3ms\n",
            "Speed: 14.4ms preprocess, 1307.3ms inference, 3.0ms postprocess per image at shape (1, 3, 736, 1280)\n",
            "\n"
          ]
        },
        {
          "output_type": "stream",
          "name": "stderr",
          "text": [
            "SupervisionWarnings: annotate is deprecated: `BoxAnnotator` is deprecated and will be removed in `supervision-0.22.0`. Use `BoundingBoxAnnotator` and `LabelAnnotator` instead\n"
          ]
        },
        {
          "output_type": "stream",
          "name": "stdout",
          "text": [
            "0: 736x1280 4 cars, 1 truck, 1436.7ms\n",
            "Speed: 14.7ms preprocess, 1436.7ms inference, 4.1ms postprocess per image at shape (1, 3, 736, 1280)\n",
            "\n"
          ]
        },
        {
          "output_type": "stream",
          "name": "stderr",
          "text": [
            "SupervisionWarnings: annotate is deprecated: `BoxAnnotator` is deprecated and will be removed in `supervision-0.22.0`. Use `BoundingBoxAnnotator` and `LabelAnnotator` instead\n"
          ]
        },
        {
          "output_type": "stream",
          "name": "stdout",
          "text": [
            "0: 736x1280 4 cars, 1 truck, 1990.9ms\n",
            "Speed: 35.3ms preprocess, 1990.9ms inference, 4.1ms postprocess per image at shape (1, 3, 736, 1280)\n",
            "\n"
          ]
        },
        {
          "output_type": "stream",
          "name": "stderr",
          "text": [
            "SupervisionWarnings: annotate is deprecated: `BoxAnnotator` is deprecated and will be removed in `supervision-0.22.0`. Use `BoundingBoxAnnotator` and `LabelAnnotator` instead\n"
          ]
        },
        {
          "output_type": "stream",
          "name": "stdout",
          "text": [
            "0: 736x1280 4 cars, 1 truck, 1582.7ms\n",
            "Speed: 23.4ms preprocess, 1582.7ms inference, 3.1ms postprocess per image at shape (1, 3, 736, 1280)\n",
            "\n"
          ]
        },
        {
          "output_type": "stream",
          "name": "stderr",
          "text": [
            "SupervisionWarnings: annotate is deprecated: `BoxAnnotator` is deprecated and will be removed in `supervision-0.22.0`. Use `BoundingBoxAnnotator` and `LabelAnnotator` instead\n"
          ]
        },
        {
          "output_type": "stream",
          "name": "stdout",
          "text": [
            "0: 736x1280 4 cars, 1 truck, 1355.5ms\n",
            "Speed: 15.9ms preprocess, 1355.5ms inference, 4.2ms postprocess per image at shape (1, 3, 736, 1280)\n",
            "\n"
          ]
        },
        {
          "output_type": "stream",
          "name": "stderr",
          "text": [
            "SupervisionWarnings: annotate is deprecated: `BoxAnnotator` is deprecated and will be removed in `supervision-0.22.0`. Use `BoundingBoxAnnotator` and `LabelAnnotator` instead\n"
          ]
        },
        {
          "output_type": "stream",
          "name": "stdout",
          "text": [
            "0: 736x1280 4 cars, 1 truck, 1237.4ms\n",
            "Speed: 15.2ms preprocess, 1237.4ms inference, 2.4ms postprocess per image at shape (1, 3, 736, 1280)\n",
            "\n"
          ]
        },
        {
          "output_type": "stream",
          "name": "stderr",
          "text": [
            "SupervisionWarnings: annotate is deprecated: `BoxAnnotator` is deprecated and will be removed in `supervision-0.22.0`. Use `BoundingBoxAnnotator` and `LabelAnnotator` instead\n"
          ]
        },
        {
          "output_type": "stream",
          "name": "stdout",
          "text": [
            "0: 736x1280 4 cars, 1 truck, 1234.6ms\n",
            "Speed: 12.9ms preprocess, 1234.6ms inference, 2.9ms postprocess per image at shape (1, 3, 736, 1280)\n",
            "\n"
          ]
        },
        {
          "output_type": "stream",
          "name": "stderr",
          "text": [
            "SupervisionWarnings: annotate is deprecated: `BoxAnnotator` is deprecated and will be removed in `supervision-0.22.0`. Use `BoundingBoxAnnotator` and `LabelAnnotator` instead\n"
          ]
        },
        {
          "output_type": "stream",
          "name": "stdout",
          "text": [
            "0: 736x1280 4 cars, 1 truck, 1273.2ms\n",
            "Speed: 14.4ms preprocess, 1273.2ms inference, 2.5ms postprocess per image at shape (1, 3, 736, 1280)\n",
            "\n"
          ]
        },
        {
          "output_type": "stream",
          "name": "stderr",
          "text": [
            "SupervisionWarnings: annotate is deprecated: `BoxAnnotator` is deprecated and will be removed in `supervision-0.22.0`. Use `BoundingBoxAnnotator` and `LabelAnnotator` instead\n"
          ]
        },
        {
          "output_type": "stream",
          "name": "stdout",
          "text": [
            "0: 736x1280 4 cars, 1 truck, 1280.3ms\n",
            "Speed: 14.5ms preprocess, 1280.3ms inference, 2.2ms postprocess per image at shape (1, 3, 736, 1280)\n",
            "\n"
          ]
        },
        {
          "output_type": "stream",
          "name": "stderr",
          "text": [
            "SupervisionWarnings: annotate is deprecated: `BoxAnnotator` is deprecated and will be removed in `supervision-0.22.0`. Use `BoundingBoxAnnotator` and `LabelAnnotator` instead\n"
          ]
        },
        {
          "output_type": "stream",
          "name": "stdout",
          "text": [
            "0: 736x1280 4 cars, 1 truck, 1211.0ms\n",
            "Speed: 13.8ms preprocess, 1211.0ms inference, 2.3ms postprocess per image at shape (1, 3, 736, 1280)\n",
            "\n"
          ]
        },
        {
          "output_type": "stream",
          "name": "stderr",
          "text": [
            "SupervisionWarnings: annotate is deprecated: `BoxAnnotator` is deprecated and will be removed in `supervision-0.22.0`. Use `BoundingBoxAnnotator` and `LabelAnnotator` instead\n"
          ]
        },
        {
          "output_type": "stream",
          "name": "stdout",
          "text": [
            "0: 736x1280 4 cars, 1 truck, 1617.4ms\n",
            "Speed: 14.5ms preprocess, 1617.4ms inference, 3.2ms postprocess per image at shape (1, 3, 736, 1280)\n",
            "\n"
          ]
        },
        {
          "output_type": "stream",
          "name": "stderr",
          "text": [
            "SupervisionWarnings: annotate is deprecated: `BoxAnnotator` is deprecated and will be removed in `supervision-0.22.0`. Use `BoundingBoxAnnotator` and `LabelAnnotator` instead\n"
          ]
        },
        {
          "output_type": "stream",
          "name": "stdout",
          "text": [
            "0: 736x1280 4 cars, 1 truck, 2004.3ms\n",
            "Speed: 18.4ms preprocess, 2004.3ms inference, 3.2ms postprocess per image at shape (1, 3, 736, 1280)\n",
            "\n"
          ]
        },
        {
          "output_type": "stream",
          "name": "stderr",
          "text": [
            "SupervisionWarnings: annotate is deprecated: `BoxAnnotator` is deprecated and will be removed in `supervision-0.22.0`. Use `BoundingBoxAnnotator` and `LabelAnnotator` instead\n"
          ]
        },
        {
          "output_type": "stream",
          "name": "stdout",
          "text": [
            "0: 736x1280 4 cars, 1 truck, 1348.0ms\n",
            "Speed: 26.6ms preprocess, 1348.0ms inference, 2.5ms postprocess per image at shape (1, 3, 736, 1280)\n",
            "\n"
          ]
        },
        {
          "output_type": "stream",
          "name": "stderr",
          "text": [
            "SupervisionWarnings: annotate is deprecated: `BoxAnnotator` is deprecated and will be removed in `supervision-0.22.0`. Use `BoundingBoxAnnotator` and `LabelAnnotator` instead\n"
          ]
        },
        {
          "output_type": "stream",
          "name": "stdout",
          "text": [
            "0: 736x1280 4 cars, 1 truck, 1260.6ms\n",
            "Speed: 13.3ms preprocess, 1260.6ms inference, 2.4ms postprocess per image at shape (1, 3, 736, 1280)\n",
            "\n"
          ]
        },
        {
          "output_type": "stream",
          "name": "stderr",
          "text": [
            "SupervisionWarnings: annotate is deprecated: `BoxAnnotator` is deprecated and will be removed in `supervision-0.22.0`. Use `BoundingBoxAnnotator` and `LabelAnnotator` instead\n"
          ]
        },
        {
          "output_type": "stream",
          "name": "stdout",
          "text": [
            "0: 736x1280 4 cars, 1 truck, 1215.1ms\n",
            "Speed: 17.0ms preprocess, 1215.1ms inference, 2.4ms postprocess per image at shape (1, 3, 736, 1280)\n",
            "\n"
          ]
        },
        {
          "output_type": "stream",
          "name": "stderr",
          "text": [
            "SupervisionWarnings: annotate is deprecated: `BoxAnnotator` is deprecated and will be removed in `supervision-0.22.0`. Use `BoundingBoxAnnotator` and `LabelAnnotator` instead\n"
          ]
        },
        {
          "output_type": "stream",
          "name": "stdout",
          "text": [
            "0: 736x1280 4 cars, 1 truck, 1277.3ms\n",
            "Speed: 12.6ms preprocess, 1277.3ms inference, 3.5ms postprocess per image at shape (1, 3, 736, 1280)\n",
            "\n"
          ]
        },
        {
          "output_type": "stream",
          "name": "stderr",
          "text": [
            "SupervisionWarnings: annotate is deprecated: `BoxAnnotator` is deprecated and will be removed in `supervision-0.22.0`. Use `BoundingBoxAnnotator` and `LabelAnnotator` instead\n"
          ]
        },
        {
          "output_type": "stream",
          "name": "stdout",
          "text": [
            "0: 736x1280 4 cars, 1 bus, 1 truck, 1267.8ms\n",
            "Speed: 15.3ms preprocess, 1267.8ms inference, 2.3ms postprocess per image at shape (1, 3, 736, 1280)\n",
            "\n"
          ]
        },
        {
          "output_type": "stream",
          "name": "stderr",
          "text": [
            "SupervisionWarnings: annotate is deprecated: `BoxAnnotator` is deprecated and will be removed in `supervision-0.22.0`. Use `BoundingBoxAnnotator` and `LabelAnnotator` instead\n"
          ]
        },
        {
          "output_type": "stream",
          "name": "stdout",
          "text": [
            "0: 736x1280 4 cars, 1 truck, 1247.5ms\n",
            "Speed: 14.5ms preprocess, 1247.5ms inference, 3.3ms postprocess per image at shape (1, 3, 736, 1280)\n",
            "\n"
          ]
        },
        {
          "output_type": "stream",
          "name": "stderr",
          "text": [
            "SupervisionWarnings: annotate is deprecated: `BoxAnnotator` is deprecated and will be removed in `supervision-0.22.0`. Use `BoundingBoxAnnotator` and `LabelAnnotator` instead\n"
          ]
        },
        {
          "output_type": "stream",
          "name": "stdout",
          "text": [
            "0: 736x1280 4 cars, 1 truck, 1294.1ms\n",
            "Speed: 20.0ms preprocess, 1294.1ms inference, 2.8ms postprocess per image at shape (1, 3, 736, 1280)\n",
            "\n"
          ]
        },
        {
          "output_type": "stream",
          "name": "stderr",
          "text": [
            "SupervisionWarnings: annotate is deprecated: `BoxAnnotator` is deprecated and will be removed in `supervision-0.22.0`. Use `BoundingBoxAnnotator` and `LabelAnnotator` instead\n"
          ]
        },
        {
          "output_type": "stream",
          "name": "stdout",
          "text": [
            "0: 736x1280 4 cars, 1 truck, 1716.0ms\n",
            "Speed: 13.6ms preprocess, 1716.0ms inference, 3.5ms postprocess per image at shape (1, 3, 736, 1280)\n",
            "\n"
          ]
        },
        {
          "output_type": "stream",
          "name": "stderr",
          "text": [
            "SupervisionWarnings: annotate is deprecated: `BoxAnnotator` is deprecated and will be removed in `supervision-0.22.0`. Use `BoundingBoxAnnotator` and `LabelAnnotator` instead\n"
          ]
        },
        {
          "output_type": "stream",
          "name": "stdout",
          "text": [
            "0: 736x1280 4 cars, 1 truck, 2011.0ms\n",
            "Speed: 20.5ms preprocess, 2011.0ms inference, 4.2ms postprocess per image at shape (1, 3, 736, 1280)\n",
            "\n"
          ]
        },
        {
          "output_type": "stream",
          "name": "stderr",
          "text": [
            "SupervisionWarnings: annotate is deprecated: `BoxAnnotator` is deprecated and will be removed in `supervision-0.22.0`. Use `BoundingBoxAnnotator` and `LabelAnnotator` instead\n"
          ]
        },
        {
          "output_type": "stream",
          "name": "stdout",
          "text": [
            "0: 736x1280 4 cars, 1 truck, 1406.9ms\n",
            "Speed: 36.4ms preprocess, 1406.9ms inference, 3.2ms postprocess per image at shape (1, 3, 736, 1280)\n",
            "\n"
          ]
        },
        {
          "output_type": "stream",
          "name": "stderr",
          "text": [
            "SupervisionWarnings: annotate is deprecated: `BoxAnnotator` is deprecated and will be removed in `supervision-0.22.0`. Use `BoundingBoxAnnotator` and `LabelAnnotator` instead\n"
          ]
        },
        {
          "output_type": "stream",
          "name": "stdout",
          "text": [
            "0: 736x1280 4 cars, 1 truck, 1318.0ms\n",
            "Speed: 19.1ms preprocess, 1318.0ms inference, 3.1ms postprocess per image at shape (1, 3, 736, 1280)\n",
            "\n"
          ]
        },
        {
          "output_type": "stream",
          "name": "stderr",
          "text": [
            "SupervisionWarnings: annotate is deprecated: `BoxAnnotator` is deprecated and will be removed in `supervision-0.22.0`. Use `BoundingBoxAnnotator` and `LabelAnnotator` instead\n"
          ]
        },
        {
          "output_type": "stream",
          "name": "stdout",
          "text": [
            "0: 736x1280 4 cars, 1 truck, 1322.4ms\n",
            "Speed: 15.0ms preprocess, 1322.4ms inference, 4.4ms postprocess per image at shape (1, 3, 736, 1280)\n",
            "\n"
          ]
        },
        {
          "output_type": "stream",
          "name": "stderr",
          "text": [
            "SupervisionWarnings: annotate is deprecated: `BoxAnnotator` is deprecated and will be removed in `supervision-0.22.0`. Use `BoundingBoxAnnotator` and `LabelAnnotator` instead\n"
          ]
        },
        {
          "output_type": "stream",
          "name": "stdout",
          "text": [
            "0: 736x1280 4 cars, 1 truck, 2010.0ms\n",
            "Speed: 21.1ms preprocess, 2010.0ms inference, 3.8ms postprocess per image at shape (1, 3, 736, 1280)\n",
            "\n"
          ]
        },
        {
          "output_type": "stream",
          "name": "stderr",
          "text": [
            "SupervisionWarnings: annotate is deprecated: `BoxAnnotator` is deprecated and will be removed in `supervision-0.22.0`. Use `BoundingBoxAnnotator` and `LabelAnnotator` instead\n"
          ]
        },
        {
          "output_type": "stream",
          "name": "stdout",
          "text": [
            "0: 736x1280 4 cars, 1 truck, 1827.2ms\n",
            "Speed: 24.8ms preprocess, 1827.2ms inference, 2.9ms postprocess per image at shape (1, 3, 736, 1280)\n",
            "\n"
          ]
        },
        {
          "output_type": "stream",
          "name": "stderr",
          "text": [
            "SupervisionWarnings: annotate is deprecated: `BoxAnnotator` is deprecated and will be removed in `supervision-0.22.0`. Use `BoundingBoxAnnotator` and `LabelAnnotator` instead\n"
          ]
        },
        {
          "output_type": "stream",
          "name": "stdout",
          "text": [
            "0: 736x1280 4 cars, 1 truck, 1233.0ms\n",
            "Speed: 14.1ms preprocess, 1233.0ms inference, 2.6ms postprocess per image at shape (1, 3, 736, 1280)\n",
            "\n"
          ]
        },
        {
          "output_type": "stream",
          "name": "stderr",
          "text": [
            "SupervisionWarnings: annotate is deprecated: `BoxAnnotator` is deprecated and will be removed in `supervision-0.22.0`. Use `BoundingBoxAnnotator` and `LabelAnnotator` instead\n"
          ]
        },
        {
          "output_type": "stream",
          "name": "stdout",
          "text": [
            "0: 736x1280 4 cars, 1 truck, 1843.6ms\n",
            "Speed: 13.5ms preprocess, 1843.6ms inference, 4.3ms postprocess per image at shape (1, 3, 736, 1280)\n",
            "\n"
          ]
        },
        {
          "output_type": "stream",
          "name": "stderr",
          "text": [
            "SupervisionWarnings: annotate is deprecated: `BoxAnnotator` is deprecated and will be removed in `supervision-0.22.0`. Use `BoundingBoxAnnotator` and `LabelAnnotator` instead\n"
          ]
        },
        {
          "output_type": "stream",
          "name": "stdout",
          "text": [
            "0: 736x1280 4 cars, 1 truck, 2016.1ms\n",
            "Speed: 28.6ms preprocess, 2016.1ms inference, 3.5ms postprocess per image at shape (1, 3, 736, 1280)\n",
            "\n"
          ]
        },
        {
          "output_type": "stream",
          "name": "stderr",
          "text": [
            "SupervisionWarnings: annotate is deprecated: `BoxAnnotator` is deprecated and will be removed in `supervision-0.22.0`. Use `BoundingBoxAnnotator` and `LabelAnnotator` instead\n"
          ]
        },
        {
          "output_type": "stream",
          "name": "stdout",
          "text": [
            "0: 736x1280 4 cars, 1 truck, 1277.8ms\n",
            "Speed: 15.3ms preprocess, 1277.8ms inference, 2.6ms postprocess per image at shape (1, 3, 736, 1280)\n",
            "\n"
          ]
        },
        {
          "output_type": "stream",
          "name": "stderr",
          "text": [
            "SupervisionWarnings: annotate is deprecated: `BoxAnnotator` is deprecated and will be removed in `supervision-0.22.0`. Use `BoundingBoxAnnotator` and `LabelAnnotator` instead\n"
          ]
        },
        {
          "output_type": "stream",
          "name": "stdout",
          "text": [
            "0: 736x1280 4 cars, 1 truck, 1260.1ms\n",
            "Speed: 13.4ms preprocess, 1260.1ms inference, 2.7ms postprocess per image at shape (1, 3, 736, 1280)\n",
            "\n"
          ]
        },
        {
          "output_type": "stream",
          "name": "stderr",
          "text": [
            "SupervisionWarnings: annotate is deprecated: `BoxAnnotator` is deprecated and will be removed in `supervision-0.22.0`. Use `BoundingBoxAnnotator` and `LabelAnnotator` instead\n"
          ]
        },
        {
          "output_type": "stream",
          "name": "stdout",
          "text": [
            "0: 736x1280 4 cars, 1 truck, 1288.3ms\n",
            "Speed: 14.9ms preprocess, 1288.3ms inference, 3.9ms postprocess per image at shape (1, 3, 736, 1280)\n",
            "\n"
          ]
        },
        {
          "output_type": "stream",
          "name": "stderr",
          "text": [
            "SupervisionWarnings: annotate is deprecated: `BoxAnnotator` is deprecated and will be removed in `supervision-0.22.0`. Use `BoundingBoxAnnotator` and `LabelAnnotator` instead\n"
          ]
        },
        {
          "output_type": "stream",
          "name": "stdout",
          "text": [
            "0: 736x1280 4 cars, 1 truck, 1324.5ms\n",
            "Speed: 15.3ms preprocess, 1324.5ms inference, 3.1ms postprocess per image at shape (1, 3, 736, 1280)\n",
            "\n"
          ]
        },
        {
          "output_type": "stream",
          "name": "stderr",
          "text": [
            "SupervisionWarnings: annotate is deprecated: `BoxAnnotator` is deprecated and will be removed in `supervision-0.22.0`. Use `BoundingBoxAnnotator` and `LabelAnnotator` instead\n"
          ]
        },
        {
          "output_type": "stream",
          "name": "stdout",
          "text": [
            "0: 736x1280 4 cars, 1 truck, 1292.6ms\n",
            "Speed: 14.4ms preprocess, 1292.6ms inference, 2.6ms postprocess per image at shape (1, 3, 736, 1280)\n",
            "\n"
          ]
        },
        {
          "output_type": "stream",
          "name": "stderr",
          "text": [
            "SupervisionWarnings: annotate is deprecated: `BoxAnnotator` is deprecated and will be removed in `supervision-0.22.0`. Use `BoundingBoxAnnotator` and `LabelAnnotator` instead\n"
          ]
        },
        {
          "output_type": "stream",
          "name": "stdout",
          "text": [
            "0: 736x1280 4 cars, 1 truck, 1305.2ms\n",
            "Speed: 17.1ms preprocess, 1305.2ms inference, 3.2ms postprocess per image at shape (1, 3, 736, 1280)\n",
            "\n"
          ]
        },
        {
          "output_type": "stream",
          "name": "stderr",
          "text": [
            "SupervisionWarnings: annotate is deprecated: `BoxAnnotator` is deprecated and will be removed in `supervision-0.22.0`. Use `BoundingBoxAnnotator` and `LabelAnnotator` instead\n"
          ]
        },
        {
          "output_type": "stream",
          "name": "stdout",
          "text": [
            "0: 736x1280 4 cars, 1 truck, 1346.8ms\n",
            "Speed: 17.0ms preprocess, 1346.8ms inference, 3.2ms postprocess per image at shape (1, 3, 736, 1280)\n",
            "\n"
          ]
        },
        {
          "output_type": "stream",
          "name": "stderr",
          "text": [
            "SupervisionWarnings: annotate is deprecated: `BoxAnnotator` is deprecated and will be removed in `supervision-0.22.0`. Use `BoundingBoxAnnotator` and `LabelAnnotator` instead\n"
          ]
        },
        {
          "output_type": "stream",
          "name": "stdout",
          "text": [
            "0: 736x1280 4 cars, 2 trucks, 1979.3ms\n",
            "Speed: 35.3ms preprocess, 1979.3ms inference, 4.5ms postprocess per image at shape (1, 3, 736, 1280)\n",
            "\n"
          ]
        },
        {
          "output_type": "stream",
          "name": "stderr",
          "text": [
            "SupervisionWarnings: annotate is deprecated: `BoxAnnotator` is deprecated and will be removed in `supervision-0.22.0`. Use `BoundingBoxAnnotator` and `LabelAnnotator` instead\n"
          ]
        },
        {
          "output_type": "stream",
          "name": "stdout",
          "text": [
            "0: 736x1280 4 cars, 2 trucks, 1813.7ms\n",
            "Speed: 33.8ms preprocess, 1813.7ms inference, 3.3ms postprocess per image at shape (1, 3, 736, 1280)\n",
            "\n"
          ]
        },
        {
          "output_type": "stream",
          "name": "stderr",
          "text": [
            "SupervisionWarnings: annotate is deprecated: `BoxAnnotator` is deprecated and will be removed in `supervision-0.22.0`. Use `BoundingBoxAnnotator` and `LabelAnnotator` instead\n"
          ]
        },
        {
          "output_type": "stream",
          "name": "stdout",
          "text": [
            "0: 736x1280 4 cars, 1 truck, 1331.9ms\n",
            "Speed: 28.0ms preprocess, 1331.9ms inference, 3.1ms postprocess per image at shape (1, 3, 736, 1280)\n",
            "\n"
          ]
        },
        {
          "output_type": "stream",
          "name": "stderr",
          "text": [
            "SupervisionWarnings: annotate is deprecated: `BoxAnnotator` is deprecated and will be removed in `supervision-0.22.0`. Use `BoundingBoxAnnotator` and `LabelAnnotator` instead\n"
          ]
        },
        {
          "output_type": "stream",
          "name": "stdout",
          "text": [
            "0: 736x1280 4 cars, 2 trucks, 1307.1ms\n",
            "Speed: 14.8ms preprocess, 1307.1ms inference, 2.8ms postprocess per image at shape (1, 3, 736, 1280)\n",
            "\n"
          ]
        },
        {
          "output_type": "stream",
          "name": "stderr",
          "text": [
            "SupervisionWarnings: annotate is deprecated: `BoxAnnotator` is deprecated and will be removed in `supervision-0.22.0`. Use `BoundingBoxAnnotator` and `LabelAnnotator` instead\n"
          ]
        },
        {
          "output_type": "stream",
          "name": "stdout",
          "text": [
            "0: 736x1280 4 cars, 1 truck, 1261.1ms\n",
            "Speed: 18.2ms preprocess, 1261.1ms inference, 2.7ms postprocess per image at shape (1, 3, 736, 1280)\n",
            "\n"
          ]
        },
        {
          "output_type": "stream",
          "name": "stderr",
          "text": [
            "SupervisionWarnings: annotate is deprecated: `BoxAnnotator` is deprecated and will be removed in `supervision-0.22.0`. Use `BoundingBoxAnnotator` and `LabelAnnotator` instead\n"
          ]
        },
        {
          "output_type": "stream",
          "name": "stdout",
          "text": [
            "0: 736x1280 4 cars, 2 trucks, 1196.8ms\n",
            "Speed: 13.2ms preprocess, 1196.8ms inference, 2.3ms postprocess per image at shape (1, 3, 736, 1280)\n",
            "\n"
          ]
        },
        {
          "output_type": "stream",
          "name": "stderr",
          "text": [
            "SupervisionWarnings: annotate is deprecated: `BoxAnnotator` is deprecated and will be removed in `supervision-0.22.0`. Use `BoundingBoxAnnotator` and `LabelAnnotator` instead\n"
          ]
        },
        {
          "output_type": "stream",
          "name": "stdout",
          "text": [
            "0: 736x1280 4 cars, 2 trucks, 1274.2ms\n",
            "Speed: 15.4ms preprocess, 1274.2ms inference, 3.1ms postprocess per image at shape (1, 3, 736, 1280)\n",
            "\n"
          ]
        },
        {
          "output_type": "stream",
          "name": "stderr",
          "text": [
            "SupervisionWarnings: annotate is deprecated: `BoxAnnotator` is deprecated and will be removed in `supervision-0.22.0`. Use `BoundingBoxAnnotator` and `LabelAnnotator` instead\n"
          ]
        },
        {
          "output_type": "stream",
          "name": "stdout",
          "text": [
            "0: 736x1280 4 cars, 2 trucks, 1251.3ms\n",
            "Speed: 14.7ms preprocess, 1251.3ms inference, 3.1ms postprocess per image at shape (1, 3, 736, 1280)\n",
            "\n"
          ]
        },
        {
          "output_type": "stream",
          "name": "stderr",
          "text": [
            "SupervisionWarnings: annotate is deprecated: `BoxAnnotator` is deprecated and will be removed in `supervision-0.22.0`. Use `BoundingBoxAnnotator` and `LabelAnnotator` instead\n"
          ]
        },
        {
          "output_type": "stream",
          "name": "stdout",
          "text": [
            "0: 736x1280 4 cars, 2 trucks, 1324.4ms\n",
            "Speed: 14.9ms preprocess, 1324.4ms inference, 4.4ms postprocess per image at shape (1, 3, 736, 1280)\n",
            "\n"
          ]
        },
        {
          "output_type": "stream",
          "name": "stderr",
          "text": [
            "SupervisionWarnings: annotate is deprecated: `BoxAnnotator` is deprecated and will be removed in `supervision-0.22.0`. Use `BoundingBoxAnnotator` and `LabelAnnotator` instead\n"
          ]
        },
        {
          "output_type": "stream",
          "name": "stdout",
          "text": [
            "0: 736x1280 4 cars, 1 truck, 1926.3ms\n",
            "Speed: 37.8ms preprocess, 1926.3ms inference, 4.2ms postprocess per image at shape (1, 3, 736, 1280)\n",
            "\n"
          ]
        },
        {
          "output_type": "stream",
          "name": "stderr",
          "text": [
            "SupervisionWarnings: annotate is deprecated: `BoxAnnotator` is deprecated and will be removed in `supervision-0.22.0`. Use `BoundingBoxAnnotator` and `LabelAnnotator` instead\n"
          ]
        },
        {
          "output_type": "stream",
          "name": "stdout",
          "text": [
            "0: 736x1280 4 cars, 1 truck, 1707.9ms\n",
            "Speed: 38.1ms preprocess, 1707.9ms inference, 3.2ms postprocess per image at shape (1, 3, 736, 1280)\n",
            "\n"
          ]
        },
        {
          "output_type": "stream",
          "name": "stderr",
          "text": [
            "SupervisionWarnings: annotate is deprecated: `BoxAnnotator` is deprecated and will be removed in `supervision-0.22.0`. Use `BoundingBoxAnnotator` and `LabelAnnotator` instead\n"
          ]
        },
        {
          "output_type": "stream",
          "name": "stdout",
          "text": [
            "0: 736x1280 4 cars, 2 trucks, 1337.1ms\n",
            "Speed: 16.2ms preprocess, 1337.1ms inference, 2.8ms postprocess per image at shape (1, 3, 736, 1280)\n",
            "\n"
          ]
        },
        {
          "output_type": "stream",
          "name": "stderr",
          "text": [
            "SupervisionWarnings: annotate is deprecated: `BoxAnnotator` is deprecated and will be removed in `supervision-0.22.0`. Use `BoundingBoxAnnotator` and `LabelAnnotator` instead\n"
          ]
        },
        {
          "output_type": "stream",
          "name": "stdout",
          "text": [
            "0: 736x1280 4 cars, 2 trucks, 1302.0ms\n",
            "Speed: 16.1ms preprocess, 1302.0ms inference, 2.7ms postprocess per image at shape (1, 3, 736, 1280)\n",
            "\n"
          ]
        },
        {
          "output_type": "stream",
          "name": "stderr",
          "text": [
            "SupervisionWarnings: annotate is deprecated: `BoxAnnotator` is deprecated and will be removed in `supervision-0.22.0`. Use `BoundingBoxAnnotator` and `LabelAnnotator` instead\n"
          ]
        },
        {
          "output_type": "stream",
          "name": "stdout",
          "text": [
            "0: 736x1280 4 cars, 2 trucks, 1243.3ms\n",
            "Speed: 13.4ms preprocess, 1243.3ms inference, 2.3ms postprocess per image at shape (1, 3, 736, 1280)\n",
            "\n"
          ]
        },
        {
          "output_type": "stream",
          "name": "stderr",
          "text": [
            "SupervisionWarnings: annotate is deprecated: `BoxAnnotator` is deprecated and will be removed in `supervision-0.22.0`. Use `BoundingBoxAnnotator` and `LabelAnnotator` instead\n"
          ]
        },
        {
          "output_type": "stream",
          "name": "stdout",
          "text": [
            "0: 736x1280 4 cars, 2 trucks, 1289.7ms\n",
            "Speed: 14.3ms preprocess, 1289.7ms inference, 3.1ms postprocess per image at shape (1, 3, 736, 1280)\n",
            "\n"
          ]
        },
        {
          "output_type": "stream",
          "name": "stderr",
          "text": [
            "SupervisionWarnings: annotate is deprecated: `BoxAnnotator` is deprecated and will be removed in `supervision-0.22.0`. Use `BoundingBoxAnnotator` and `LabelAnnotator` instead\n"
          ]
        },
        {
          "output_type": "stream",
          "name": "stdout",
          "text": [
            "0: 736x1280 4 cars, 2 trucks, 1251.7ms\n",
            "Speed: 16.6ms preprocess, 1251.7ms inference, 2.6ms postprocess per image at shape (1, 3, 736, 1280)\n",
            "\n"
          ]
        },
        {
          "output_type": "stream",
          "name": "stderr",
          "text": [
            "SupervisionWarnings: annotate is deprecated: `BoxAnnotator` is deprecated and will be removed in `supervision-0.22.0`. Use `BoundingBoxAnnotator` and `LabelAnnotator` instead\n"
          ]
        },
        {
          "output_type": "stream",
          "name": "stdout",
          "text": [
            "0: 736x1280 4 cars, 2 trucks, 1276.3ms\n",
            "Speed: 13.1ms preprocess, 1276.3ms inference, 3.1ms postprocess per image at shape (1, 3, 736, 1280)\n",
            "\n"
          ]
        },
        {
          "output_type": "stream",
          "name": "stderr",
          "text": [
            "SupervisionWarnings: annotate is deprecated: `BoxAnnotator` is deprecated and will be removed in `supervision-0.22.0`. Use `BoundingBoxAnnotator` and `LabelAnnotator` instead\n"
          ]
        },
        {
          "output_type": "stream",
          "name": "stdout",
          "text": [
            "0: 736x1280 4 cars, 2 trucks, 1542.4ms\n",
            "Speed: 16.5ms preprocess, 1542.4ms inference, 4.3ms postprocess per image at shape (1, 3, 736, 1280)\n",
            "\n"
          ]
        },
        {
          "output_type": "stream",
          "name": "stderr",
          "text": [
            "SupervisionWarnings: annotate is deprecated: `BoxAnnotator` is deprecated and will be removed in `supervision-0.22.0`. Use `BoundingBoxAnnotator` and `LabelAnnotator` instead\n"
          ]
        },
        {
          "output_type": "stream",
          "name": "stdout",
          "text": [
            "0: 736x1280 4 cars, 2 trucks, 2011.0ms\n",
            "Speed: 20.2ms preprocess, 2011.0ms inference, 3.5ms postprocess per image at shape (1, 3, 736, 1280)\n",
            "\n"
          ]
        },
        {
          "output_type": "stream",
          "name": "stderr",
          "text": [
            "SupervisionWarnings: annotate is deprecated: `BoxAnnotator` is deprecated and will be removed in `supervision-0.22.0`. Use `BoundingBoxAnnotator` and `LabelAnnotator` instead\n"
          ]
        },
        {
          "output_type": "stream",
          "name": "stdout",
          "text": [
            "0: 736x1280 4 cars, 1 truck, 1319.4ms\n",
            "Speed: 19.1ms preprocess, 1319.4ms inference, 2.3ms postprocess per image at shape (1, 3, 736, 1280)\n",
            "\n"
          ]
        },
        {
          "output_type": "stream",
          "name": "stderr",
          "text": [
            "SupervisionWarnings: annotate is deprecated: `BoxAnnotator` is deprecated and will be removed in `supervision-0.22.0`. Use `BoundingBoxAnnotator` and `LabelAnnotator` instead\n"
          ]
        },
        {
          "output_type": "stream",
          "name": "stdout",
          "text": [
            "0: 736x1280 4 cars, 1 truck, 1239.8ms\n",
            "Speed: 14.9ms preprocess, 1239.8ms inference, 3.0ms postprocess per image at shape (1, 3, 736, 1280)\n",
            "\n"
          ]
        },
        {
          "output_type": "stream",
          "name": "stderr",
          "text": [
            "SupervisionWarnings: annotate is deprecated: `BoxAnnotator` is deprecated and will be removed in `supervision-0.22.0`. Use `BoundingBoxAnnotator` and `LabelAnnotator` instead\n"
          ]
        },
        {
          "output_type": "stream",
          "name": "stdout",
          "text": [
            "0: 736x1280 4 cars, 2 trucks, 1319.4ms\n",
            "Speed: 22.3ms preprocess, 1319.4ms inference, 2.7ms postprocess per image at shape (1, 3, 736, 1280)\n",
            "\n"
          ]
        },
        {
          "output_type": "stream",
          "name": "stderr",
          "text": [
            "SupervisionWarnings: annotate is deprecated: `BoxAnnotator` is deprecated and will be removed in `supervision-0.22.0`. Use `BoundingBoxAnnotator` and `LabelAnnotator` instead\n"
          ]
        },
        {
          "output_type": "stream",
          "name": "stdout",
          "text": [
            "0: 736x1280 4 cars, 1 truck, 1192.1ms\n",
            "Speed: 13.4ms preprocess, 1192.1ms inference, 2.5ms postprocess per image at shape (1, 3, 736, 1280)\n",
            "\n"
          ]
        },
        {
          "output_type": "stream",
          "name": "stderr",
          "text": [
            "SupervisionWarnings: annotate is deprecated: `BoxAnnotator` is deprecated and will be removed in `supervision-0.22.0`. Use `BoundingBoxAnnotator` and `LabelAnnotator` instead\n"
          ]
        },
        {
          "output_type": "stream",
          "name": "stdout",
          "text": [
            "0: 736x1280 4 cars, 2 trucks, 1216.3ms\n",
            "Speed: 12.5ms preprocess, 1216.3ms inference, 2.2ms postprocess per image at shape (1, 3, 736, 1280)\n",
            "\n"
          ]
        },
        {
          "output_type": "stream",
          "name": "stderr",
          "text": [
            "SupervisionWarnings: annotate is deprecated: `BoxAnnotator` is deprecated and will be removed in `supervision-0.22.0`. Use `BoundingBoxAnnotator` and `LabelAnnotator` instead\n"
          ]
        },
        {
          "output_type": "stream",
          "name": "stdout",
          "text": [
            "0: 736x1280 4 cars, 2 trucks, 1234.7ms\n",
            "Speed: 12.9ms preprocess, 1234.7ms inference, 2.2ms postprocess per image at shape (1, 3, 736, 1280)\n",
            "\n"
          ]
        },
        {
          "output_type": "stream",
          "name": "stderr",
          "text": [
            "SupervisionWarnings: annotate is deprecated: `BoxAnnotator` is deprecated and will be removed in `supervision-0.22.0`. Use `BoundingBoxAnnotator` and `LabelAnnotator` instead\n"
          ]
        },
        {
          "output_type": "stream",
          "name": "stdout",
          "text": [
            "0: 736x1280 4 cars, 2 trucks, 1211.9ms\n",
            "Speed: 13.3ms preprocess, 1211.9ms inference, 2.4ms postprocess per image at shape (1, 3, 736, 1280)\n",
            "\n"
          ]
        },
        {
          "output_type": "stream",
          "name": "stderr",
          "text": [
            "SupervisionWarnings: annotate is deprecated: `BoxAnnotator` is deprecated and will be removed in `supervision-0.22.0`. Use `BoundingBoxAnnotator` and `LabelAnnotator` instead\n"
          ]
        },
        {
          "output_type": "stream",
          "name": "stdout",
          "text": [
            "0: 736x1280 4 cars, 2 trucks, 1620.1ms\n",
            "Speed: 13.0ms preprocess, 1620.1ms inference, 3.3ms postprocess per image at shape (1, 3, 736, 1280)\n",
            "\n"
          ]
        },
        {
          "output_type": "stream",
          "name": "stderr",
          "text": [
            "SupervisionWarnings: annotate is deprecated: `BoxAnnotator` is deprecated and will be removed in `supervision-0.22.0`. Use `BoundingBoxAnnotator` and `LabelAnnotator` instead\n"
          ]
        },
        {
          "output_type": "stream",
          "name": "stdout",
          "text": [
            "0: 736x1280 4 cars, 1 train, 2 trucks, 1911.6ms\n",
            "Speed: 24.5ms preprocess, 1911.6ms inference, 4.9ms postprocess per image at shape (1, 3, 736, 1280)\n",
            "\n"
          ]
        },
        {
          "output_type": "stream",
          "name": "stderr",
          "text": [
            "SupervisionWarnings: annotate is deprecated: `BoxAnnotator` is deprecated and will be removed in `supervision-0.22.0`. Use `BoundingBoxAnnotator` and `LabelAnnotator` instead\n"
          ]
        },
        {
          "output_type": "stream",
          "name": "stdout",
          "text": [
            "0: 736x1280 4 cars, 1 truck, 1560.4ms\n",
            "Speed: 29.4ms preprocess, 1560.4ms inference, 2.4ms postprocess per image at shape (1, 3, 736, 1280)\n",
            "\n"
          ]
        },
        {
          "output_type": "stream",
          "name": "stderr",
          "text": [
            "SupervisionWarnings: annotate is deprecated: `BoxAnnotator` is deprecated and will be removed in `supervision-0.22.0`. Use `BoundingBoxAnnotator` and `LabelAnnotator` instead\n"
          ]
        },
        {
          "output_type": "stream",
          "name": "stdout",
          "text": [
            "0: 736x1280 4 cars, 1 truck, 1240.4ms\n",
            "Speed: 17.4ms preprocess, 1240.4ms inference, 2.2ms postprocess per image at shape (1, 3, 736, 1280)\n",
            "\n"
          ]
        },
        {
          "output_type": "stream",
          "name": "stderr",
          "text": [
            "SupervisionWarnings: annotate is deprecated: `BoxAnnotator` is deprecated and will be removed in `supervision-0.22.0`. Use `BoundingBoxAnnotator` and `LabelAnnotator` instead\n"
          ]
        },
        {
          "output_type": "stream",
          "name": "stdout",
          "text": [
            "0: 736x1280 4 cars, 1 truck, 1225.3ms\n",
            "Speed: 12.9ms preprocess, 1225.3ms inference, 2.4ms postprocess per image at shape (1, 3, 736, 1280)\n",
            "\n"
          ]
        },
        {
          "output_type": "stream",
          "name": "stderr",
          "text": [
            "SupervisionWarnings: annotate is deprecated: `BoxAnnotator` is deprecated and will be removed in `supervision-0.22.0`. Use `BoundingBoxAnnotator` and `LabelAnnotator` instead\n"
          ]
        },
        {
          "output_type": "stream",
          "name": "stdout",
          "text": [
            "0: 736x1280 4 cars, 1 train, 1 truck, 1315.3ms\n",
            "Speed: 14.5ms preprocess, 1315.3ms inference, 2.9ms postprocess per image at shape (1, 3, 736, 1280)\n",
            "\n"
          ]
        },
        {
          "output_type": "stream",
          "name": "stderr",
          "text": [
            "SupervisionWarnings: annotate is deprecated: `BoxAnnotator` is deprecated and will be removed in `supervision-0.22.0`. Use `BoundingBoxAnnotator` and `LabelAnnotator` instead\n"
          ]
        },
        {
          "output_type": "stream",
          "name": "stdout",
          "text": [
            "0: 736x1280 4 cars, 1 truck, 1268.9ms\n",
            "Speed: 16.0ms preprocess, 1268.9ms inference, 2.3ms postprocess per image at shape (1, 3, 736, 1280)\n",
            "\n"
          ]
        },
        {
          "output_type": "stream",
          "name": "stderr",
          "text": [
            "SupervisionWarnings: annotate is deprecated: `BoxAnnotator` is deprecated and will be removed in `supervision-0.22.0`. Use `BoundingBoxAnnotator` and `LabelAnnotator` instead\n"
          ]
        },
        {
          "output_type": "stream",
          "name": "stdout",
          "text": [
            "0: 736x1280 4 cars, 1 train, 1 truck, 1244.3ms\n",
            "Speed: 12.6ms preprocess, 1244.3ms inference, 3.3ms postprocess per image at shape (1, 3, 736, 1280)\n",
            "\n"
          ]
        },
        {
          "output_type": "stream",
          "name": "stderr",
          "text": [
            "SupervisionWarnings: annotate is deprecated: `BoxAnnotator` is deprecated and will be removed in `supervision-0.22.0`. Use `BoundingBoxAnnotator` and `LabelAnnotator` instead\n"
          ]
        },
        {
          "output_type": "stream",
          "name": "stdout",
          "text": [
            "0: 736x1280 4 cars, 1 train, 1296.6ms\n",
            "Speed: 16.4ms preprocess, 1296.6ms inference, 2.7ms postprocess per image at shape (1, 3, 736, 1280)\n",
            "\n"
          ]
        },
        {
          "output_type": "stream",
          "name": "stderr",
          "text": [
            "SupervisionWarnings: annotate is deprecated: `BoxAnnotator` is deprecated and will be removed in `supervision-0.22.0`. Use `BoundingBoxAnnotator` and `LabelAnnotator` instead\n"
          ]
        },
        {
          "output_type": "stream",
          "name": "stdout",
          "text": [
            "0: 736x1280 4 cars, 1 train, 1 truck, 1545.6ms\n",
            "Speed: 13.8ms preprocess, 1545.6ms inference, 3.6ms postprocess per image at shape (1, 3, 736, 1280)\n",
            "\n"
          ]
        },
        {
          "output_type": "stream",
          "name": "stderr",
          "text": [
            "SupervisionWarnings: annotate is deprecated: `BoxAnnotator` is deprecated and will be removed in `supervision-0.22.0`. Use `BoundingBoxAnnotator` and `LabelAnnotator` instead\n"
          ]
        },
        {
          "output_type": "stream",
          "name": "stdout",
          "text": [
            "0: 736x1280 4 cars, 1 train, 1 truck, 1994.5ms\n",
            "Speed: 27.8ms preprocess, 1994.5ms inference, 4.2ms postprocess per image at shape (1, 3, 736, 1280)\n",
            "\n"
          ]
        },
        {
          "output_type": "stream",
          "name": "stderr",
          "text": [
            "SupervisionWarnings: annotate is deprecated: `BoxAnnotator` is deprecated and will be removed in `supervision-0.22.0`. Use `BoundingBoxAnnotator` and `LabelAnnotator` instead\n"
          ]
        },
        {
          "output_type": "stream",
          "name": "stdout",
          "text": [
            "0: 736x1280 4 cars, 1 train, 1 truck, 1471.7ms\n",
            "Speed: 31.1ms preprocess, 1471.7ms inference, 3.5ms postprocess per image at shape (1, 3, 736, 1280)\n",
            "\n"
          ]
        },
        {
          "output_type": "stream",
          "name": "stderr",
          "text": [
            "SupervisionWarnings: annotate is deprecated: `BoxAnnotator` is deprecated and will be removed in `supervision-0.22.0`. Use `BoundingBoxAnnotator` and `LabelAnnotator` instead\n"
          ]
        },
        {
          "output_type": "stream",
          "name": "stdout",
          "text": [
            "0: 736x1280 4 cars, 1 train, 1 truck, 1307.2ms\n",
            "Speed: 14.6ms preprocess, 1307.2ms inference, 3.5ms postprocess per image at shape (1, 3, 736, 1280)\n",
            "\n"
          ]
        },
        {
          "output_type": "stream",
          "name": "stderr",
          "text": [
            "SupervisionWarnings: annotate is deprecated: `BoxAnnotator` is deprecated and will be removed in `supervision-0.22.0`. Use `BoundingBoxAnnotator` and `LabelAnnotator` instead\n"
          ]
        },
        {
          "output_type": "stream",
          "name": "stdout",
          "text": [
            "0: 736x1280 4 cars, 1 bus, 1 train, 1 truck, 1344.9ms\n",
            "Speed: 19.4ms preprocess, 1344.9ms inference, 3.2ms postprocess per image at shape (1, 3, 736, 1280)\n",
            "\n"
          ]
        },
        {
          "output_type": "stream",
          "name": "stderr",
          "text": [
            "SupervisionWarnings: annotate is deprecated: `BoxAnnotator` is deprecated and will be removed in `supervision-0.22.0`. Use `BoundingBoxAnnotator` and `LabelAnnotator` instead\n"
          ]
        },
        {
          "output_type": "stream",
          "name": "stdout",
          "text": [
            "0: 736x1280 4 cars, 1 bus, 1 train, 1 truck, 1358.8ms\n",
            "Speed: 19.0ms preprocess, 1358.8ms inference, 2.4ms postprocess per image at shape (1, 3, 736, 1280)\n",
            "\n"
          ]
        },
        {
          "output_type": "stream",
          "name": "stderr",
          "text": [
            "SupervisionWarnings: annotate is deprecated: `BoxAnnotator` is deprecated and will be removed in `supervision-0.22.0`. Use `BoundingBoxAnnotator` and `LabelAnnotator` instead\n"
          ]
        },
        {
          "output_type": "stream",
          "name": "stdout",
          "text": [
            "0: 736x1280 4 cars, 1 bus, 1 truck, 1288.0ms\n",
            "Speed: 13.7ms preprocess, 1288.0ms inference, 3.2ms postprocess per image at shape (1, 3, 736, 1280)\n",
            "\n"
          ]
        },
        {
          "output_type": "stream",
          "name": "stderr",
          "text": [
            "SupervisionWarnings: annotate is deprecated: `BoxAnnotator` is deprecated and will be removed in `supervision-0.22.0`. Use `BoundingBoxAnnotator` and `LabelAnnotator` instead\n"
          ]
        },
        {
          "output_type": "stream",
          "name": "stdout",
          "text": [
            "0: 736x1280 4 cars, 1 bus, 1 truck, 1308.2ms\n",
            "Speed: 18.1ms preprocess, 1308.2ms inference, 2.7ms postprocess per image at shape (1, 3, 736, 1280)\n",
            "\n"
          ]
        },
        {
          "output_type": "stream",
          "name": "stderr",
          "text": [
            "SupervisionWarnings: annotate is deprecated: `BoxAnnotator` is deprecated and will be removed in `supervision-0.22.0`. Use `BoundingBoxAnnotator` and `LabelAnnotator` instead\n"
          ]
        },
        {
          "output_type": "stream",
          "name": "stdout",
          "text": [
            "0: 736x1280 4 cars, 1 bus, 1 train, 1 truck, 1271.4ms\n",
            "Speed: 13.4ms preprocess, 1271.4ms inference, 3.4ms postprocess per image at shape (1, 3, 736, 1280)\n",
            "\n"
          ]
        },
        {
          "output_type": "stream",
          "name": "stderr",
          "text": [
            "SupervisionWarnings: annotate is deprecated: `BoxAnnotator` is deprecated and will be removed in `supervision-0.22.0`. Use `BoundingBoxAnnotator` and `LabelAnnotator` instead\n"
          ]
        },
        {
          "output_type": "stream",
          "name": "stdout",
          "text": [
            "0: 736x1280 4 cars, 1 bus, 1 train, 1 truck, 1952.4ms\n",
            "Speed: 16.0ms preprocess, 1952.4ms inference, 3.1ms postprocess per image at shape (1, 3, 736, 1280)\n",
            "\n"
          ]
        },
        {
          "output_type": "stream",
          "name": "stderr",
          "text": [
            "SupervisionWarnings: annotate is deprecated: `BoxAnnotator` is deprecated and will be removed in `supervision-0.22.0`. Use `BoundingBoxAnnotator` and `LabelAnnotator` instead\n"
          ]
        },
        {
          "output_type": "stream",
          "name": "stdout",
          "text": [
            "0: 736x1280 4 cars, 1 bus, 1 train, 1946.0ms\n",
            "Speed: 18.0ms preprocess, 1946.0ms inference, 3.3ms postprocess per image at shape (1, 3, 736, 1280)\n",
            "\n"
          ]
        },
        {
          "output_type": "stream",
          "name": "stderr",
          "text": [
            "SupervisionWarnings: annotate is deprecated: `BoxAnnotator` is deprecated and will be removed in `supervision-0.22.0`. Use `BoundingBoxAnnotator` and `LabelAnnotator` instead\n"
          ]
        },
        {
          "output_type": "stream",
          "name": "stdout",
          "text": [
            "0: 736x1280 4 cars, 1 bus, 1 train, 1 truck, 1245.7ms\n",
            "Speed: 17.0ms preprocess, 1245.7ms inference, 2.4ms postprocess per image at shape (1, 3, 736, 1280)\n",
            "\n"
          ]
        },
        {
          "output_type": "stream",
          "name": "stderr",
          "text": [
            "SupervisionWarnings: annotate is deprecated: `BoxAnnotator` is deprecated and will be removed in `supervision-0.22.0`. Use `BoundingBoxAnnotator` and `LabelAnnotator` instead\n"
          ]
        },
        {
          "output_type": "stream",
          "name": "stdout",
          "text": [
            "0: 736x1280 4 cars, 1 bus, 1 truck, 1308.0ms\n",
            "Speed: 14.6ms preprocess, 1308.0ms inference, 2.7ms postprocess per image at shape (1, 3, 736, 1280)\n",
            "\n"
          ]
        },
        {
          "output_type": "stream",
          "name": "stderr",
          "text": [
            "SupervisionWarnings: annotate is deprecated: `BoxAnnotator` is deprecated and will be removed in `supervision-0.22.0`. Use `BoundingBoxAnnotator` and `LabelAnnotator` instead\n"
          ]
        },
        {
          "output_type": "stream",
          "name": "stdout",
          "text": [
            "0: 736x1280 4 cars, 1 bus, 1 train, 1227.3ms\n",
            "Speed: 13.2ms preprocess, 1227.3ms inference, 2.5ms postprocess per image at shape (1, 3, 736, 1280)\n",
            "\n"
          ]
        },
        {
          "output_type": "stream",
          "name": "stderr",
          "text": [
            "SupervisionWarnings: annotate is deprecated: `BoxAnnotator` is deprecated and will be removed in `supervision-0.22.0`. Use `BoundingBoxAnnotator` and `LabelAnnotator` instead\n"
          ]
        },
        {
          "output_type": "stream",
          "name": "stdout",
          "text": [
            "0: 736x1280 4 cars, 1 bus, 1 train, 1288.1ms\n",
            "Speed: 18.1ms preprocess, 1288.1ms inference, 2.9ms postprocess per image at shape (1, 3, 736, 1280)\n",
            "\n"
          ]
        },
        {
          "output_type": "stream",
          "name": "stderr",
          "text": [
            "SupervisionWarnings: annotate is deprecated: `BoxAnnotator` is deprecated and will be removed in `supervision-0.22.0`. Use `BoundingBoxAnnotator` and `LabelAnnotator` instead\n"
          ]
        },
        {
          "output_type": "stream",
          "name": "stdout",
          "text": [
            "0: 736x1280 4 cars, 1 bus, 1 truck, 1321.4ms\n",
            "Speed: 19.3ms preprocess, 1321.4ms inference, 2.3ms postprocess per image at shape (1, 3, 736, 1280)\n",
            "\n"
          ]
        },
        {
          "output_type": "stream",
          "name": "stderr",
          "text": [
            "SupervisionWarnings: annotate is deprecated: `BoxAnnotator` is deprecated and will be removed in `supervision-0.22.0`. Use `BoundingBoxAnnotator` and `LabelAnnotator` instead\n"
          ]
        },
        {
          "output_type": "stream",
          "name": "stdout",
          "text": [
            "0: 736x1280 4 cars, 1 bus, 1 train, 1226.6ms\n",
            "Speed: 13.1ms preprocess, 1226.6ms inference, 2.5ms postprocess per image at shape (1, 3, 736, 1280)\n",
            "\n"
          ]
        },
        {
          "output_type": "stream",
          "name": "stderr",
          "text": [
            "SupervisionWarnings: annotate is deprecated: `BoxAnnotator` is deprecated and will be removed in `supervision-0.22.0`. Use `BoundingBoxAnnotator` and `LabelAnnotator` instead\n"
          ]
        },
        {
          "output_type": "stream",
          "name": "stdout",
          "text": [
            "0: 736x1280 3 cars, 1 bus, 1 train, 1347.4ms\n",
            "Speed: 13.0ms preprocess, 1347.4ms inference, 3.1ms postprocess per image at shape (1, 3, 736, 1280)\n",
            "\n"
          ]
        },
        {
          "output_type": "stream",
          "name": "stderr",
          "text": [
            "SupervisionWarnings: annotate is deprecated: `BoxAnnotator` is deprecated and will be removed in `supervision-0.22.0`. Use `BoundingBoxAnnotator` and `LabelAnnotator` instead\n"
          ]
        },
        {
          "output_type": "stream",
          "name": "stdout",
          "text": [
            "0: 736x1280 3 cars, 1 bus, 1 train, 2000.1ms\n",
            "Speed: 31.9ms preprocess, 2000.1ms inference, 4.8ms postprocess per image at shape (1, 3, 736, 1280)\n",
            "\n"
          ]
        },
        {
          "output_type": "stream",
          "name": "stderr",
          "text": [
            "SupervisionWarnings: annotate is deprecated: `BoxAnnotator` is deprecated and will be removed in `supervision-0.22.0`. Use `BoundingBoxAnnotator` and `LabelAnnotator` instead\n"
          ]
        },
        {
          "output_type": "stream",
          "name": "stdout",
          "text": [
            "0: 736x1280 3 cars, 1 bus, 1899.8ms\n",
            "Speed: 39.7ms preprocess, 1899.8ms inference, 2.8ms postprocess per image at shape (1, 3, 736, 1280)\n",
            "\n"
          ]
        },
        {
          "output_type": "stream",
          "name": "stderr",
          "text": [
            "SupervisionWarnings: annotate is deprecated: `BoxAnnotator` is deprecated and will be removed in `supervision-0.22.0`. Use `BoundingBoxAnnotator` and `LabelAnnotator` instead\n"
          ]
        },
        {
          "output_type": "stream",
          "name": "stdout",
          "text": [
            "0: 736x1280 3 cars, 1 bus, 1 truck, 1209.3ms\n",
            "Speed: 15.8ms preprocess, 1209.3ms inference, 2.4ms postprocess per image at shape (1, 3, 736, 1280)\n",
            "\n"
          ]
        },
        {
          "output_type": "stream",
          "name": "stderr",
          "text": [
            "SupervisionWarnings: annotate is deprecated: `BoxAnnotator` is deprecated and will be removed in `supervision-0.22.0`. Use `BoundingBoxAnnotator` and `LabelAnnotator` instead\n"
          ]
        },
        {
          "output_type": "stream",
          "name": "stdout",
          "text": [
            "0: 736x1280 3 cars, 1 train, 2 trucks, 1298.2ms\n",
            "Speed: 13.2ms preprocess, 1298.2ms inference, 2.9ms postprocess per image at shape (1, 3, 736, 1280)\n",
            "\n"
          ]
        },
        {
          "output_type": "stream",
          "name": "stderr",
          "text": [
            "SupervisionWarnings: annotate is deprecated: `BoxAnnotator` is deprecated and will be removed in `supervision-0.22.0`. Use `BoundingBoxAnnotator` and `LabelAnnotator` instead\n"
          ]
        },
        {
          "output_type": "stream",
          "name": "stdout",
          "text": [
            "0: 736x1280 3 cars, 1 train, 1 truck, 1349.1ms\n",
            "Speed: 15.5ms preprocess, 1349.1ms inference, 3.2ms postprocess per image at shape (1, 3, 736, 1280)\n",
            "\n"
          ]
        },
        {
          "output_type": "stream",
          "name": "stderr",
          "text": [
            "SupervisionWarnings: annotate is deprecated: `BoxAnnotator` is deprecated and will be removed in `supervision-0.22.0`. Use `BoundingBoxAnnotator` and `LabelAnnotator` instead\n"
          ]
        },
        {
          "output_type": "stream",
          "name": "stdout",
          "text": [
            "0: 736x1280 3 cars, 1 train, 1 truck, 1352.4ms\n",
            "Speed: 15.5ms preprocess, 1352.4ms inference, 3.0ms postprocess per image at shape (1, 3, 736, 1280)\n",
            "\n"
          ]
        },
        {
          "output_type": "stream",
          "name": "stderr",
          "text": [
            "SupervisionWarnings: annotate is deprecated: `BoxAnnotator` is deprecated and will be removed in `supervision-0.22.0`. Use `BoundingBoxAnnotator` and `LabelAnnotator` instead\n"
          ]
        },
        {
          "output_type": "stream",
          "name": "stdout",
          "text": [
            "0: 736x1280 3 cars, 1 bus, 1 train, 1324.7ms\n",
            "Speed: 15.8ms preprocess, 1324.7ms inference, 4.4ms postprocess per image at shape (1, 3, 736, 1280)\n",
            "\n"
          ]
        },
        {
          "output_type": "stream",
          "name": "stderr",
          "text": [
            "SupervisionWarnings: annotate is deprecated: `BoxAnnotator` is deprecated and will be removed in `supervision-0.22.0`. Use `BoundingBoxAnnotator` and `LabelAnnotator` instead\n"
          ]
        },
        {
          "output_type": "stream",
          "name": "stdout",
          "text": [
            "0: 736x1280 3 cars, 1 train, 1 truck, 1280.6ms\n",
            "Speed: 16.5ms preprocess, 1280.6ms inference, 3.1ms postprocess per image at shape (1, 3, 736, 1280)\n",
            "\n"
          ]
        },
        {
          "output_type": "stream",
          "name": "stderr",
          "text": [
            "SupervisionWarnings: annotate is deprecated: `BoxAnnotator` is deprecated and will be removed in `supervision-0.22.0`. Use `BoundingBoxAnnotator` and `LabelAnnotator` instead\n"
          ]
        },
        {
          "output_type": "stream",
          "name": "stdout",
          "text": [
            "0: 736x1280 3 cars, 1 train, 1 truck, 1540.6ms\n",
            "Speed: 13.7ms preprocess, 1540.6ms inference, 4.2ms postprocess per image at shape (1, 3, 736, 1280)\n",
            "\n"
          ]
        },
        {
          "output_type": "stream",
          "name": "stderr",
          "text": [
            "SupervisionWarnings: annotate is deprecated: `BoxAnnotator` is deprecated and will be removed in `supervision-0.22.0`. Use `BoundingBoxAnnotator` and `LabelAnnotator` instead\n"
          ]
        },
        {
          "output_type": "stream",
          "name": "stdout",
          "text": [
            "0: 736x1280 3 cars, 1 train, 1 truck, 2058.4ms\n",
            "Speed: 44.1ms preprocess, 2058.4ms inference, 5.8ms postprocess per image at shape (1, 3, 736, 1280)\n",
            "\n"
          ]
        },
        {
          "output_type": "stream",
          "name": "stderr",
          "text": [
            "SupervisionWarnings: annotate is deprecated: `BoxAnnotator` is deprecated and will be removed in `supervision-0.22.0`. Use `BoundingBoxAnnotator` and `LabelAnnotator` instead\n"
          ]
        },
        {
          "output_type": "stream",
          "name": "stdout",
          "text": [
            "0: 736x1280 3 cars, 1 train, 1 truck, 1596.8ms\n",
            "Speed: 15.5ms preprocess, 1596.8ms inference, 2.3ms postprocess per image at shape (1, 3, 736, 1280)\n",
            "\n"
          ]
        },
        {
          "output_type": "stream",
          "name": "stderr",
          "text": [
            "SupervisionWarnings: annotate is deprecated: `BoxAnnotator` is deprecated and will be removed in `supervision-0.22.0`. Use `BoundingBoxAnnotator` and `LabelAnnotator` instead\n"
          ]
        },
        {
          "output_type": "stream",
          "name": "stdout",
          "text": [
            "0: 736x1280 3 cars, 1 train, 1 truck, 1315.3ms\n",
            "Speed: 16.0ms preprocess, 1315.3ms inference, 3.2ms postprocess per image at shape (1, 3, 736, 1280)\n",
            "\n"
          ]
        },
        {
          "output_type": "stream",
          "name": "stderr",
          "text": [
            "SupervisionWarnings: annotate is deprecated: `BoxAnnotator` is deprecated and will be removed in `supervision-0.22.0`. Use `BoundingBoxAnnotator` and `LabelAnnotator` instead\n"
          ]
        },
        {
          "output_type": "stream",
          "name": "stdout",
          "text": [
            "0: 736x1280 3 cars, 1 train, 1 truck, 1256.1ms\n",
            "Speed: 13.6ms preprocess, 1256.1ms inference, 2.7ms postprocess per image at shape (1, 3, 736, 1280)\n",
            "\n"
          ]
        },
        {
          "output_type": "stream",
          "name": "stderr",
          "text": [
            "SupervisionWarnings: annotate is deprecated: `BoxAnnotator` is deprecated and will be removed in `supervision-0.22.0`. Use `BoundingBoxAnnotator` and `LabelAnnotator` instead\n"
          ]
        },
        {
          "output_type": "stream",
          "name": "stdout",
          "text": [
            "0: 736x1280 3 cars, 1 train, 1 truck, 1240.6ms\n",
            "Speed: 13.2ms preprocess, 1240.6ms inference, 2.4ms postprocess per image at shape (1, 3, 736, 1280)\n",
            "\n"
          ]
        },
        {
          "output_type": "stream",
          "name": "stderr",
          "text": [
            "SupervisionWarnings: annotate is deprecated: `BoxAnnotator` is deprecated and will be removed in `supervision-0.22.0`. Use `BoundingBoxAnnotator` and `LabelAnnotator` instead\n"
          ]
        },
        {
          "output_type": "stream",
          "name": "stdout",
          "text": [
            "0: 736x1280 3 cars, 1 bus, 1 train, 1 truck, 1225.3ms\n",
            "Speed: 18.2ms preprocess, 1225.3ms inference, 2.5ms postprocess per image at shape (1, 3, 736, 1280)\n",
            "\n"
          ]
        },
        {
          "output_type": "stream",
          "name": "stderr",
          "text": [
            "SupervisionWarnings: annotate is deprecated: `BoxAnnotator` is deprecated and will be removed in `supervision-0.22.0`. Use `BoundingBoxAnnotator` and `LabelAnnotator` instead\n"
          ]
        },
        {
          "output_type": "stream",
          "name": "stdout",
          "text": [
            "0: 736x1280 3 cars, 1 train, 1 truck, 1344.2ms\n",
            "Speed: 17.8ms preprocess, 1344.2ms inference, 2.9ms postprocess per image at shape (1, 3, 736, 1280)\n",
            "\n"
          ]
        },
        {
          "output_type": "stream",
          "name": "stderr",
          "text": [
            "SupervisionWarnings: annotate is deprecated: `BoxAnnotator` is deprecated and will be removed in `supervision-0.22.0`. Use `BoundingBoxAnnotator` and `LabelAnnotator` instead\n"
          ]
        },
        {
          "output_type": "stream",
          "name": "stdout",
          "text": [
            "0: 736x1280 3 cars, 1 train, 1 truck, 1225.3ms\n",
            "Speed: 13.9ms preprocess, 1225.3ms inference, 2.4ms postprocess per image at shape (1, 3, 736, 1280)\n",
            "\n"
          ]
        },
        {
          "output_type": "stream",
          "name": "stderr",
          "text": [
            "SupervisionWarnings: annotate is deprecated: `BoxAnnotator` is deprecated and will be removed in `supervision-0.22.0`. Use `BoundingBoxAnnotator` and `LabelAnnotator` instead\n"
          ]
        },
        {
          "output_type": "stream",
          "name": "stdout",
          "text": [
            "0: 736x1280 3 cars, 1 train, 1 truck, 1522.8ms\n",
            "Speed: 21.9ms preprocess, 1522.8ms inference, 3.1ms postprocess per image at shape (1, 3, 736, 1280)\n",
            "\n"
          ]
        },
        {
          "output_type": "stream",
          "name": "stderr",
          "text": [
            "SupervisionWarnings: annotate is deprecated: `BoxAnnotator` is deprecated and will be removed in `supervision-0.22.0`. Use `BoundingBoxAnnotator` and `LabelAnnotator` instead\n"
          ]
        },
        {
          "output_type": "stream",
          "name": "stdout",
          "text": [
            "0: 736x1280 3 cars, 1 bus, 1 train, 1 truck, 1995.9ms\n",
            "Speed: 27.6ms preprocess, 1995.9ms inference, 4.3ms postprocess per image at shape (1, 3, 736, 1280)\n"
          ]
        },
        {
          "output_type": "stream",
          "name": "stderr",
          "text": [
            "SupervisionWarnings: annotate is deprecated: `BoxAnnotator` is deprecated and will be removed in `supervision-0.22.0`. Use `BoundingBoxAnnotator` and `LabelAnnotator` instead\n"
          ]
        },
        {
          "output_type": "stream",
          "name": "stdout",
          "text": [
            "\n",
            "0: 736x1280 3 cars, 1 train, 1 truck, 1497.9ms\n",
            "Speed: 22.7ms preprocess, 1497.9ms inference, 3.2ms postprocess per image at shape (1, 3, 736, 1280)\n",
            "\n"
          ]
        },
        {
          "output_type": "stream",
          "name": "stderr",
          "text": [
            "SupervisionWarnings: annotate is deprecated: `BoxAnnotator` is deprecated and will be removed in `supervision-0.22.0`. Use `BoundingBoxAnnotator` and `LabelAnnotator` instead\n"
          ]
        },
        {
          "output_type": "stream",
          "name": "stdout",
          "text": [
            "0: 736x1280 3 cars, 1 bus, 1 train, 1 truck, 1376.6ms\n",
            "Speed: 16.9ms preprocess, 1376.6ms inference, 3.4ms postprocess per image at shape (1, 3, 736, 1280)\n",
            "\n"
          ]
        },
        {
          "output_type": "stream",
          "name": "stderr",
          "text": [
            "SupervisionWarnings: annotate is deprecated: `BoxAnnotator` is deprecated and will be removed in `supervision-0.22.0`. Use `BoundingBoxAnnotator` and `LabelAnnotator` instead\n"
          ]
        },
        {
          "output_type": "stream",
          "name": "stdout",
          "text": [
            "0: 736x1280 3 cars, 2 trains, 1 truck, 1299.6ms\n",
            "Speed: 16.7ms preprocess, 1299.6ms inference, 3.9ms postprocess per image at shape (1, 3, 736, 1280)\n",
            "\n"
          ]
        },
        {
          "output_type": "stream",
          "name": "stderr",
          "text": [
            "SupervisionWarnings: annotate is deprecated: `BoxAnnotator` is deprecated and will be removed in `supervision-0.22.0`. Use `BoundingBoxAnnotator` and `LabelAnnotator` instead\n"
          ]
        },
        {
          "output_type": "stream",
          "name": "stdout",
          "text": [
            "0: 736x1280 3 cars, 1 bus, 1 train, 1 truck, 1276.3ms\n",
            "Speed: 13.6ms preprocess, 1276.3ms inference, 2.8ms postprocess per image at shape (1, 3, 736, 1280)\n",
            "\n"
          ]
        },
        {
          "output_type": "stream",
          "name": "stderr",
          "text": [
            "SupervisionWarnings: annotate is deprecated: `BoxAnnotator` is deprecated and will be removed in `supervision-0.22.0`. Use `BoundingBoxAnnotator` and `LabelAnnotator` instead\n"
          ]
        },
        {
          "output_type": "stream",
          "name": "stdout",
          "text": [
            "0: 736x1280 3 cars, 1 bus, 2 trains, 1303.0ms\n",
            "Speed: 15.4ms preprocess, 1303.0ms inference, 2.7ms postprocess per image at shape (1, 3, 736, 1280)\n",
            "\n"
          ]
        },
        {
          "output_type": "stream",
          "name": "stderr",
          "text": [
            "SupervisionWarnings: annotate is deprecated: `BoxAnnotator` is deprecated and will be removed in `supervision-0.22.0`. Use `BoundingBoxAnnotator` and `LabelAnnotator` instead\n"
          ]
        },
        {
          "output_type": "stream",
          "name": "stdout",
          "text": [
            "0: 736x1280 3 cars, 1 bus, 2 trains, 1 truck, 1339.6ms\n",
            "Speed: 13.0ms preprocess, 1339.6ms inference, 2.5ms postprocess per image at shape (1, 3, 736, 1280)\n",
            "\n"
          ]
        },
        {
          "output_type": "stream",
          "name": "stderr",
          "text": [
            "SupervisionWarnings: annotate is deprecated: `BoxAnnotator` is deprecated and will be removed in `supervision-0.22.0`. Use `BoundingBoxAnnotator` and `LabelAnnotator` instead\n"
          ]
        },
        {
          "output_type": "stream",
          "name": "stdout",
          "text": [
            "0: 736x1280 3 cars, 1 bus, 2 trains, 1232.0ms\n",
            "Speed: 16.6ms preprocess, 1232.0ms inference, 2.4ms postprocess per image at shape (1, 3, 736, 1280)\n",
            "\n"
          ]
        },
        {
          "output_type": "stream",
          "name": "stderr",
          "text": [
            "SupervisionWarnings: annotate is deprecated: `BoxAnnotator` is deprecated and will be removed in `supervision-0.22.0`. Use `BoundingBoxAnnotator` and `LabelAnnotator` instead\n"
          ]
        },
        {
          "output_type": "stream",
          "name": "stdout",
          "text": [
            "0: 736x1280 3 cars, 1 bus, 2 trains, 1744.9ms\n",
            "Speed: 13.0ms preprocess, 1744.9ms inference, 3.1ms postprocess per image at shape (1, 3, 736, 1280)\n",
            "\n"
          ]
        },
        {
          "output_type": "stream",
          "name": "stderr",
          "text": [
            "SupervisionWarnings: annotate is deprecated: `BoxAnnotator` is deprecated and will be removed in `supervision-0.22.0`. Use `BoundingBoxAnnotator` and `LabelAnnotator` instead\n"
          ]
        },
        {
          "output_type": "stream",
          "name": "stdout",
          "text": [
            "0: 736x1280 3 cars, 1 bus, 2 trains, 2075.2ms\n",
            "Speed: 23.1ms preprocess, 2075.2ms inference, 4.5ms postprocess per image at shape (1, 3, 736, 1280)\n",
            "\n"
          ]
        },
        {
          "output_type": "stream",
          "name": "stderr",
          "text": [
            "SupervisionWarnings: annotate is deprecated: `BoxAnnotator` is deprecated and will be removed in `supervision-0.22.0`. Use `BoundingBoxAnnotator` and `LabelAnnotator` instead\n"
          ]
        },
        {
          "output_type": "stream",
          "name": "stdout",
          "text": [
            "0: 736x1280 3 cars, 1 bus, 2 trains, 1359.4ms\n",
            "Speed: 35.9ms preprocess, 1359.4ms inference, 2.9ms postprocess per image at shape (1, 3, 736, 1280)\n",
            "\n"
          ]
        },
        {
          "output_type": "stream",
          "name": "stderr",
          "text": [
            "SupervisionWarnings: annotate is deprecated: `BoxAnnotator` is deprecated and will be removed in `supervision-0.22.0`. Use `BoundingBoxAnnotator` and `LabelAnnotator` instead\n"
          ]
        },
        {
          "output_type": "stream",
          "name": "stdout",
          "text": [
            "0: 736x1280 3 cars, 1 bus, 2 trains, 1260.9ms\n",
            "Speed: 12.8ms preprocess, 1260.9ms inference, 2.4ms postprocess per image at shape (1, 3, 736, 1280)\n",
            "\n"
          ]
        },
        {
          "output_type": "stream",
          "name": "stderr",
          "text": [
            "SupervisionWarnings: annotate is deprecated: `BoxAnnotator` is deprecated and will be removed in `supervision-0.22.0`. Use `BoundingBoxAnnotator` and `LabelAnnotator` instead\n"
          ]
        },
        {
          "output_type": "stream",
          "name": "stdout",
          "text": [
            "0: 736x1280 3 cars, 1 bus, 2 trains, 1241.4ms\n",
            "Speed: 13.1ms preprocess, 1241.4ms inference, 2.5ms postprocess per image at shape (1, 3, 736, 1280)\n",
            "\n"
          ]
        },
        {
          "output_type": "stream",
          "name": "stderr",
          "text": [
            "SupervisionWarnings: annotate is deprecated: `BoxAnnotator` is deprecated and will be removed in `supervision-0.22.0`. Use `BoundingBoxAnnotator` and `LabelAnnotator` instead\n"
          ]
        },
        {
          "output_type": "stream",
          "name": "stdout",
          "text": [
            "0: 736x1280 3 cars, 1 bus, 2 trains, 1 truck, 1324.8ms\n",
            "Speed: 13.1ms preprocess, 1324.8ms inference, 2.6ms postprocess per image at shape (1, 3, 736, 1280)\n",
            "\n"
          ]
        },
        {
          "output_type": "stream",
          "name": "stderr",
          "text": [
            "SupervisionWarnings: annotate is deprecated: `BoxAnnotator` is deprecated and will be removed in `supervision-0.22.0`. Use `BoundingBoxAnnotator` and `LabelAnnotator` instead\n"
          ]
        },
        {
          "output_type": "stream",
          "name": "stdout",
          "text": [
            "0: 736x1280 3 cars, 1 bus, 1 train, 1278.9ms\n",
            "Speed: 18.7ms preprocess, 1278.9ms inference, 3.1ms postprocess per image at shape (1, 3, 736, 1280)\n",
            "\n"
          ]
        },
        {
          "output_type": "stream",
          "name": "stderr",
          "text": [
            "SupervisionWarnings: annotate is deprecated: `BoxAnnotator` is deprecated and will be removed in `supervision-0.22.0`. Use `BoundingBoxAnnotator` and `LabelAnnotator` instead\n"
          ]
        },
        {
          "output_type": "stream",
          "name": "stdout",
          "text": [
            "0: 736x1280 3 cars, 1 bus, 1 train, 1 truck, 1278.7ms\n",
            "Speed: 25.5ms preprocess, 1278.7ms inference, 3.1ms postprocess per image at shape (1, 3, 736, 1280)\n",
            "\n"
          ]
        },
        {
          "output_type": "stream",
          "name": "stderr",
          "text": [
            "SupervisionWarnings: annotate is deprecated: `BoxAnnotator` is deprecated and will be removed in `supervision-0.22.0`. Use `BoundingBoxAnnotator` and `LabelAnnotator` instead\n"
          ]
        },
        {
          "output_type": "stream",
          "name": "stdout",
          "text": [
            "0: 736x1280 3 cars, 1 bus, 2 trains, 1 truck, 1361.6ms\n",
            "Speed: 19.1ms preprocess, 1361.6ms inference, 3.3ms postprocess per image at shape (1, 3, 736, 1280)\n",
            "\n"
          ]
        },
        {
          "output_type": "stream",
          "name": "stderr",
          "text": [
            "SupervisionWarnings: annotate is deprecated: `BoxAnnotator` is deprecated and will be removed in `supervision-0.22.0`. Use `BoundingBoxAnnotator` and `LabelAnnotator` instead\n"
          ]
        },
        {
          "output_type": "stream",
          "name": "stdout",
          "text": [
            "0: 736x1280 3 cars, 1 bus, 2 trains, 1 truck, 1958.8ms\n",
            "Speed: 19.2ms preprocess, 1958.8ms inference, 7.3ms postprocess per image at shape (1, 3, 736, 1280)\n",
            "\n"
          ]
        },
        {
          "output_type": "stream",
          "name": "stderr",
          "text": [
            "SupervisionWarnings: annotate is deprecated: `BoxAnnotator` is deprecated and will be removed in `supervision-0.22.0`. Use `BoundingBoxAnnotator` and `LabelAnnotator` instead\n"
          ]
        },
        {
          "output_type": "stream",
          "name": "stdout",
          "text": [
            "0: 736x1280 3 cars, 2 trains, 1 truck, 1970.0ms\n",
            "Speed: 35.0ms preprocess, 1970.0ms inference, 3.0ms postprocess per image at shape (1, 3, 736, 1280)\n",
            "\n"
          ]
        },
        {
          "output_type": "stream",
          "name": "stderr",
          "text": [
            "SupervisionWarnings: annotate is deprecated: `BoxAnnotator` is deprecated and will be removed in `supervision-0.22.0`. Use `BoundingBoxAnnotator` and `LabelAnnotator` instead\n"
          ]
        },
        {
          "output_type": "stream",
          "name": "stdout",
          "text": [
            "0: 736x1280 3 cars, 2 trains, 1 truck, 1285.9ms\n",
            "Speed: 19.4ms preprocess, 1285.9ms inference, 3.0ms postprocess per image at shape (1, 3, 736, 1280)\n",
            "\n"
          ]
        },
        {
          "output_type": "stream",
          "name": "stderr",
          "text": [
            "SupervisionWarnings: annotate is deprecated: `BoxAnnotator` is deprecated and will be removed in `supervision-0.22.0`. Use `BoundingBoxAnnotator` and `LabelAnnotator` instead\n"
          ]
        },
        {
          "output_type": "stream",
          "name": "stdout",
          "text": [
            "0: 736x1280 3 cars, 2 trains, 1 truck, 1232.8ms\n",
            "Speed: 15.8ms preprocess, 1232.8ms inference, 3.4ms postprocess per image at shape (1, 3, 736, 1280)\n",
            "\n"
          ]
        },
        {
          "output_type": "stream",
          "name": "stderr",
          "text": [
            "SupervisionWarnings: annotate is deprecated: `BoxAnnotator` is deprecated and will be removed in `supervision-0.22.0`. Use `BoundingBoxAnnotator` and `LabelAnnotator` instead\n"
          ]
        },
        {
          "output_type": "stream",
          "name": "stdout",
          "text": [
            "0: 736x1280 3 cars, 2 trains, 1 truck, 1197.6ms\n",
            "Speed: 14.0ms preprocess, 1197.6ms inference, 3.2ms postprocess per image at shape (1, 3, 736, 1280)\n",
            "\n"
          ]
        },
        {
          "output_type": "stream",
          "name": "stderr",
          "text": [
            "SupervisionWarnings: annotate is deprecated: `BoxAnnotator` is deprecated and will be removed in `supervision-0.22.0`. Use `BoundingBoxAnnotator` and `LabelAnnotator` instead\n"
          ]
        },
        {
          "output_type": "stream",
          "name": "stdout",
          "text": [
            "0: 736x1280 3 cars, 2 trains, 1 truck, 1324.7ms\n",
            "Speed: 12.9ms preprocess, 1324.7ms inference, 3.2ms postprocess per image at shape (1, 3, 736, 1280)\n",
            "\n"
          ]
        },
        {
          "output_type": "stream",
          "name": "stderr",
          "text": [
            "SupervisionWarnings: annotate is deprecated: `BoxAnnotator` is deprecated and will be removed in `supervision-0.22.0`. Use `BoundingBoxAnnotator` and `LabelAnnotator` instead\n"
          ]
        },
        {
          "output_type": "stream",
          "name": "stdout",
          "text": [
            "0: 736x1280 3 cars, 2 trains, 1 truck, 1337.6ms\n",
            "Speed: 17.0ms preprocess, 1337.6ms inference, 3.2ms postprocess per image at shape (1, 3, 736, 1280)\n",
            "\n"
          ]
        },
        {
          "output_type": "stream",
          "name": "stderr",
          "text": [
            "SupervisionWarnings: annotate is deprecated: `BoxAnnotator` is deprecated and will be removed in `supervision-0.22.0`. Use `BoundingBoxAnnotator` and `LabelAnnotator` instead\n"
          ]
        },
        {
          "output_type": "stream",
          "name": "stdout",
          "text": [
            "0: 736x1280 3 cars, 2 trains, 1 truck, 1312.8ms\n",
            "Speed: 17.1ms preprocess, 1312.8ms inference, 3.0ms postprocess per image at shape (1, 3, 736, 1280)\n",
            "\n"
          ]
        },
        {
          "output_type": "stream",
          "name": "stderr",
          "text": [
            "SupervisionWarnings: annotate is deprecated: `BoxAnnotator` is deprecated and will be removed in `supervision-0.22.0`. Use `BoundingBoxAnnotator` and `LabelAnnotator` instead\n"
          ]
        },
        {
          "output_type": "stream",
          "name": "stdout",
          "text": [
            "0: 736x1280 3 cars, 1 bus, 2 trains, 1 truck, 1371.6ms\n",
            "Speed: 20.5ms preprocess, 1371.6ms inference, 4.2ms postprocess per image at shape (1, 3, 736, 1280)\n",
            "\n"
          ]
        },
        {
          "output_type": "stream",
          "name": "stderr",
          "text": [
            "SupervisionWarnings: annotate is deprecated: `BoxAnnotator` is deprecated and will be removed in `supervision-0.22.0`. Use `BoundingBoxAnnotator` and `LabelAnnotator` instead\n"
          ]
        },
        {
          "output_type": "stream",
          "name": "stdout",
          "text": [
            "0: 736x1280 3 cars, 1 bus, 2 trains, 1 truck, 1903.5ms\n",
            "Speed: 31.4ms preprocess, 1903.5ms inference, 3.4ms postprocess per image at shape (1, 3, 736, 1280)\n",
            "\n"
          ]
        },
        {
          "output_type": "stream",
          "name": "stderr",
          "text": [
            "SupervisionWarnings: annotate is deprecated: `BoxAnnotator` is deprecated and will be removed in `supervision-0.22.0`. Use `BoundingBoxAnnotator` and `LabelAnnotator` instead\n"
          ]
        },
        {
          "output_type": "stream",
          "name": "stdout",
          "text": [
            "0: 736x1280 3 cars, 1 bus, 2 trains, 1 truck, 1960.8ms\n",
            "Speed: 28.7ms preprocess, 1960.8ms inference, 2.9ms postprocess per image at shape (1, 3, 736, 1280)\n",
            "\n"
          ]
        },
        {
          "output_type": "stream",
          "name": "stderr",
          "text": [
            "SupervisionWarnings: annotate is deprecated: `BoxAnnotator` is deprecated and will be removed in `supervision-0.22.0`. Use `BoundingBoxAnnotator` and `LabelAnnotator` instead\n"
          ]
        },
        {
          "output_type": "stream",
          "name": "stdout",
          "text": [
            "0: 736x1280 3 cars, 1 bus, 2 trains, 1855.8ms\n",
            "Speed: 22.8ms preprocess, 1855.8ms inference, 4.0ms postprocess per image at shape (1, 3, 736, 1280)\n",
            "\n"
          ]
        },
        {
          "output_type": "stream",
          "name": "stderr",
          "text": [
            "SupervisionWarnings: annotate is deprecated: `BoxAnnotator` is deprecated and will be removed in `supervision-0.22.0`. Use `BoundingBoxAnnotator` and `LabelAnnotator` instead\n"
          ]
        },
        {
          "output_type": "stream",
          "name": "stdout",
          "text": [
            "0: 736x1280 3 cars, 1 bus, 2 trains, 1792.1ms\n",
            "Speed: 33.6ms preprocess, 1792.1ms inference, 3.5ms postprocess per image at shape (1, 3, 736, 1280)\n",
            "\n"
          ]
        },
        {
          "output_type": "stream",
          "name": "stderr",
          "text": [
            "SupervisionWarnings: annotate is deprecated: `BoxAnnotator` is deprecated and will be removed in `supervision-0.22.0`. Use `BoundingBoxAnnotator` and `LabelAnnotator` instead\n"
          ]
        },
        {
          "output_type": "stream",
          "name": "stdout",
          "text": [
            "0: 736x1280 3 cars, 2 trains, 1 truck, 1326.5ms\n",
            "Speed: 15.7ms preprocess, 1326.5ms inference, 3.1ms postprocess per image at shape (1, 3, 736, 1280)\n",
            "\n"
          ]
        },
        {
          "output_type": "stream",
          "name": "stderr",
          "text": [
            "SupervisionWarnings: annotate is deprecated: `BoxAnnotator` is deprecated and will be removed in `supervision-0.22.0`. Use `BoundingBoxAnnotator` and `LabelAnnotator` instead\n"
          ]
        },
        {
          "output_type": "stream",
          "name": "stdout",
          "text": [
            "0: 736x1280 3 cars, 1 bus, 2 trains, 1 truck, 1261.7ms\n",
            "Speed: 19.6ms preprocess, 1261.7ms inference, 2.7ms postprocess per image at shape (1, 3, 736, 1280)\n",
            "\n"
          ]
        },
        {
          "output_type": "stream",
          "name": "stderr",
          "text": [
            "SupervisionWarnings: annotate is deprecated: `BoxAnnotator` is deprecated and will be removed in `supervision-0.22.0`. Use `BoundingBoxAnnotator` and `LabelAnnotator` instead\n"
          ]
        },
        {
          "output_type": "stream",
          "name": "stdout",
          "text": [
            "0: 736x1280 3 cars, 2 trains, 1 truck, 1253.6ms\n",
            "Speed: 13.4ms preprocess, 1253.6ms inference, 2.8ms postprocess per image at shape (1, 3, 736, 1280)\n",
            "\n"
          ]
        },
        {
          "output_type": "stream",
          "name": "stderr",
          "text": [
            "SupervisionWarnings: annotate is deprecated: `BoxAnnotator` is deprecated and will be removed in `supervision-0.22.0`. Use `BoundingBoxAnnotator` and `LabelAnnotator` instead\n"
          ]
        },
        {
          "output_type": "stream",
          "name": "stdout",
          "text": [
            "0: 736x1280 3 cars, 1 bus, 2 trains, 1 truck, 1515.3ms\n",
            "Speed: 13.5ms preprocess, 1515.3ms inference, 4.3ms postprocess per image at shape (1, 3, 736, 1280)\n",
            "\n"
          ]
        },
        {
          "output_type": "stream",
          "name": "stderr",
          "text": [
            "SupervisionWarnings: annotate is deprecated: `BoxAnnotator` is deprecated and will be removed in `supervision-0.22.0`. Use `BoundingBoxAnnotator` and `LabelAnnotator` instead\n"
          ]
        },
        {
          "output_type": "stream",
          "name": "stdout",
          "text": [
            "0: 736x1280 3 cars, 1 bus, 2 trains, 1 truck, 1987.7ms\n",
            "Speed: 28.3ms preprocess, 1987.7ms inference, 3.6ms postprocess per image at shape (1, 3, 736, 1280)\n",
            "\n"
          ]
        },
        {
          "output_type": "stream",
          "name": "stderr",
          "text": [
            "SupervisionWarnings: annotate is deprecated: `BoxAnnotator` is deprecated and will be removed in `supervision-0.22.0`. Use `BoundingBoxAnnotator` and `LabelAnnotator` instead\n"
          ]
        },
        {
          "output_type": "stream",
          "name": "stdout",
          "text": [
            "0: 736x1280 3 cars, 1 bus, 2 trains, 1 truck, 1952.2ms\n",
            "Speed: 30.8ms preprocess, 1952.2ms inference, 3.5ms postprocess per image at shape (1, 3, 736, 1280)\n",
            "\n"
          ]
        },
        {
          "output_type": "stream",
          "name": "stderr",
          "text": [
            "SupervisionWarnings: annotate is deprecated: `BoxAnnotator` is deprecated and will be removed in `supervision-0.22.0`. Use `BoundingBoxAnnotator` and `LabelAnnotator` instead\n"
          ]
        },
        {
          "output_type": "stream",
          "name": "stdout",
          "text": [
            "0: 736x1280 3 cars, 1 bus, 2 trains, 1 truck, 1653.8ms\n",
            "Speed: 18.4ms preprocess, 1653.8ms inference, 3.3ms postprocess per image at shape (1, 3, 736, 1280)\n",
            "\n"
          ]
        },
        {
          "output_type": "stream",
          "name": "stderr",
          "text": [
            "SupervisionWarnings: annotate is deprecated: `BoxAnnotator` is deprecated and will be removed in `supervision-0.22.0`. Use `BoundingBoxAnnotator` and `LabelAnnotator` instead\n"
          ]
        },
        {
          "output_type": "stream",
          "name": "stdout",
          "text": [
            "0: 736x1280 3 cars, 1 bus, 2 trains, 1 truck, 1373.6ms\n",
            "Speed: 16.0ms preprocess, 1373.6ms inference, 3.3ms postprocess per image at shape (1, 3, 736, 1280)\n",
            "\n"
          ]
        },
        {
          "output_type": "stream",
          "name": "stderr",
          "text": [
            "SupervisionWarnings: annotate is deprecated: `BoxAnnotator` is deprecated and will be removed in `supervision-0.22.0`. Use `BoundingBoxAnnotator` and `LabelAnnotator` instead\n"
          ]
        },
        {
          "output_type": "stream",
          "name": "stdout",
          "text": [
            "0: 736x1280 3 cars, 1 bus, 2 trains, 1332.3ms\n",
            "Speed: 14.9ms preprocess, 1332.3ms inference, 3.2ms postprocess per image at shape (1, 3, 736, 1280)\n",
            "\n"
          ]
        },
        {
          "output_type": "stream",
          "name": "stderr",
          "text": [
            "SupervisionWarnings: annotate is deprecated: `BoxAnnotator` is deprecated and will be removed in `supervision-0.22.0`. Use `BoundingBoxAnnotator` and `LabelAnnotator` instead\n"
          ]
        },
        {
          "output_type": "stream",
          "name": "stdout",
          "text": [
            "0: 736x1280 3 cars, 1 bus, 2 trains, 1310.1ms\n",
            "Speed: 19.9ms preprocess, 1310.1ms inference, 3.5ms postprocess per image at shape (1, 3, 736, 1280)\n",
            "\n"
          ]
        },
        {
          "output_type": "stream",
          "name": "stderr",
          "text": [
            "SupervisionWarnings: annotate is deprecated: `BoxAnnotator` is deprecated and will be removed in `supervision-0.22.0`. Use `BoundingBoxAnnotator` and `LabelAnnotator` instead\n"
          ]
        },
        {
          "output_type": "stream",
          "name": "stdout",
          "text": [
            "0: 736x1280 3 cars, 1 bus, 2 trains, 1 truck, 1241.9ms\n",
            "Speed: 16.2ms preprocess, 1241.9ms inference, 2.7ms postprocess per image at shape (1, 3, 736, 1280)\n",
            "\n"
          ]
        },
        {
          "output_type": "stream",
          "name": "stderr",
          "text": [
            "SupervisionWarnings: annotate is deprecated: `BoxAnnotator` is deprecated and will be removed in `supervision-0.22.0`. Use `BoundingBoxAnnotator` and `LabelAnnotator` instead\n"
          ]
        },
        {
          "output_type": "stream",
          "name": "stdout",
          "text": [
            "0: 736x1280 3 cars, 1 bus, 2 trains, 1 truck, 1232.3ms\n",
            "Speed: 23.8ms preprocess, 1232.3ms inference, 3.2ms postprocess per image at shape (1, 3, 736, 1280)\n",
            "\n"
          ]
        },
        {
          "output_type": "stream",
          "name": "stderr",
          "text": [
            "SupervisionWarnings: annotate is deprecated: `BoxAnnotator` is deprecated and will be removed in `supervision-0.22.0`. Use `BoundingBoxAnnotator` and `LabelAnnotator` instead\n"
          ]
        },
        {
          "output_type": "stream",
          "name": "stdout",
          "text": [
            "0: 736x1280 3 cars, 2 trains, 1 truck, 2108.8ms\n",
            "Speed: 16.8ms preprocess, 2108.8ms inference, 4.9ms postprocess per image at shape (1, 3, 736, 1280)\n",
            "\n"
          ]
        },
        {
          "output_type": "stream",
          "name": "stderr",
          "text": [
            "SupervisionWarnings: annotate is deprecated: `BoxAnnotator` is deprecated and will be removed in `supervision-0.22.0`. Use `BoundingBoxAnnotator` and `LabelAnnotator` instead\n"
          ]
        },
        {
          "output_type": "stream",
          "name": "stdout",
          "text": [
            "0: 736x1280 3 cars, 1 bus, 2 trains, 1 truck, 1974.4ms\n",
            "Speed: 36.1ms preprocess, 1974.4ms inference, 3.4ms postprocess per image at shape (1, 3, 736, 1280)\n",
            "\n"
          ]
        },
        {
          "output_type": "stream",
          "name": "stderr",
          "text": [
            "SupervisionWarnings: annotate is deprecated: `BoxAnnotator` is deprecated and will be removed in `supervision-0.22.0`. Use `BoundingBoxAnnotator` and `LabelAnnotator` instead\n"
          ]
        },
        {
          "output_type": "stream",
          "name": "stdout",
          "text": [
            "0: 736x1280 3 cars, 1 bus, 2 trains, 1 truck, 1360.2ms\n",
            "Speed: 14.1ms preprocess, 1360.2ms inference, 3.7ms postprocess per image at shape (1, 3, 736, 1280)\n",
            "\n"
          ]
        },
        {
          "output_type": "stream",
          "name": "stderr",
          "text": [
            "SupervisionWarnings: annotate is deprecated: `BoxAnnotator` is deprecated and will be removed in `supervision-0.22.0`. Use `BoundingBoxAnnotator` and `LabelAnnotator` instead\n"
          ]
        },
        {
          "output_type": "stream",
          "name": "stdout",
          "text": [
            "0: 736x1280 3 cars, 1 bus, 2 trains, 1 truck, 1346.5ms\n",
            "Speed: 15.3ms preprocess, 1346.5ms inference, 3.1ms postprocess per image at shape (1, 3, 736, 1280)\n",
            "\n"
          ]
        },
        {
          "output_type": "stream",
          "name": "stderr",
          "text": [
            "SupervisionWarnings: annotate is deprecated: `BoxAnnotator` is deprecated and will be removed in `supervision-0.22.0`. Use `BoundingBoxAnnotator` and `LabelAnnotator` instead\n"
          ]
        },
        {
          "output_type": "stream",
          "name": "stdout",
          "text": [
            "0: 736x1280 3 cars, 1 bus, 2 trains, 1 truck, 1349.4ms\n",
            "Speed: 14.9ms preprocess, 1349.4ms inference, 3.5ms postprocess per image at shape (1, 3, 736, 1280)\n",
            "\n"
          ]
        },
        {
          "output_type": "stream",
          "name": "stderr",
          "text": [
            "SupervisionWarnings: annotate is deprecated: `BoxAnnotator` is deprecated and will be removed in `supervision-0.22.0`. Use `BoundingBoxAnnotator` and `LabelAnnotator` instead\n"
          ]
        },
        {
          "output_type": "stream",
          "name": "stdout",
          "text": [
            "0: 736x1280 3 cars, 2 trains, 1 truck, 1356.2ms\n",
            "Speed: 24.2ms preprocess, 1356.2ms inference, 3.1ms postprocess per image at shape (1, 3, 736, 1280)\n",
            "\n"
          ]
        },
        {
          "output_type": "stream",
          "name": "stderr",
          "text": [
            "SupervisionWarnings: annotate is deprecated: `BoxAnnotator` is deprecated and will be removed in `supervision-0.22.0`. Use `BoundingBoxAnnotator` and `LabelAnnotator` instead\n"
          ]
        },
        {
          "output_type": "stream",
          "name": "stdout",
          "text": [
            "0: 736x1280 3 cars, 1 bus, 2 trains, 1 truck, 1272.5ms\n",
            "Speed: 15.7ms preprocess, 1272.5ms inference, 3.0ms postprocess per image at shape (1, 3, 736, 1280)\n",
            "\n"
          ]
        },
        {
          "output_type": "stream",
          "name": "stderr",
          "text": [
            "SupervisionWarnings: annotate is deprecated: `BoxAnnotator` is deprecated and will be removed in `supervision-0.22.0`. Use `BoundingBoxAnnotator` and `LabelAnnotator` instead\n"
          ]
        },
        {
          "output_type": "stream",
          "name": "stdout",
          "text": [
            "0: 736x1280 3 cars, 2 trains, 1 truck, 1242.5ms\n",
            "Speed: 13.1ms preprocess, 1242.5ms inference, 2.4ms postprocess per image at shape (1, 3, 736, 1280)\n",
            "\n"
          ]
        },
        {
          "output_type": "stream",
          "name": "stderr",
          "text": [
            "SupervisionWarnings: annotate is deprecated: `BoxAnnotator` is deprecated and will be removed in `supervision-0.22.0`. Use `BoundingBoxAnnotator` and `LabelAnnotator` instead\n"
          ]
        },
        {
          "output_type": "stream",
          "name": "stdout",
          "text": [
            "0: 736x1280 3 cars, 1 bus, 2 trains, 1 truck, 1516.2ms\n",
            "Speed: 20.2ms preprocess, 1516.2ms inference, 3.0ms postprocess per image at shape (1, 3, 736, 1280)\n",
            "\n"
          ]
        },
        {
          "output_type": "stream",
          "name": "stderr",
          "text": [
            "SupervisionWarnings: annotate is deprecated: `BoxAnnotator` is deprecated and will be removed in `supervision-0.22.0`. Use `BoundingBoxAnnotator` and `LabelAnnotator` instead\n"
          ]
        },
        {
          "output_type": "stream",
          "name": "stdout",
          "text": [
            "0: 736x1280 3 cars, 1 bus, 2 trains, 1 truck, 1929.3ms\n",
            "Speed: 30.6ms preprocess, 1929.3ms inference, 4.4ms postprocess per image at shape (1, 3, 736, 1280)\n",
            "\n"
          ]
        },
        {
          "output_type": "stream",
          "name": "stderr",
          "text": [
            "SupervisionWarnings: annotate is deprecated: `BoxAnnotator` is deprecated and will be removed in `supervision-0.22.0`. Use `BoundingBoxAnnotator` and `LabelAnnotator` instead\n"
          ]
        },
        {
          "output_type": "stream",
          "name": "stdout",
          "text": [
            "0: 736x1280 3 cars, 2 trains, 1 truck, 1500.5ms\n",
            "Speed: 38.0ms preprocess, 1500.5ms inference, 7.6ms postprocess per image at shape (1, 3, 736, 1280)\n",
            "\n"
          ]
        },
        {
          "output_type": "stream",
          "name": "stderr",
          "text": [
            "SupervisionWarnings: annotate is deprecated: `BoxAnnotator` is deprecated and will be removed in `supervision-0.22.0`. Use `BoundingBoxAnnotator` and `LabelAnnotator` instead\n"
          ]
        },
        {
          "output_type": "stream",
          "name": "stdout",
          "text": [
            "0: 736x1280 4 cars, 2 trains, 1 truck, 1232.3ms\n",
            "Speed: 23.2ms preprocess, 1232.3ms inference, 2.9ms postprocess per image at shape (1, 3, 736, 1280)\n",
            "\n"
          ]
        },
        {
          "output_type": "stream",
          "name": "stderr",
          "text": [
            "SupervisionWarnings: annotate is deprecated: `BoxAnnotator` is deprecated and will be removed in `supervision-0.22.0`. Use `BoundingBoxAnnotator` and `LabelAnnotator` instead\n"
          ]
        },
        {
          "output_type": "stream",
          "name": "stdout",
          "text": [
            "0: 736x1280 3 cars, 2 trains, 1 truck, 1245.0ms\n",
            "Speed: 21.9ms preprocess, 1245.0ms inference, 2.5ms postprocess per image at shape (1, 3, 736, 1280)\n",
            "\n"
          ]
        },
        {
          "output_type": "stream",
          "name": "stderr",
          "text": [
            "SupervisionWarnings: annotate is deprecated: `BoxAnnotator` is deprecated and will be removed in `supervision-0.22.0`. Use `BoundingBoxAnnotator` and `LabelAnnotator` instead\n"
          ]
        },
        {
          "output_type": "stream",
          "name": "stdout",
          "text": [
            "0: 736x1280 3 cars, 2 trains, 1 truck, 1329.3ms\n",
            "Speed: 12.4ms preprocess, 1329.3ms inference, 2.5ms postprocess per image at shape (1, 3, 736, 1280)\n",
            "\n"
          ]
        },
        {
          "output_type": "stream",
          "name": "stderr",
          "text": [
            "SupervisionWarnings: annotate is deprecated: `BoxAnnotator` is deprecated and will be removed in `supervision-0.22.0`. Use `BoundingBoxAnnotator` and `LabelAnnotator` instead\n"
          ]
        },
        {
          "output_type": "stream",
          "name": "stdout",
          "text": [
            "0: 736x1280 2 cars, 1 bus, 2 trains, 1 truck, 1250.2ms\n",
            "Speed: 15.4ms preprocess, 1250.2ms inference, 3.1ms postprocess per image at shape (1, 3, 736, 1280)\n",
            "\n"
          ]
        },
        {
          "output_type": "stream",
          "name": "stderr",
          "text": [
            "SupervisionWarnings: annotate is deprecated: `BoxAnnotator` is deprecated and will be removed in `supervision-0.22.0`. Use `BoundingBoxAnnotator` and `LabelAnnotator` instead\n"
          ]
        },
        {
          "output_type": "stream",
          "name": "stdout",
          "text": [
            "0: 736x1280 2 cars, 2 trains, 1 truck, 1274.7ms\n",
            "Speed: 18.5ms preprocess, 1274.7ms inference, 2.8ms postprocess per image at shape (1, 3, 736, 1280)\n",
            "\n"
          ]
        },
        {
          "output_type": "stream",
          "name": "stderr",
          "text": [
            "SupervisionWarnings: annotate is deprecated: `BoxAnnotator` is deprecated and will be removed in `supervision-0.22.0`. Use `BoundingBoxAnnotator` and `LabelAnnotator` instead\n"
          ]
        },
        {
          "output_type": "stream",
          "name": "stdout",
          "text": [
            "0: 736x1280 2 cars, 2 trains, 1 truck, 1253.6ms\n",
            "Speed: 12.8ms preprocess, 1253.6ms inference, 2.5ms postprocess per image at shape (1, 3, 736, 1280)\n",
            "\n"
          ]
        },
        {
          "output_type": "stream",
          "name": "stderr",
          "text": [
            "SupervisionWarnings: annotate is deprecated: `BoxAnnotator` is deprecated and will be removed in `supervision-0.22.0`. Use `BoundingBoxAnnotator` and `LabelAnnotator` instead\n"
          ]
        },
        {
          "output_type": "stream",
          "name": "stdout",
          "text": [
            "0: 736x1280 2 cars, 2 trains, 1 truck, 1699.9ms\n",
            "Speed: 15.5ms preprocess, 1699.9ms inference, 3.9ms postprocess per image at shape (1, 3, 736, 1280)\n",
            "\n"
          ]
        },
        {
          "output_type": "stream",
          "name": "stderr",
          "text": [
            "SupervisionWarnings: annotate is deprecated: `BoxAnnotator` is deprecated and will be removed in `supervision-0.22.0`. Use `BoundingBoxAnnotator` and `LabelAnnotator` instead\n"
          ]
        },
        {
          "output_type": "stream",
          "name": "stdout",
          "text": [
            "0: 736x1280 3 cars, 1 bus, 2 trains, 1 truck, 2059.4ms\n",
            "Speed: 24.4ms preprocess, 2059.4ms inference, 7.8ms postprocess per image at shape (1, 3, 736, 1280)\n",
            "\n"
          ]
        },
        {
          "output_type": "stream",
          "name": "stderr",
          "text": [
            "SupervisionWarnings: annotate is deprecated: `BoxAnnotator` is deprecated and will be removed in `supervision-0.22.0`. Use `BoundingBoxAnnotator` and `LabelAnnotator` instead\n"
          ]
        },
        {
          "output_type": "stream",
          "name": "stdout",
          "text": [
            "0: 736x1280 3 cars, 2 trains, 1 truck, 1374.7ms\n",
            "Speed: 35.3ms preprocess, 1374.7ms inference, 2.5ms postprocess per image at shape (1, 3, 736, 1280)\n",
            "\n"
          ]
        },
        {
          "output_type": "stream",
          "name": "stderr",
          "text": [
            "SupervisionWarnings: annotate is deprecated: `BoxAnnotator` is deprecated and will be removed in `supervision-0.22.0`. Use `BoundingBoxAnnotator` and `LabelAnnotator` instead\n"
          ]
        },
        {
          "output_type": "stream",
          "name": "stdout",
          "text": [
            "0: 736x1280 2 cars, 2 trains, 1 truck, 1247.2ms\n",
            "Speed: 20.2ms preprocess, 1247.2ms inference, 3.7ms postprocess per image at shape (1, 3, 736, 1280)\n",
            "\n"
          ]
        },
        {
          "output_type": "stream",
          "name": "stderr",
          "text": [
            "SupervisionWarnings: annotate is deprecated: `BoxAnnotator` is deprecated and will be removed in `supervision-0.22.0`. Use `BoundingBoxAnnotator` and `LabelAnnotator` instead\n"
          ]
        },
        {
          "output_type": "stream",
          "name": "stdout",
          "text": [
            "0: 736x1280 3 cars, 2 trains, 1 truck, 1352.3ms\n",
            "Speed: 27.3ms preprocess, 1352.3ms inference, 3.0ms postprocess per image at shape (1, 3, 736, 1280)\n",
            "\n"
          ]
        },
        {
          "output_type": "stream",
          "name": "stderr",
          "text": [
            "SupervisionWarnings: annotate is deprecated: `BoxAnnotator` is deprecated and will be removed in `supervision-0.22.0`. Use `BoundingBoxAnnotator` and `LabelAnnotator` instead\n"
          ]
        },
        {
          "output_type": "stream",
          "name": "stdout",
          "text": [
            "0: 736x1280 2 cars, 2 trains, 1 truck, 1258.7ms\n",
            "Speed: 14.2ms preprocess, 1258.7ms inference, 3.0ms postprocess per image at shape (1, 3, 736, 1280)\n",
            "\n"
          ]
        },
        {
          "output_type": "stream",
          "name": "stderr",
          "text": [
            "SupervisionWarnings: annotate is deprecated: `BoxAnnotator` is deprecated and will be removed in `supervision-0.22.0`. Use `BoundingBoxAnnotator` and `LabelAnnotator` instead\n"
          ]
        },
        {
          "output_type": "stream",
          "name": "stdout",
          "text": [
            "0: 736x1280 2 cars, 2 trains, 1 truck, 1351.2ms\n",
            "Speed: 22.4ms preprocess, 1351.2ms inference, 3.3ms postprocess per image at shape (1, 3, 736, 1280)\n",
            "\n"
          ]
        },
        {
          "output_type": "stream",
          "name": "stderr",
          "text": [
            "SupervisionWarnings: annotate is deprecated: `BoxAnnotator` is deprecated and will be removed in `supervision-0.22.0`. Use `BoundingBoxAnnotator` and `LabelAnnotator` instead\n"
          ]
        },
        {
          "output_type": "stream",
          "name": "stdout",
          "text": [
            "0: 736x1280 3 cars, 1 bus, 2 trains, 1 truck, 1286.1ms\n",
            "Speed: 22.2ms preprocess, 1286.1ms inference, 2.5ms postprocess per image at shape (1, 3, 736, 1280)\n",
            "\n"
          ]
        },
        {
          "output_type": "stream",
          "name": "stderr",
          "text": [
            "SupervisionWarnings: annotate is deprecated: `BoxAnnotator` is deprecated and will be removed in `supervision-0.22.0`. Use `BoundingBoxAnnotator` and `LabelAnnotator` instead\n"
          ]
        },
        {
          "output_type": "stream",
          "name": "stdout",
          "text": [
            "0: 736x1280 4 cars, 2 trains, 1 truck, 1328.8ms\n",
            "Speed: 13.3ms preprocess, 1328.8ms inference, 3.1ms postprocess per image at shape (1, 3, 736, 1280)\n",
            "\n"
          ]
        },
        {
          "output_type": "stream",
          "name": "stderr",
          "text": [
            "SupervisionWarnings: annotate is deprecated: `BoxAnnotator` is deprecated and will be removed in `supervision-0.22.0`. Use `BoundingBoxAnnotator` and `LabelAnnotator` instead\n"
          ]
        },
        {
          "output_type": "stream",
          "name": "stdout",
          "text": [
            "0: 736x1280 4 cars, 2 trains, 1 truck, 1931.3ms\n",
            "Speed: 28.7ms preprocess, 1931.3ms inference, 4.3ms postprocess per image at shape (1, 3, 736, 1280)\n",
            "\n"
          ]
        },
        {
          "output_type": "stream",
          "name": "stderr",
          "text": [
            "SupervisionWarnings: annotate is deprecated: `BoxAnnotator` is deprecated and will be removed in `supervision-0.22.0`. Use `BoundingBoxAnnotator` and `LabelAnnotator` instead\n"
          ]
        },
        {
          "output_type": "stream",
          "name": "stdout",
          "text": [
            "0: 736x1280 3 cars, 1 bus, 2 trains, 1 truck, 1891.5ms\n",
            "Speed: 26.3ms preprocess, 1891.5ms inference, 3.3ms postprocess per image at shape (1, 3, 736, 1280)\n",
            "\n"
          ]
        },
        {
          "output_type": "stream",
          "name": "stderr",
          "text": [
            "SupervisionWarnings: annotate is deprecated: `BoxAnnotator` is deprecated and will be removed in `supervision-0.22.0`. Use `BoundingBoxAnnotator` and `LabelAnnotator` instead\n"
          ]
        },
        {
          "output_type": "stream",
          "name": "stdout",
          "text": [
            "0: 736x1280 4 cars, 2 trains, 1 truck, 1364.5ms\n",
            "Speed: 16.9ms preprocess, 1364.5ms inference, 3.0ms postprocess per image at shape (1, 3, 736, 1280)\n",
            "\n"
          ]
        },
        {
          "output_type": "stream",
          "name": "stderr",
          "text": [
            "SupervisionWarnings: annotate is deprecated: `BoxAnnotator` is deprecated and will be removed in `supervision-0.22.0`. Use `BoundingBoxAnnotator` and `LabelAnnotator` instead\n"
          ]
        },
        {
          "output_type": "stream",
          "name": "stdout",
          "text": [
            "0: 736x1280 4 cars, 1 bus, 2 trains, 1 truck, 1265.0ms\n",
            "Speed: 16.8ms preprocess, 1265.0ms inference, 3.3ms postprocess per image at shape (1, 3, 736, 1280)\n",
            "\n"
          ]
        },
        {
          "output_type": "stream",
          "name": "stderr",
          "text": [
            "SupervisionWarnings: annotate is deprecated: `BoxAnnotator` is deprecated and will be removed in `supervision-0.22.0`. Use `BoundingBoxAnnotator` and `LabelAnnotator` instead\n"
          ]
        },
        {
          "output_type": "stream",
          "name": "stdout",
          "text": [
            "0: 736x1280 4 cars, 2 trains, 1 truck, 1354.7ms\n",
            "Speed: 14.8ms preprocess, 1354.7ms inference, 3.2ms postprocess per image at shape (1, 3, 736, 1280)\n",
            "\n"
          ]
        },
        {
          "output_type": "stream",
          "name": "stderr",
          "text": [
            "SupervisionWarnings: annotate is deprecated: `BoxAnnotator` is deprecated and will be removed in `supervision-0.22.0`. Use `BoundingBoxAnnotator` and `LabelAnnotator` instead\n"
          ]
        },
        {
          "output_type": "stream",
          "name": "stdout",
          "text": [
            "0: 736x1280 4 cars, 2 trains, 1 truck, 1269.9ms\n",
            "Speed: 15.2ms preprocess, 1269.9ms inference, 2.7ms postprocess per image at shape (1, 3, 736, 1280)\n",
            "\n"
          ]
        },
        {
          "output_type": "stream",
          "name": "stderr",
          "text": [
            "SupervisionWarnings: annotate is deprecated: `BoxAnnotator` is deprecated and will be removed in `supervision-0.22.0`. Use `BoundingBoxAnnotator` and `LabelAnnotator` instead\n"
          ]
        },
        {
          "output_type": "stream",
          "name": "stdout",
          "text": [
            "0: 736x1280 4 cars, 2 trains, 1 truck, 1257.3ms\n",
            "Speed: 13.4ms preprocess, 1257.3ms inference, 2.5ms postprocess per image at shape (1, 3, 736, 1280)\n",
            "\n"
          ]
        },
        {
          "output_type": "stream",
          "name": "stderr",
          "text": [
            "SupervisionWarnings: annotate is deprecated: `BoxAnnotator` is deprecated and will be removed in `supervision-0.22.0`. Use `BoundingBoxAnnotator` and `LabelAnnotator` instead\n"
          ]
        },
        {
          "output_type": "stream",
          "name": "stdout",
          "text": [
            "0: 736x1280 4 cars, 2 trains, 1 truck, 1308.1ms\n",
            "Speed: 14.2ms preprocess, 1308.1ms inference, 2.9ms postprocess per image at shape (1, 3, 736, 1280)\n",
            "\n"
          ]
        },
        {
          "output_type": "stream",
          "name": "stderr",
          "text": [
            "SupervisionWarnings: annotate is deprecated: `BoxAnnotator` is deprecated and will be removed in `supervision-0.22.0`. Use `BoundingBoxAnnotator` and `LabelAnnotator` instead\n"
          ]
        },
        {
          "output_type": "stream",
          "name": "stdout",
          "text": [
            "0: 736x1280 4 cars, 2 trains, 1 truck, 1488.5ms\n",
            "Speed: 24.5ms preprocess, 1488.5ms inference, 3.4ms postprocess per image at shape (1, 3, 736, 1280)\n",
            "\n"
          ]
        },
        {
          "output_type": "stream",
          "name": "stderr",
          "text": [
            "SupervisionWarnings: annotate is deprecated: `BoxAnnotator` is deprecated and will be removed in `supervision-0.22.0`. Use `BoundingBoxAnnotator` and `LabelAnnotator` instead\n"
          ]
        },
        {
          "output_type": "stream",
          "name": "stdout",
          "text": [
            "0: 736x1280 4 cars, 2 trains, 1 truck, 1954.8ms\n",
            "Speed: 35.4ms preprocess, 1954.8ms inference, 4.2ms postprocess per image at shape (1, 3, 736, 1280)\n",
            "\n"
          ]
        },
        {
          "output_type": "stream",
          "name": "stderr",
          "text": [
            "SupervisionWarnings: annotate is deprecated: `BoxAnnotator` is deprecated and will be removed in `supervision-0.22.0`. Use `BoundingBoxAnnotator` and `LabelAnnotator` instead\n"
          ]
        },
        {
          "output_type": "stream",
          "name": "stdout",
          "text": [
            "0: 736x1280 3 cars, 2 trains, 1 truck, 1609.0ms\n",
            "Speed: 31.4ms preprocess, 1609.0ms inference, 2.9ms postprocess per image at shape (1, 3, 736, 1280)\n",
            "\n"
          ]
        },
        {
          "output_type": "stream",
          "name": "stderr",
          "text": [
            "SupervisionWarnings: annotate is deprecated: `BoxAnnotator` is deprecated and will be removed in `supervision-0.22.0`. Use `BoundingBoxAnnotator` and `LabelAnnotator` instead\n"
          ]
        },
        {
          "output_type": "stream",
          "name": "stdout",
          "text": [
            "0: 736x1280 3 cars, 1 bus, 2 trains, 1 truck, 1283.5ms\n",
            "Speed: 15.6ms preprocess, 1283.5ms inference, 2.8ms postprocess per image at shape (1, 3, 736, 1280)\n",
            "\n"
          ]
        },
        {
          "output_type": "stream",
          "name": "stderr",
          "text": [
            "SupervisionWarnings: annotate is deprecated: `BoxAnnotator` is deprecated and will be removed in `supervision-0.22.0`. Use `BoundingBoxAnnotator` and `LabelAnnotator` instead\n"
          ]
        },
        {
          "output_type": "stream",
          "name": "stdout",
          "text": [
            "0: 736x1280 3 cars, 1 bus, 2 trains, 1 truck, 1221.3ms\n",
            "Speed: 17.7ms preprocess, 1221.3ms inference, 3.1ms postprocess per image at shape (1, 3, 736, 1280)\n",
            "\n"
          ]
        },
        {
          "output_type": "stream",
          "name": "stderr",
          "text": [
            "SupervisionWarnings: annotate is deprecated: `BoxAnnotator` is deprecated and will be removed in `supervision-0.22.0`. Use `BoundingBoxAnnotator` and `LabelAnnotator` instead\n"
          ]
        },
        {
          "output_type": "stream",
          "name": "stdout",
          "text": [
            "0: 736x1280 3 cars, 1 bus, 2 trains, 1331.7ms\n",
            "Speed: 15.0ms preprocess, 1331.7ms inference, 3.1ms postprocess per image at shape (1, 3, 736, 1280)\n",
            "\n"
          ]
        },
        {
          "output_type": "stream",
          "name": "stderr",
          "text": [
            "SupervisionWarnings: annotate is deprecated: `BoxAnnotator` is deprecated and will be removed in `supervision-0.22.0`. Use `BoundingBoxAnnotator` and `LabelAnnotator` instead\n"
          ]
        },
        {
          "output_type": "stream",
          "name": "stdout",
          "text": [
            "0: 736x1280 3 cars, 1 bus, 2 trains, 1 truck, 1337.2ms\n",
            "Speed: 15.0ms preprocess, 1337.2ms inference, 3.6ms postprocess per image at shape (1, 3, 736, 1280)\n",
            "\n"
          ]
        },
        {
          "output_type": "stream",
          "name": "stderr",
          "text": [
            "SupervisionWarnings: annotate is deprecated: `BoxAnnotator` is deprecated and will be removed in `supervision-0.22.0`. Use `BoundingBoxAnnotator` and `LabelAnnotator` instead\n"
          ]
        },
        {
          "output_type": "stream",
          "name": "stdout",
          "text": [
            "0: 736x1280 3 cars, 1 bus, 2 trains, 1 truck, 1360.3ms\n",
            "Speed: 22.8ms preprocess, 1360.3ms inference, 2.6ms postprocess per image at shape (1, 3, 736, 1280)\n",
            "\n"
          ]
        },
        {
          "output_type": "stream",
          "name": "stderr",
          "text": [
            "SupervisionWarnings: annotate is deprecated: `BoxAnnotator` is deprecated and will be removed in `supervision-0.22.0`. Use `BoundingBoxAnnotator` and `LabelAnnotator` instead\n"
          ]
        },
        {
          "output_type": "stream",
          "name": "stdout",
          "text": [
            "0: 736x1280 3 cars, 1 bus, 2 trains, 1228.2ms\n",
            "Speed: 13.0ms preprocess, 1228.2ms inference, 2.7ms postprocess per image at shape (1, 3, 736, 1280)\n",
            "\n"
          ]
        },
        {
          "output_type": "stream",
          "name": "stderr",
          "text": [
            "SupervisionWarnings: annotate is deprecated: `BoxAnnotator` is deprecated and will be removed in `supervision-0.22.0`. Use `BoundingBoxAnnotator` and `LabelAnnotator` instead\n"
          ]
        },
        {
          "output_type": "stream",
          "name": "stdout",
          "text": [
            "0: 736x1280 3 cars, 2 trains, 1 truck, 1725.9ms\n",
            "Speed: 13.1ms preprocess, 1725.9ms inference, 6.0ms postprocess per image at shape (1, 3, 736, 1280)\n",
            "\n"
          ]
        },
        {
          "output_type": "stream",
          "name": "stderr",
          "text": [
            "SupervisionWarnings: annotate is deprecated: `BoxAnnotator` is deprecated and will be removed in `supervision-0.22.0`. Use `BoundingBoxAnnotator` and `LabelAnnotator` instead\n"
          ]
        },
        {
          "output_type": "stream",
          "name": "stdout",
          "text": [
            "0: 736x1280 3 cars, 1 bus, 2 trains, 1 truck, 2029.8ms\n",
            "Speed: 18.8ms preprocess, 2029.8ms inference, 3.2ms postprocess per image at shape (1, 3, 736, 1280)\n",
            "\n"
          ]
        },
        {
          "output_type": "stream",
          "name": "stderr",
          "text": [
            "SupervisionWarnings: annotate is deprecated: `BoxAnnotator` is deprecated and will be removed in `supervision-0.22.0`. Use `BoundingBoxAnnotator` and `LabelAnnotator` instead\n"
          ]
        },
        {
          "output_type": "stream",
          "name": "stdout",
          "text": [
            "0: 736x1280 3 cars, 1 bus, 2 trains, 1333.9ms\n",
            "Speed: 22.9ms preprocess, 1333.9ms inference, 2.4ms postprocess per image at shape (1, 3, 736, 1280)\n",
            "\n"
          ]
        },
        {
          "output_type": "stream",
          "name": "stderr",
          "text": [
            "SupervisionWarnings: annotate is deprecated: `BoxAnnotator` is deprecated and will be removed in `supervision-0.22.0`. Use `BoundingBoxAnnotator` and `LabelAnnotator` instead\n"
          ]
        },
        {
          "output_type": "stream",
          "name": "stdout",
          "text": [
            "0: 736x1280 3 cars, 1 bus, 2 trains, 1237.4ms\n",
            "Speed: 14.5ms preprocess, 1237.4ms inference, 2.6ms postprocess per image at shape (1, 3, 736, 1280)\n",
            "\n"
          ]
        },
        {
          "output_type": "stream",
          "name": "stderr",
          "text": [
            "SupervisionWarnings: annotate is deprecated: `BoxAnnotator` is deprecated and will be removed in `supervision-0.22.0`. Use `BoundingBoxAnnotator` and `LabelAnnotator` instead\n"
          ]
        },
        {
          "output_type": "stream",
          "name": "stdout",
          "text": [
            "0: 736x1280 3 cars, 2 trains, 1 truck, 1286.3ms\n",
            "Speed: 13.7ms preprocess, 1286.3ms inference, 3.6ms postprocess per image at shape (1, 3, 736, 1280)\n",
            "\n"
          ]
        },
        {
          "output_type": "stream",
          "name": "stderr",
          "text": [
            "SupervisionWarnings: annotate is deprecated: `BoxAnnotator` is deprecated and will be removed in `supervision-0.22.0`. Use `BoundingBoxAnnotator` and `LabelAnnotator` instead\n"
          ]
        },
        {
          "output_type": "stream",
          "name": "stdout",
          "text": [
            "0: 736x1280 3 cars, 1 bus, 2 trains, 1 truck, 1282.9ms\n",
            "Speed: 18.0ms preprocess, 1282.9ms inference, 2.6ms postprocess per image at shape (1, 3, 736, 1280)\n",
            "\n"
          ]
        },
        {
          "output_type": "stream",
          "name": "stderr",
          "text": [
            "SupervisionWarnings: annotate is deprecated: `BoxAnnotator` is deprecated and will be removed in `supervision-0.22.0`. Use `BoundingBoxAnnotator` and `LabelAnnotator` instead\n"
          ]
        },
        {
          "output_type": "stream",
          "name": "stdout",
          "text": [
            "0: 736x1280 3 cars, 1 bus, 2 trains, 1 truck, 1285.6ms\n",
            "Speed: 13.2ms preprocess, 1285.6ms inference, 3.2ms postprocess per image at shape (1, 3, 736, 1280)\n",
            "\n"
          ]
        },
        {
          "output_type": "stream",
          "name": "stderr",
          "text": [
            "SupervisionWarnings: annotate is deprecated: `BoxAnnotator` is deprecated and will be removed in `supervision-0.22.0`. Use `BoundingBoxAnnotator` and `LabelAnnotator` instead\n"
          ]
        },
        {
          "output_type": "stream",
          "name": "stdout",
          "text": [
            "0: 736x1280 4 cars, 1 bus, 2 trains, 1 truck, 1289.9ms\n",
            "Speed: 16.8ms preprocess, 1289.9ms inference, 2.3ms postprocess per image at shape (1, 3, 736, 1280)\n",
            "\n"
          ]
        },
        {
          "output_type": "stream",
          "name": "stderr",
          "text": [
            "SupervisionWarnings: annotate is deprecated: `BoxAnnotator` is deprecated and will be removed in `supervision-0.22.0`. Use `BoundingBoxAnnotator` and `LabelAnnotator` instead\n"
          ]
        },
        {
          "output_type": "stream",
          "name": "stdout",
          "text": [
            "0: 736x1280 3 cars, 2 trains, 1 truck, 1241.9ms\n",
            "Speed: 22.4ms preprocess, 1241.9ms inference, 2.6ms postprocess per image at shape (1, 3, 736, 1280)\n",
            "\n"
          ]
        },
        {
          "output_type": "stream",
          "name": "stderr",
          "text": [
            "SupervisionWarnings: annotate is deprecated: `BoxAnnotator` is deprecated and will be removed in `supervision-0.22.0`. Use `BoundingBoxAnnotator` and `LabelAnnotator` instead\n"
          ]
        },
        {
          "output_type": "stream",
          "name": "stdout",
          "text": [
            "0: 736x1280 3 cars, 2 trains, 1 truck, 1661.6ms\n",
            "Speed: 13.0ms preprocess, 1661.6ms inference, 3.1ms postprocess per image at shape (1, 3, 736, 1280)\n",
            "\n"
          ]
        },
        {
          "output_type": "stream",
          "name": "stderr",
          "text": [
            "SupervisionWarnings: annotate is deprecated: `BoxAnnotator` is deprecated and will be removed in `supervision-0.22.0`. Use `BoundingBoxAnnotator` and `LabelAnnotator` instead\n"
          ]
        },
        {
          "output_type": "stream",
          "name": "stdout",
          "text": [
            "0: 736x1280 3 cars, 2 trains, 1 truck, 1917.3ms\n",
            "Speed: 24.2ms preprocess, 1917.3ms inference, 3.1ms postprocess per image at shape (1, 3, 736, 1280)\n",
            "\n"
          ]
        },
        {
          "output_type": "stream",
          "name": "stderr",
          "text": [
            "SupervisionWarnings: annotate is deprecated: `BoxAnnotator` is deprecated and will be removed in `supervision-0.22.0`. Use `BoundingBoxAnnotator` and `LabelAnnotator` instead\n"
          ]
        },
        {
          "output_type": "stream",
          "name": "stdout",
          "text": [
            "0: 736x1280 3 cars, 2 trains, 1 truck, 1384.9ms\n",
            "Speed: 19.1ms preprocess, 1384.9ms inference, 5.0ms postprocess per image at shape (1, 3, 736, 1280)\n",
            "\n"
          ]
        },
        {
          "output_type": "stream",
          "name": "stderr",
          "text": [
            "SupervisionWarnings: annotate is deprecated: `BoxAnnotator` is deprecated and will be removed in `supervision-0.22.0`. Use `BoundingBoxAnnotator` and `LabelAnnotator` instead\n"
          ]
        },
        {
          "output_type": "stream",
          "name": "stdout",
          "text": [
            "0: 736x1280 3 cars, 2 trains, 1 truck, 1344.6ms\n",
            "Speed: 16.1ms preprocess, 1344.6ms inference, 3.4ms postprocess per image at shape (1, 3, 736, 1280)\n",
            "\n"
          ]
        },
        {
          "output_type": "stream",
          "name": "stderr",
          "text": [
            "SupervisionWarnings: annotate is deprecated: `BoxAnnotator` is deprecated and will be removed in `supervision-0.22.0`. Use `BoundingBoxAnnotator` and `LabelAnnotator` instead\n"
          ]
        },
        {
          "output_type": "stream",
          "name": "stdout",
          "text": [
            "0: 736x1280 3 cars, 2 trains, 1 truck, 1352.9ms\n",
            "Speed: 16.6ms preprocess, 1352.9ms inference, 3.1ms postprocess per image at shape (1, 3, 736, 1280)\n",
            "\n"
          ]
        },
        {
          "output_type": "stream",
          "name": "stderr",
          "text": [
            "SupervisionWarnings: annotate is deprecated: `BoxAnnotator` is deprecated and will be removed in `supervision-0.22.0`. Use `BoundingBoxAnnotator` and `LabelAnnotator` instead\n"
          ]
        },
        {
          "output_type": "stream",
          "name": "stdout",
          "text": [
            "0: 736x1280 3 cars, 1 bus, 2 trains, 1333.6ms\n",
            "Speed: 18.4ms preprocess, 1333.6ms inference, 2.6ms postprocess per image at shape (1, 3, 736, 1280)\n",
            "\n"
          ]
        },
        {
          "output_type": "stream",
          "name": "stderr",
          "text": [
            "SupervisionWarnings: annotate is deprecated: `BoxAnnotator` is deprecated and will be removed in `supervision-0.22.0`. Use `BoundingBoxAnnotator` and `LabelAnnotator` instead\n"
          ]
        },
        {
          "output_type": "stream",
          "name": "stdout",
          "text": [
            "0: 736x1280 3 cars, 2 trains, 1 truck, 1240.6ms\n",
            "Speed: 13.1ms preprocess, 1240.6ms inference, 4.1ms postprocess per image at shape (1, 3, 736, 1280)\n",
            "\n"
          ]
        },
        {
          "output_type": "stream",
          "name": "stderr",
          "text": [
            "SupervisionWarnings: annotate is deprecated: `BoxAnnotator` is deprecated and will be removed in `supervision-0.22.0`. Use `BoundingBoxAnnotator` and `LabelAnnotator` instead\n"
          ]
        },
        {
          "output_type": "stream",
          "name": "stdout",
          "text": [
            "0: 736x1280 3 cars, 2 trains, 1 truck, 1342.1ms\n",
            "Speed: 14.9ms preprocess, 1342.1ms inference, 3.3ms postprocess per image at shape (1, 3, 736, 1280)\n",
            "\n"
          ]
        },
        {
          "output_type": "stream",
          "name": "stderr",
          "text": [
            "SupervisionWarnings: annotate is deprecated: `BoxAnnotator` is deprecated and will be removed in `supervision-0.22.0`. Use `BoundingBoxAnnotator` and `LabelAnnotator` instead\n"
          ]
        },
        {
          "output_type": "stream",
          "name": "stdout",
          "text": [
            "0: 736x1280 3 cars, 2 trains, 1 truck, 1227.1ms\n",
            "Speed: 15.7ms preprocess, 1227.1ms inference, 2.4ms postprocess per image at shape (1, 3, 736, 1280)\n",
            "\n"
          ]
        },
        {
          "output_type": "stream",
          "name": "stderr",
          "text": [
            "SupervisionWarnings: annotate is deprecated: `BoxAnnotator` is deprecated and will be removed in `supervision-0.22.0`. Use `BoundingBoxAnnotator` and `LabelAnnotator` instead\n"
          ]
        },
        {
          "output_type": "stream",
          "name": "stdout",
          "text": [
            "0: 736x1280 3 cars, 2 trains, 1 truck, 1898.9ms\n",
            "Speed: 16.1ms preprocess, 1898.9ms inference, 4.1ms postprocess per image at shape (1, 3, 736, 1280)\n",
            "\n"
          ]
        },
        {
          "output_type": "stream",
          "name": "stderr",
          "text": [
            "SupervisionWarnings: annotate is deprecated: `BoxAnnotator` is deprecated and will be removed in `supervision-0.22.0`. Use `BoundingBoxAnnotator` and `LabelAnnotator` instead\n"
          ]
        },
        {
          "output_type": "stream",
          "name": "stdout",
          "text": [
            "0: 736x1280 3 cars, 2 trains, 1 truck, 1951.4ms\n",
            "Speed: 41.9ms preprocess, 1951.4ms inference, 3.1ms postprocess per image at shape (1, 3, 736, 1280)\n",
            "\n"
          ]
        },
        {
          "output_type": "stream",
          "name": "stderr",
          "text": [
            "SupervisionWarnings: annotate is deprecated: `BoxAnnotator` is deprecated and will be removed in `supervision-0.22.0`. Use `BoundingBoxAnnotator` and `LabelAnnotator` instead\n"
          ]
        },
        {
          "output_type": "stream",
          "name": "stdout",
          "text": [
            "0: 736x1280 4 cars, 2 trains, 1 truck, 1312.9ms\n",
            "Speed: 21.9ms preprocess, 1312.9ms inference, 2.8ms postprocess per image at shape (1, 3, 736, 1280)\n",
            "\n"
          ]
        },
        {
          "output_type": "stream",
          "name": "stderr",
          "text": [
            "SupervisionWarnings: annotate is deprecated: `BoxAnnotator` is deprecated and will be removed in `supervision-0.22.0`. Use `BoundingBoxAnnotator` and `LabelAnnotator` instead\n"
          ]
        },
        {
          "output_type": "stream",
          "name": "stdout",
          "text": [
            "0: 736x1280 4 cars, 2 trains, 1 truck, 1350.4ms\n",
            "Speed: 13.1ms preprocess, 1350.4ms inference, 3.6ms postprocess per image at shape (1, 3, 736, 1280)\n",
            "\n"
          ]
        },
        {
          "output_type": "stream",
          "name": "stderr",
          "text": [
            "SupervisionWarnings: annotate is deprecated: `BoxAnnotator` is deprecated and will be removed in `supervision-0.22.0`. Use `BoundingBoxAnnotator` and `LabelAnnotator` instead\n"
          ]
        },
        {
          "output_type": "stream",
          "name": "stdout",
          "text": [
            "0: 736x1280 4 cars, 2 trains, 1 truck, 1345.9ms\n",
            "Speed: 15.5ms preprocess, 1345.9ms inference, 3.7ms postprocess per image at shape (1, 3, 736, 1280)\n",
            "\n"
          ]
        },
        {
          "output_type": "stream",
          "name": "stderr",
          "text": [
            "SupervisionWarnings: annotate is deprecated: `BoxAnnotator` is deprecated and will be removed in `supervision-0.22.0`. Use `BoundingBoxAnnotator` and `LabelAnnotator` instead\n"
          ]
        },
        {
          "output_type": "stream",
          "name": "stdout",
          "text": [
            "0: 736x1280 4 cars, 2 trains, 1 truck, 1300.2ms\n",
            "Speed: 13.4ms preprocess, 1300.2ms inference, 3.1ms postprocess per image at shape (1, 3, 736, 1280)\n",
            "\n"
          ]
        },
        {
          "output_type": "stream",
          "name": "stderr",
          "text": [
            "SupervisionWarnings: annotate is deprecated: `BoxAnnotator` is deprecated and will be removed in `supervision-0.22.0`. Use `BoundingBoxAnnotator` and `LabelAnnotator` instead\n"
          ]
        },
        {
          "output_type": "stream",
          "name": "stdout",
          "text": [
            "0: 736x1280 4 cars, 2 trains, 1 truck, 1247.5ms\n",
            "Speed: 19.3ms preprocess, 1247.5ms inference, 2.2ms postprocess per image at shape (1, 3, 736, 1280)\n",
            "\n"
          ]
        },
        {
          "output_type": "stream",
          "name": "stderr",
          "text": [
            "SupervisionWarnings: annotate is deprecated: `BoxAnnotator` is deprecated and will be removed in `supervision-0.22.0`. Use `BoundingBoxAnnotator` and `LabelAnnotator` instead\n"
          ]
        },
        {
          "output_type": "stream",
          "name": "stdout",
          "text": [
            "0: 736x1280 5 cars, 2 trains, 1 truck, 1291.3ms\n",
            "Speed: 13.0ms preprocess, 1291.3ms inference, 3.2ms postprocess per image at shape (1, 3, 736, 1280)\n",
            "\n"
          ]
        },
        {
          "output_type": "stream",
          "name": "stderr",
          "text": [
            "SupervisionWarnings: annotate is deprecated: `BoxAnnotator` is deprecated and will be removed in `supervision-0.22.0`. Use `BoundingBoxAnnotator` and `LabelAnnotator` instead\n"
          ]
        },
        {
          "output_type": "stream",
          "name": "stdout",
          "text": [
            "0: 736x1280 5 cars, 2 trains, 1 truck, 1496.5ms\n",
            "Speed: 15.2ms preprocess, 1496.5ms inference, 3.3ms postprocess per image at shape (1, 3, 736, 1280)\n",
            "\n"
          ]
        },
        {
          "output_type": "stream",
          "name": "stderr",
          "text": [
            "SupervisionWarnings: annotate is deprecated: `BoxAnnotator` is deprecated and will be removed in `supervision-0.22.0`. Use `BoundingBoxAnnotator` and `LabelAnnotator` instead\n"
          ]
        },
        {
          "output_type": "stream",
          "name": "stdout",
          "text": [
            "0: 736x1280 5 cars, 2 trains, 1 truck, 1913.4ms\n",
            "Speed: 22.8ms preprocess, 1913.4ms inference, 4.0ms postprocess per image at shape (1, 3, 736, 1280)\n",
            "\n"
          ]
        },
        {
          "output_type": "stream",
          "name": "stderr",
          "text": [
            "SupervisionWarnings: annotate is deprecated: `BoxAnnotator` is deprecated and will be removed in `supervision-0.22.0`. Use `BoundingBoxAnnotator` and `LabelAnnotator` instead\n"
          ]
        },
        {
          "output_type": "stream",
          "name": "stdout",
          "text": [
            "0: 736x1280 1 person, 4 cars, 1 bus, 2 trains, 1 truck, 1709.7ms\n",
            "Speed: 27.8ms preprocess, 1709.7ms inference, 3.1ms postprocess per image at shape (1, 3, 736, 1280)\n",
            "\n"
          ]
        },
        {
          "output_type": "stream",
          "name": "stderr",
          "text": [
            "SupervisionWarnings: annotate is deprecated: `BoxAnnotator` is deprecated and will be removed in `supervision-0.22.0`. Use `BoundingBoxAnnotator` and `LabelAnnotator` instead\n"
          ]
        },
        {
          "output_type": "stream",
          "name": "stdout",
          "text": [
            "0: 736x1280 4 cars, 1 bus, 2 trains, 1 truck, 1350.7ms\n",
            "Speed: 16.1ms preprocess, 1350.7ms inference, 3.0ms postprocess per image at shape (1, 3, 736, 1280)\n",
            "\n"
          ]
        },
        {
          "output_type": "stream",
          "name": "stderr",
          "text": [
            "SupervisionWarnings: annotate is deprecated: `BoxAnnotator` is deprecated and will be removed in `supervision-0.22.0`. Use `BoundingBoxAnnotator` and `LabelAnnotator` instead\n"
          ]
        },
        {
          "output_type": "stream",
          "name": "stdout",
          "text": [
            "0: 736x1280 4 cars, 1 bus, 2 trains, 1 truck, 1282.4ms\n",
            "Speed: 16.0ms preprocess, 1282.4ms inference, 3.2ms postprocess per image at shape (1, 3, 736, 1280)\n",
            "\n"
          ]
        },
        {
          "output_type": "stream",
          "name": "stderr",
          "text": [
            "SupervisionWarnings: annotate is deprecated: `BoxAnnotator` is deprecated and will be removed in `supervision-0.22.0`. Use `BoundingBoxAnnotator` and `LabelAnnotator` instead\n"
          ]
        },
        {
          "output_type": "stream",
          "name": "stdout",
          "text": [
            "0: 736x1280 4 cars, 2 trains, 1 truck, 1356.7ms\n",
            "Speed: 15.6ms preprocess, 1356.7ms inference, 3.2ms postprocess per image at shape (1, 3, 736, 1280)\n",
            "\n"
          ]
        },
        {
          "output_type": "stream",
          "name": "stderr",
          "text": [
            "SupervisionWarnings: annotate is deprecated: `BoxAnnotator` is deprecated and will be removed in `supervision-0.22.0`. Use `BoundingBoxAnnotator` and `LabelAnnotator` instead\n"
          ]
        },
        {
          "output_type": "stream",
          "name": "stdout",
          "text": [
            "0: 736x1280 1 person, 4 cars, 2 trains, 1 truck, 1295.2ms\n",
            "Speed: 19.3ms preprocess, 1295.2ms inference, 2.9ms postprocess per image at shape (1, 3, 736, 1280)\n",
            "\n"
          ]
        },
        {
          "output_type": "stream",
          "name": "stderr",
          "text": [
            "SupervisionWarnings: annotate is deprecated: `BoxAnnotator` is deprecated and will be removed in `supervision-0.22.0`. Use `BoundingBoxAnnotator` and `LabelAnnotator` instead\n"
          ]
        },
        {
          "output_type": "stream",
          "name": "stdout",
          "text": [
            "0: 736x1280 4 cars, 2 trains, 1 truck, 1330.4ms\n",
            "Speed: 16.2ms preprocess, 1330.4ms inference, 3.3ms postprocess per image at shape (1, 3, 736, 1280)\n",
            "\n"
          ]
        },
        {
          "output_type": "stream",
          "name": "stderr",
          "text": [
            "SupervisionWarnings: annotate is deprecated: `BoxAnnotator` is deprecated and will be removed in `supervision-0.22.0`. Use `BoundingBoxAnnotator` and `LabelAnnotator` instead\n"
          ]
        },
        {
          "output_type": "stream",
          "name": "stdout",
          "text": [
            "0: 736x1280 4 cars, 2 trains, 1 truck, 1355.0ms\n",
            "Speed: 15.4ms preprocess, 1355.0ms inference, 3.3ms postprocess per image at shape (1, 3, 736, 1280)\n",
            "\n"
          ]
        },
        {
          "output_type": "stream",
          "name": "stderr",
          "text": [
            "SupervisionWarnings: annotate is deprecated: `BoxAnnotator` is deprecated and will be removed in `supervision-0.22.0`. Use `BoundingBoxAnnotator` and `LabelAnnotator` instead\n"
          ]
        },
        {
          "output_type": "stream",
          "name": "stdout",
          "text": [
            "0: 736x1280 4 cars, 2 trains, 1 truck, 1709.3ms\n",
            "Speed: 13.6ms preprocess, 1709.3ms inference, 3.6ms postprocess per image at shape (1, 3, 736, 1280)\n",
            "\n"
          ]
        },
        {
          "output_type": "stream",
          "name": "stderr",
          "text": [
            "SupervisionWarnings: annotate is deprecated: `BoxAnnotator` is deprecated and will be removed in `supervision-0.22.0`. Use `BoundingBoxAnnotator` and `LabelAnnotator` instead\n"
          ]
        },
        {
          "output_type": "stream",
          "name": "stdout",
          "text": [
            "0: 736x1280 3 cars, 2 trains, 1 truck, 2035.4ms\n",
            "Speed: 22.5ms preprocess, 2035.4ms inference, 4.4ms postprocess per image at shape (1, 3, 736, 1280)\n",
            "\n"
          ]
        },
        {
          "output_type": "stream",
          "name": "stderr",
          "text": [
            "SupervisionWarnings: annotate is deprecated: `BoxAnnotator` is deprecated and will be removed in `supervision-0.22.0`. Use `BoundingBoxAnnotator` and `LabelAnnotator` instead\n"
          ]
        },
        {
          "output_type": "stream",
          "name": "stdout",
          "text": [
            "0: 736x1280 3 cars, 2 trains, 1 truck, 1480.4ms\n",
            "Speed: 18.6ms preprocess, 1480.4ms inference, 3.1ms postprocess per image at shape (1, 3, 736, 1280)\n",
            "\n"
          ]
        },
        {
          "output_type": "stream",
          "name": "stderr",
          "text": [
            "SupervisionWarnings: annotate is deprecated: `BoxAnnotator` is deprecated and will be removed in `supervision-0.22.0`. Use `BoundingBoxAnnotator` and `LabelAnnotator` instead\n"
          ]
        },
        {
          "output_type": "stream",
          "name": "stdout",
          "text": [
            "0: 736x1280 2 cars, 2 trains, 1 truck, 1265.0ms\n",
            "Speed: 14.8ms preprocess, 1265.0ms inference, 2.5ms postprocess per image at shape (1, 3, 736, 1280)\n",
            "\n"
          ]
        },
        {
          "output_type": "stream",
          "name": "stderr",
          "text": [
            "SupervisionWarnings: annotate is deprecated: `BoxAnnotator` is deprecated and will be removed in `supervision-0.22.0`. Use `BoundingBoxAnnotator` and `LabelAnnotator` instead\n"
          ]
        },
        {
          "output_type": "stream",
          "name": "stdout",
          "text": [
            "0: 736x1280 2 cars, 2 trains, 1 truck, 1263.4ms\n",
            "Speed: 12.8ms preprocess, 1263.4ms inference, 2.6ms postprocess per image at shape (1, 3, 736, 1280)\n",
            "\n"
          ]
        },
        {
          "output_type": "stream",
          "name": "stderr",
          "text": [
            "SupervisionWarnings: annotate is deprecated: `BoxAnnotator` is deprecated and will be removed in `supervision-0.22.0`. Use `BoundingBoxAnnotator` and `LabelAnnotator` instead\n"
          ]
        },
        {
          "output_type": "stream",
          "name": "stdout",
          "text": [
            "0: 736x1280 4 cars, 2 trains, 1 truck, 1222.7ms\n",
            "Speed: 13.0ms preprocess, 1222.7ms inference, 2.4ms postprocess per image at shape (1, 3, 736, 1280)\n",
            "\n"
          ]
        },
        {
          "output_type": "stream",
          "name": "stderr",
          "text": [
            "SupervisionWarnings: annotate is deprecated: `BoxAnnotator` is deprecated and will be removed in `supervision-0.22.0`. Use `BoundingBoxAnnotator` and `LabelAnnotator` instead\n"
          ]
        },
        {
          "output_type": "stream",
          "name": "stdout",
          "text": [
            "0: 736x1280 3 cars, 2 trains, 1 truck, 1289.2ms\n",
            "Speed: 14.3ms preprocess, 1289.2ms inference, 3.1ms postprocess per image at shape (1, 3, 736, 1280)\n",
            "\n"
          ]
        },
        {
          "output_type": "stream",
          "name": "stderr",
          "text": [
            "SupervisionWarnings: annotate is deprecated: `BoxAnnotator` is deprecated and will be removed in `supervision-0.22.0`. Use `BoundingBoxAnnotator` and `LabelAnnotator` instead\n"
          ]
        },
        {
          "output_type": "stream",
          "name": "stdout",
          "text": [
            "0: 736x1280 2 cars, 2 trains, 1 truck, 1341.9ms\n",
            "Speed: 14.5ms preprocess, 1341.9ms inference, 2.5ms postprocess per image at shape (1, 3, 736, 1280)\n",
            "\n"
          ]
        },
        {
          "output_type": "stream",
          "name": "stderr",
          "text": [
            "SupervisionWarnings: annotate is deprecated: `BoxAnnotator` is deprecated and will be removed in `supervision-0.22.0`. Use `BoundingBoxAnnotator` and `LabelAnnotator` instead\n"
          ]
        },
        {
          "output_type": "stream",
          "name": "stdout",
          "text": [
            "0: 736x1280 2 cars, 1 train, 1 truck, 1207.7ms\n",
            "Speed: 13.8ms preprocess, 1207.7ms inference, 2.5ms postprocess per image at shape (1, 3, 736, 1280)\n",
            "\n"
          ]
        },
        {
          "output_type": "stream",
          "name": "stderr",
          "text": [
            "SupervisionWarnings: annotate is deprecated: `BoxAnnotator` is deprecated and will be removed in `supervision-0.22.0`. Use `BoundingBoxAnnotator` and `LabelAnnotator` instead\n"
          ]
        },
        {
          "output_type": "stream",
          "name": "stdout",
          "text": [
            "0: 736x1280 2 cars, 1 train, 1 truck, 1752.0ms\n",
            "Speed: 13.0ms preprocess, 1752.0ms inference, 3.8ms postprocess per image at shape (1, 3, 736, 1280)\n",
            "\n"
          ]
        },
        {
          "output_type": "stream",
          "name": "stderr",
          "text": [
            "SupervisionWarnings: annotate is deprecated: `BoxAnnotator` is deprecated and will be removed in `supervision-0.22.0`. Use `BoundingBoxAnnotator` and `LabelAnnotator` instead\n"
          ]
        },
        {
          "output_type": "stream",
          "name": "stdout",
          "text": [
            "0: 736x1280 2 cars, 1 train, 1 truck, 2034.9ms\n",
            "Speed: 43.6ms preprocess, 2034.9ms inference, 3.9ms postprocess per image at shape (1, 3, 736, 1280)\n",
            "\n"
          ]
        },
        {
          "output_type": "stream",
          "name": "stderr",
          "text": [
            "SupervisionWarnings: annotate is deprecated: `BoxAnnotator` is deprecated and will be removed in `supervision-0.22.0`. Use `BoundingBoxAnnotator` and `LabelAnnotator` instead\n"
          ]
        },
        {
          "output_type": "stream",
          "name": "stdout",
          "text": [
            "0: 736x1280 2 cars, 1 train, 1 truck, 1355.1ms\n",
            "Speed: 26.7ms preprocess, 1355.1ms inference, 3.5ms postprocess per image at shape (1, 3, 736, 1280)\n",
            "\n"
          ]
        },
        {
          "output_type": "stream",
          "name": "stderr",
          "text": [
            "SupervisionWarnings: annotate is deprecated: `BoxAnnotator` is deprecated and will be removed in `supervision-0.22.0`. Use `BoundingBoxAnnotator` and `LabelAnnotator` instead\n"
          ]
        },
        {
          "output_type": "stream",
          "name": "stdout",
          "text": [
            "0: 736x1280 2 cars, 1 train, 1 truck, 1289.3ms\n",
            "Speed: 15.7ms preprocess, 1289.3ms inference, 2.4ms postprocess per image at shape (1, 3, 736, 1280)\n",
            "\n"
          ]
        },
        {
          "output_type": "stream",
          "name": "stderr",
          "text": [
            "SupervisionWarnings: annotate is deprecated: `BoxAnnotator` is deprecated and will be removed in `supervision-0.22.0`. Use `BoundingBoxAnnotator` and `LabelAnnotator` instead\n"
          ]
        },
        {
          "output_type": "stream",
          "name": "stdout",
          "text": [
            "0: 736x1280 2 cars, 1 train, 1 truck, 1329.4ms\n",
            "Speed: 17.4ms preprocess, 1329.4ms inference, 3.2ms postprocess per image at shape (1, 3, 736, 1280)\n",
            "\n"
          ]
        },
        {
          "output_type": "stream",
          "name": "stderr",
          "text": [
            "SupervisionWarnings: annotate is deprecated: `BoxAnnotator` is deprecated and will be removed in `supervision-0.22.0`. Use `BoundingBoxAnnotator` and `LabelAnnotator` instead\n"
          ]
        },
        {
          "output_type": "stream",
          "name": "stdout",
          "text": [
            "0: 736x1280 2 cars, 1 train, 1 truck, 1339.3ms\n",
            "Speed: 16.3ms preprocess, 1339.3ms inference, 3.1ms postprocess per image at shape (1, 3, 736, 1280)\n",
            "\n"
          ]
        },
        {
          "output_type": "stream",
          "name": "stderr",
          "text": [
            "SupervisionWarnings: annotate is deprecated: `BoxAnnotator` is deprecated and will be removed in `supervision-0.22.0`. Use `BoundingBoxAnnotator` and `LabelAnnotator` instead\n"
          ]
        },
        {
          "output_type": "stream",
          "name": "stdout",
          "text": [
            "0: 736x1280 3 cars, 1 train, 1 truck, 1456.1ms\n",
            "Speed: 20.2ms preprocess, 1456.1ms inference, 4.5ms postprocess per image at shape (1, 3, 736, 1280)\n",
            "\n"
          ]
        },
        {
          "output_type": "stream",
          "name": "stderr",
          "text": [
            "SupervisionWarnings: annotate is deprecated: `BoxAnnotator` is deprecated and will be removed in `supervision-0.22.0`. Use `BoundingBoxAnnotator` and `LabelAnnotator` instead\n"
          ]
        },
        {
          "output_type": "stream",
          "name": "stdout",
          "text": [
            "0: 736x1280 3 cars, 1 train, 1 truck, 2037.6ms\n",
            "Speed: 17.4ms preprocess, 2037.6ms inference, 3.6ms postprocess per image at shape (1, 3, 736, 1280)\n",
            "\n"
          ]
        },
        {
          "output_type": "stream",
          "name": "stderr",
          "text": [
            "SupervisionWarnings: annotate is deprecated: `BoxAnnotator` is deprecated and will be removed in `supervision-0.22.0`. Use `BoundingBoxAnnotator` and `LabelAnnotator` instead\n"
          ]
        },
        {
          "output_type": "stream",
          "name": "stdout",
          "text": [
            "0: 736x1280 2 cars, 1 train, 1 truck, 2127.8ms\n",
            "Speed: 17.5ms preprocess, 2127.8ms inference, 4.8ms postprocess per image at shape (1, 3, 736, 1280)\n",
            "\n"
          ]
        },
        {
          "output_type": "stream",
          "name": "stderr",
          "text": [
            "SupervisionWarnings: annotate is deprecated: `BoxAnnotator` is deprecated and will be removed in `supervision-0.22.0`. Use `BoundingBoxAnnotator` and `LabelAnnotator` instead\n"
          ]
        },
        {
          "output_type": "stream",
          "name": "stdout",
          "text": [
            "0: 736x1280 3 cars, 1 train, 1 truck, 1847.4ms\n",
            "Speed: 28.8ms preprocess, 1847.4ms inference, 3.1ms postprocess per image at shape (1, 3, 736, 1280)\n",
            "\n"
          ]
        },
        {
          "output_type": "stream",
          "name": "stderr",
          "text": [
            "SupervisionWarnings: annotate is deprecated: `BoxAnnotator` is deprecated and will be removed in `supervision-0.22.0`. Use `BoundingBoxAnnotator` and `LabelAnnotator` instead\n"
          ]
        },
        {
          "output_type": "stream",
          "name": "stdout",
          "text": [
            "0: 736x1280 2 cars, 1 train, 1 truck, 1425.4ms\n",
            "Speed: 19.4ms preprocess, 1425.4ms inference, 3.2ms postprocess per image at shape (1, 3, 736, 1280)\n",
            "\n"
          ]
        },
        {
          "output_type": "stream",
          "name": "stderr",
          "text": [
            "SupervisionWarnings: annotate is deprecated: `BoxAnnotator` is deprecated and will be removed in `supervision-0.22.0`. Use `BoundingBoxAnnotator` and `LabelAnnotator` instead\n"
          ]
        },
        {
          "output_type": "stream",
          "name": "stdout",
          "text": [
            "0: 736x1280 2 cars, 1 train, 1 truck, 1327.9ms\n",
            "Speed: 19.5ms preprocess, 1327.9ms inference, 3.2ms postprocess per image at shape (1, 3, 736, 1280)\n",
            "\n"
          ]
        },
        {
          "output_type": "stream",
          "name": "stderr",
          "text": [
            "SupervisionWarnings: annotate is deprecated: `BoxAnnotator` is deprecated and will be removed in `supervision-0.22.0`. Use `BoundingBoxAnnotator` and `LabelAnnotator` instead\n"
          ]
        },
        {
          "output_type": "stream",
          "name": "stdout",
          "text": [
            "0: 736x1280 2 cars, 1 train, 1 truck, 1362.0ms\n",
            "Speed: 24.0ms preprocess, 1362.0ms inference, 3.1ms postprocess per image at shape (1, 3, 736, 1280)\n",
            "\n"
          ]
        },
        {
          "output_type": "stream",
          "name": "stderr",
          "text": [
            "SupervisionWarnings: annotate is deprecated: `BoxAnnotator` is deprecated and will be removed in `supervision-0.22.0`. Use `BoundingBoxAnnotator` and `LabelAnnotator` instead\n"
          ]
        },
        {
          "output_type": "stream",
          "name": "stdout",
          "text": [
            "0: 736x1280 3 cars, 1 train, 1 truck, 1337.9ms\n",
            "Speed: 15.4ms preprocess, 1337.9ms inference, 3.2ms postprocess per image at shape (1, 3, 736, 1280)\n",
            "\n"
          ]
        },
        {
          "output_type": "stream",
          "name": "stderr",
          "text": [
            "SupervisionWarnings: annotate is deprecated: `BoxAnnotator` is deprecated and will be removed in `supervision-0.22.0`. Use `BoundingBoxAnnotator` and `LabelAnnotator` instead\n"
          ]
        },
        {
          "output_type": "stream",
          "name": "stdout",
          "text": [
            "0: 736x1280 3 cars, 1 train, 1 truck, 1341.3ms\n",
            "Speed: 27.7ms preprocess, 1341.3ms inference, 2.5ms postprocess per image at shape (1, 3, 736, 1280)\n",
            "\n"
          ]
        },
        {
          "output_type": "stream",
          "name": "stderr",
          "text": [
            "SupervisionWarnings: annotate is deprecated: `BoxAnnotator` is deprecated and will be removed in `supervision-0.22.0`. Use `BoundingBoxAnnotator` and `LabelAnnotator` instead\n"
          ]
        },
        {
          "output_type": "stream",
          "name": "stdout",
          "text": [
            "0: 736x1280 2 cars, 1 train, 1 truck, 1232.4ms\n",
            "Speed: 20.6ms preprocess, 1232.4ms inference, 2.2ms postprocess per image at shape (1, 3, 736, 1280)\n",
            "\n"
          ]
        },
        {
          "output_type": "stream",
          "name": "stderr",
          "text": [
            "SupervisionWarnings: annotate is deprecated: `BoxAnnotator` is deprecated and will be removed in `supervision-0.22.0`. Use `BoundingBoxAnnotator` and `LabelAnnotator` instead\n"
          ]
        },
        {
          "output_type": "stream",
          "name": "stdout",
          "text": [
            "0: 736x1280 2 cars, 1 train, 1 truck, 1326.4ms\n",
            "Speed: 15.4ms preprocess, 1326.4ms inference, 3.1ms postprocess per image at shape (1, 3, 736, 1280)\n",
            "\n"
          ]
        },
        {
          "output_type": "stream",
          "name": "stderr",
          "text": [
            "SupervisionWarnings: annotate is deprecated: `BoxAnnotator` is deprecated and will be removed in `supervision-0.22.0`. Use `BoundingBoxAnnotator` and `LabelAnnotator` instead\n"
          ]
        },
        {
          "output_type": "stream",
          "name": "stdout",
          "text": [
            "0: 736x1280 3 cars, 1 train, 1 truck, 1911.6ms\n",
            "Speed: 23.3ms preprocess, 1911.6ms inference, 3.4ms postprocess per image at shape (1, 3, 736, 1280)\n",
            "\n"
          ]
        },
        {
          "output_type": "stream",
          "name": "stderr",
          "text": [
            "SupervisionWarnings: annotate is deprecated: `BoxAnnotator` is deprecated and will be removed in `supervision-0.22.0`. Use `BoundingBoxAnnotator` and `LabelAnnotator` instead\n"
          ]
        },
        {
          "output_type": "stream",
          "name": "stdout",
          "text": [
            "0: 736x1280 3 cars, 1 truck, 1913.3ms\n",
            "Speed: 26.1ms preprocess, 1913.3ms inference, 2.5ms postprocess per image at shape (1, 3, 736, 1280)\n",
            "\n"
          ]
        },
        {
          "output_type": "stream",
          "name": "stderr",
          "text": [
            "SupervisionWarnings: annotate is deprecated: `BoxAnnotator` is deprecated and will be removed in `supervision-0.22.0`. Use `BoundingBoxAnnotator` and `LabelAnnotator` instead\n"
          ]
        },
        {
          "output_type": "stream",
          "name": "stdout",
          "text": [
            "0: 736x1280 2 cars, 1 truck, 1282.3ms\n",
            "Speed: 17.5ms preprocess, 1282.3ms inference, 4.0ms postprocess per image at shape (1, 3, 736, 1280)\n",
            "\n"
          ]
        },
        {
          "output_type": "stream",
          "name": "stderr",
          "text": [
            "SupervisionWarnings: annotate is deprecated: `BoxAnnotator` is deprecated and will be removed in `supervision-0.22.0`. Use `BoundingBoxAnnotator` and `LabelAnnotator` instead\n"
          ]
        },
        {
          "output_type": "stream",
          "name": "stdout",
          "text": [
            "0: 736x1280 2 cars, 1 truck, 1333.9ms\n",
            "Speed: 15.4ms preprocess, 1333.9ms inference, 2.5ms postprocess per image at shape (1, 3, 736, 1280)\n",
            "\n"
          ]
        },
        {
          "output_type": "stream",
          "name": "stderr",
          "text": [
            "SupervisionWarnings: annotate is deprecated: `BoxAnnotator` is deprecated and will be removed in `supervision-0.22.0`. Use `BoundingBoxAnnotator` and `LabelAnnotator` instead\n"
          ]
        },
        {
          "output_type": "stream",
          "name": "stdout",
          "text": [
            "0: 736x1280 2 cars, 1 truck, 1282.1ms\n",
            "Speed: 13.0ms preprocess, 1282.1ms inference, 2.4ms postprocess per image at shape (1, 3, 736, 1280)\n",
            "\n"
          ]
        },
        {
          "output_type": "stream",
          "name": "stderr",
          "text": [
            "SupervisionWarnings: annotate is deprecated: `BoxAnnotator` is deprecated and will be removed in `supervision-0.22.0`. Use `BoundingBoxAnnotator` and `LabelAnnotator` instead\n"
          ]
        },
        {
          "output_type": "stream",
          "name": "stdout",
          "text": [
            "0: 736x1280 2 cars, 1 truck, 1281.3ms\n",
            "Speed: 14.4ms preprocess, 1281.3ms inference, 3.2ms postprocess per image at shape (1, 3, 736, 1280)\n",
            "\n"
          ]
        },
        {
          "output_type": "stream",
          "name": "stderr",
          "text": [
            "SupervisionWarnings: annotate is deprecated: `BoxAnnotator` is deprecated and will be removed in `supervision-0.22.0`. Use `BoundingBoxAnnotator` and `LabelAnnotator` instead\n"
          ]
        },
        {
          "output_type": "stream",
          "name": "stdout",
          "text": [
            "0: 736x1280 3 cars, 1 truck, 1333.0ms\n",
            "Speed: 15.4ms preprocess, 1333.0ms inference, 3.0ms postprocess per image at shape (1, 3, 736, 1280)\n",
            "\n"
          ]
        },
        {
          "output_type": "stream",
          "name": "stderr",
          "text": [
            "SupervisionWarnings: annotate is deprecated: `BoxAnnotator` is deprecated and will be removed in `supervision-0.22.0`. Use `BoundingBoxAnnotator` and `LabelAnnotator` instead\n"
          ]
        },
        {
          "output_type": "stream",
          "name": "stdout",
          "text": [
            "0: 736x1280 2 cars, 1 truck, 1339.5ms\n",
            "Speed: 14.9ms preprocess, 1339.5ms inference, 3.0ms postprocess per image at shape (1, 3, 736, 1280)\n",
            "\n"
          ]
        },
        {
          "output_type": "stream",
          "name": "stderr",
          "text": [
            "SupervisionWarnings: annotate is deprecated: `BoxAnnotator` is deprecated and will be removed in `supervision-0.22.0`. Use `BoundingBoxAnnotator` and `LabelAnnotator` instead\n"
          ]
        },
        {
          "output_type": "stream",
          "name": "stdout",
          "text": [
            "0: 736x1280 2 cars, 1 train, 1 truck, 1290.5ms\n",
            "Speed: 13.0ms preprocess, 1290.5ms inference, 4.0ms postprocess per image at shape (1, 3, 736, 1280)\n",
            "\n"
          ]
        },
        {
          "output_type": "stream",
          "name": "stderr",
          "text": [
            "SupervisionWarnings: annotate is deprecated: `BoxAnnotator` is deprecated and will be removed in `supervision-0.22.0`. Use `BoundingBoxAnnotator` and `LabelAnnotator` instead\n"
          ]
        },
        {
          "output_type": "stream",
          "name": "stdout",
          "text": [
            "0: 736x1280 2 cars, 1 truck, 2026.7ms\n",
            "Speed: 13.4ms preprocess, 2026.7ms inference, 4.3ms postprocess per image at shape (1, 3, 736, 1280)\n",
            "\n"
          ]
        },
        {
          "output_type": "stream",
          "name": "stderr",
          "text": [
            "SupervisionWarnings: annotate is deprecated: `BoxAnnotator` is deprecated and will be removed in `supervision-0.22.0`. Use `BoundingBoxAnnotator` and `LabelAnnotator` instead\n"
          ]
        },
        {
          "output_type": "stream",
          "name": "stdout",
          "text": [
            "0: 736x1280 2 cars, 1 truck, 1723.6ms\n",
            "Speed: 23.5ms preprocess, 1723.6ms inference, 2.5ms postprocess per image at shape (1, 3, 736, 1280)\n",
            "\n"
          ]
        },
        {
          "output_type": "stream",
          "name": "stderr",
          "text": [
            "SupervisionWarnings: annotate is deprecated: `BoxAnnotator` is deprecated and will be removed in `supervision-0.22.0`. Use `BoundingBoxAnnotator` and `LabelAnnotator` instead\n"
          ]
        },
        {
          "output_type": "stream",
          "name": "stdout",
          "text": [
            "0: 736x1280 2 cars, 1 truck, 1305.3ms\n",
            "Speed: 13.3ms preprocess, 1305.3ms inference, 3.6ms postprocess per image at shape (1, 3, 736, 1280)\n",
            "\n"
          ]
        },
        {
          "output_type": "stream",
          "name": "stderr",
          "text": [
            "SupervisionWarnings: annotate is deprecated: `BoxAnnotator` is deprecated and will be removed in `supervision-0.22.0`. Use `BoundingBoxAnnotator` and `LabelAnnotator` instead\n"
          ]
        },
        {
          "output_type": "stream",
          "name": "stdout",
          "text": [
            "0: 736x1280 2 cars, 1 truck, 1353.0ms\n",
            "Speed: 18.7ms preprocess, 1353.0ms inference, 3.1ms postprocess per image at shape (1, 3, 736, 1280)\n",
            "\n"
          ]
        },
        {
          "output_type": "stream",
          "name": "stderr",
          "text": [
            "SupervisionWarnings: annotate is deprecated: `BoxAnnotator` is deprecated and will be removed in `supervision-0.22.0`. Use `BoundingBoxAnnotator` and `LabelAnnotator` instead\n"
          ]
        },
        {
          "output_type": "stream",
          "name": "stdout",
          "text": [
            "0: 736x1280 2 cars, 1 truck, 1310.8ms\n",
            "Speed: 13.1ms preprocess, 1310.8ms inference, 2.4ms postprocess per image at shape (1, 3, 736, 1280)\n",
            "\n"
          ]
        },
        {
          "output_type": "stream",
          "name": "stderr",
          "text": [
            "SupervisionWarnings: annotate is deprecated: `BoxAnnotator` is deprecated and will be removed in `supervision-0.22.0`. Use `BoundingBoxAnnotator` and `LabelAnnotator` instead\n"
          ]
        },
        {
          "output_type": "stream",
          "name": "stdout",
          "text": [
            "0: 736x1280 2 cars, 1 truck, 1258.6ms\n",
            "Speed: 12.7ms preprocess, 1258.6ms inference, 3.2ms postprocess per image at shape (1, 3, 736, 1280)\n",
            "\n"
          ]
        },
        {
          "output_type": "stream",
          "name": "stderr",
          "text": [
            "SupervisionWarnings: annotate is deprecated: `BoxAnnotator` is deprecated and will be removed in `supervision-0.22.0`. Use `BoundingBoxAnnotator` and `LabelAnnotator` instead\n"
          ]
        },
        {
          "output_type": "stream",
          "name": "stdout",
          "text": [
            "0: 736x1280 2 cars, 1 truck, 1317.9ms\n",
            "Speed: 14.6ms preprocess, 1317.9ms inference, 2.4ms postprocess per image at shape (1, 3, 736, 1280)\n",
            "\n"
          ]
        },
        {
          "output_type": "stream",
          "name": "stderr",
          "text": [
            "SupervisionWarnings: annotate is deprecated: `BoxAnnotator` is deprecated and will be removed in `supervision-0.22.0`. Use `BoundingBoxAnnotator` and `LabelAnnotator` instead\n"
          ]
        },
        {
          "output_type": "stream",
          "name": "stdout",
          "text": [
            "0: 736x1280 2 cars, 1 truck, 1210.7ms\n",
            "Speed: 13.1ms preprocess, 1210.7ms inference, 2.4ms postprocess per image at shape (1, 3, 736, 1280)\n",
            "\n"
          ]
        },
        {
          "output_type": "stream",
          "name": "stderr",
          "text": [
            "SupervisionWarnings: annotate is deprecated: `BoxAnnotator` is deprecated and will be removed in `supervision-0.22.0`. Use `BoundingBoxAnnotator` and `LabelAnnotator` instead\n"
          ]
        },
        {
          "output_type": "stream",
          "name": "stdout",
          "text": [
            "0: 736x1280 2 cars, 1 truck, 1473.5ms\n",
            "Speed: 13.0ms preprocess, 1473.5ms inference, 4.0ms postprocess per image at shape (1, 3, 736, 1280)\n",
            "\n"
          ]
        },
        {
          "output_type": "stream",
          "name": "stderr",
          "text": [
            "SupervisionWarnings: annotate is deprecated: `BoxAnnotator` is deprecated and will be removed in `supervision-0.22.0`. Use `BoundingBoxAnnotator` and `LabelAnnotator` instead\n"
          ]
        },
        {
          "output_type": "stream",
          "name": "stdout",
          "text": [
            "0: 736x1280 2 cars, 1 truck, 1913.4ms\n",
            "Speed: 18.4ms preprocess, 1913.4ms inference, 3.5ms postprocess per image at shape (1, 3, 736, 1280)\n",
            "\n"
          ]
        },
        {
          "output_type": "stream",
          "name": "stderr",
          "text": [
            "SupervisionWarnings: annotate is deprecated: `BoxAnnotator` is deprecated and will be removed in `supervision-0.22.0`. Use `BoundingBoxAnnotator` and `LabelAnnotator` instead\n"
          ]
        },
        {
          "output_type": "stream",
          "name": "stdout",
          "text": [
            "0: 736x1280 2 cars, 1 truck, 1632.4ms\n",
            "Speed: 32.1ms preprocess, 1632.4ms inference, 2.5ms postprocess per image at shape (1, 3, 736, 1280)\n",
            "\n"
          ]
        },
        {
          "output_type": "stream",
          "name": "stderr",
          "text": [
            "SupervisionWarnings: annotate is deprecated: `BoxAnnotator` is deprecated and will be removed in `supervision-0.22.0`. Use `BoundingBoxAnnotator` and `LabelAnnotator` instead\n"
          ]
        },
        {
          "output_type": "stream",
          "name": "stdout",
          "text": [
            "0: 736x1280 2 cars, 1 truck, 1355.5ms\n",
            "Speed: 13.9ms preprocess, 1355.5ms inference, 3.4ms postprocess per image at shape (1, 3, 736, 1280)\n",
            "\n"
          ]
        },
        {
          "output_type": "stream",
          "name": "stderr",
          "text": [
            "SupervisionWarnings: annotate is deprecated: `BoxAnnotator` is deprecated and will be removed in `supervision-0.22.0`. Use `BoundingBoxAnnotator` and `LabelAnnotator` instead\n"
          ]
        },
        {
          "output_type": "stream",
          "name": "stdout",
          "text": [
            "0: 736x1280 2 cars, 1 truck, 1380.7ms\n",
            "Speed: 14.7ms preprocess, 1380.7ms inference, 3.2ms postprocess per image at shape (1, 3, 736, 1280)\n",
            "\n"
          ]
        },
        {
          "output_type": "stream",
          "name": "stderr",
          "text": [
            "SupervisionWarnings: annotate is deprecated: `BoxAnnotator` is deprecated and will be removed in `supervision-0.22.0`. Use `BoundingBoxAnnotator` and `LabelAnnotator` instead\n"
          ]
        },
        {
          "output_type": "stream",
          "name": "stdout",
          "text": [
            "0: 736x1280 2 cars, 1 truck, 1348.7ms\n",
            "Speed: 19.5ms preprocess, 1348.7ms inference, 3.3ms postprocess per image at shape (1, 3, 736, 1280)\n",
            "\n"
          ]
        },
        {
          "output_type": "stream",
          "name": "stderr",
          "text": [
            "SupervisionWarnings: annotate is deprecated: `BoxAnnotator` is deprecated and will be removed in `supervision-0.22.0`. Use `BoundingBoxAnnotator` and `LabelAnnotator` instead\n"
          ]
        },
        {
          "output_type": "stream",
          "name": "stdout",
          "text": [
            "0: 736x1280 2 cars, 1 truck, 1338.8ms\n",
            "Speed: 23.6ms preprocess, 1338.8ms inference, 2.7ms postprocess per image at shape (1, 3, 736, 1280)\n",
            "\n"
          ]
        },
        {
          "output_type": "stream",
          "name": "stderr",
          "text": [
            "SupervisionWarnings: annotate is deprecated: `BoxAnnotator` is deprecated and will be removed in `supervision-0.22.0`. Use `BoundingBoxAnnotator` and `LabelAnnotator` instead\n"
          ]
        },
        {
          "output_type": "stream",
          "name": "stdout",
          "text": [
            "0: 736x1280 2 cars, 1 truck, 1289.2ms\n",
            "Speed: 14.6ms preprocess, 1289.2ms inference, 3.2ms postprocess per image at shape (1, 3, 736, 1280)\n",
            "\n"
          ]
        },
        {
          "output_type": "stream",
          "name": "stderr",
          "text": [
            "SupervisionWarnings: annotate is deprecated: `BoxAnnotator` is deprecated and will be removed in `supervision-0.22.0`. Use `BoundingBoxAnnotator` and `LabelAnnotator` instead\n"
          ]
        },
        {
          "output_type": "stream",
          "name": "stdout",
          "text": [
            "0: 736x1280 2 cars, 1 truck, 1236.8ms\n",
            "Speed: 25.8ms preprocess, 1236.8ms inference, 2.2ms postprocess per image at shape (1, 3, 736, 1280)\n",
            "\n"
          ]
        },
        {
          "output_type": "stream",
          "name": "stderr",
          "text": [
            "SupervisionWarnings: annotate is deprecated: `BoxAnnotator` is deprecated and will be removed in `supervision-0.22.0`. Use `BoundingBoxAnnotator` and `LabelAnnotator` instead\n"
          ]
        },
        {
          "output_type": "stream",
          "name": "stdout",
          "text": [
            "0: 736x1280 2 cars, 1 truck, 1735.7ms\n",
            "Speed: 13.1ms preprocess, 1735.7ms inference, 4.3ms postprocess per image at shape (1, 3, 736, 1280)\n",
            "\n"
          ]
        },
        {
          "output_type": "stream",
          "name": "stderr",
          "text": [
            "SupervisionWarnings: annotate is deprecated: `BoxAnnotator` is deprecated and will be removed in `supervision-0.22.0`. Use `BoundingBoxAnnotator` and `LabelAnnotator` instead\n"
          ]
        },
        {
          "output_type": "stream",
          "name": "stdout",
          "text": [
            "0: 736x1280 2 cars, 1 truck, 2070.1ms\n",
            "Speed: 19.5ms preprocess, 2070.1ms inference, 3.4ms postprocess per image at shape (1, 3, 736, 1280)\n",
            "\n"
          ]
        },
        {
          "output_type": "stream",
          "name": "stderr",
          "text": [
            "SupervisionWarnings: annotate is deprecated: `BoxAnnotator` is deprecated and will be removed in `supervision-0.22.0`. Use `BoundingBoxAnnotator` and `LabelAnnotator` instead\n"
          ]
        },
        {
          "output_type": "stream",
          "name": "stdout",
          "text": [
            "0: 736x1280 2 cars, 1 truck, 1341.4ms\n",
            "Speed: 34.6ms preprocess, 1341.4ms inference, 3.2ms postprocess per image at shape (1, 3, 736, 1280)\n",
            "\n"
          ]
        },
        {
          "output_type": "stream",
          "name": "stderr",
          "text": [
            "SupervisionWarnings: annotate is deprecated: `BoxAnnotator` is deprecated and will be removed in `supervision-0.22.0`. Use `BoundingBoxAnnotator` and `LabelAnnotator` instead\n"
          ]
        },
        {
          "output_type": "stream",
          "name": "stdout",
          "text": [
            "0: 736x1280 2 cars, 1 truck, 1222.8ms\n",
            "Speed: 14.5ms preprocess, 1222.8ms inference, 2.7ms postprocess per image at shape (1, 3, 736, 1280)\n",
            "\n"
          ]
        },
        {
          "output_type": "stream",
          "name": "stderr",
          "text": [
            "SupervisionWarnings: annotate is deprecated: `BoxAnnotator` is deprecated and will be removed in `supervision-0.22.0`. Use `BoundingBoxAnnotator` and `LabelAnnotator` instead\n"
          ]
        },
        {
          "output_type": "stream",
          "name": "stdout",
          "text": [
            "0: 736x1280 2 cars, 1 truck, 1367.8ms\n",
            "Speed: 16.4ms preprocess, 1367.8ms inference, 3.3ms postprocess per image at shape (1, 3, 736, 1280)\n",
            "\n"
          ]
        },
        {
          "output_type": "stream",
          "name": "stderr",
          "text": [
            "SupervisionWarnings: annotate is deprecated: `BoxAnnotator` is deprecated and will be removed in `supervision-0.22.0`. Use `BoundingBoxAnnotator` and `LabelAnnotator` instead\n"
          ]
        },
        {
          "output_type": "stream",
          "name": "stdout",
          "text": [
            "0: 736x1280 2 cars, 1 truck, 1343.6ms\n",
            "Speed: 14.7ms preprocess, 1343.6ms inference, 2.9ms postprocess per image at shape (1, 3, 736, 1280)\n",
            "\n"
          ]
        },
        {
          "output_type": "stream",
          "name": "stderr",
          "text": [
            "SupervisionWarnings: annotate is deprecated: `BoxAnnotator` is deprecated and will be removed in `supervision-0.22.0`. Use `BoundingBoxAnnotator` and `LabelAnnotator` instead\n"
          ]
        },
        {
          "output_type": "stream",
          "name": "stdout",
          "text": [
            "0: 736x1280 2 cars, 1 truck, 1303.9ms\n",
            "Speed: 14.7ms preprocess, 1303.9ms inference, 3.1ms postprocess per image at shape (1, 3, 736, 1280)\n",
            "\n"
          ]
        },
        {
          "output_type": "stream",
          "name": "stderr",
          "text": [
            "SupervisionWarnings: annotate is deprecated: `BoxAnnotator` is deprecated and will be removed in `supervision-0.22.0`. Use `BoundingBoxAnnotator` and `LabelAnnotator` instead\n"
          ]
        },
        {
          "output_type": "stream",
          "name": "stdout",
          "text": [
            "0: 736x1280 2 cars, 1 truck, 1289.0ms\n",
            "Speed: 25.3ms preprocess, 1289.0ms inference, 3.2ms postprocess per image at shape (1, 3, 736, 1280)\n",
            "\n"
          ]
        },
        {
          "output_type": "stream",
          "name": "stderr",
          "text": [
            "SupervisionWarnings: annotate is deprecated: `BoxAnnotator` is deprecated and will be removed in `supervision-0.22.0`. Use `BoundingBoxAnnotator` and `LabelAnnotator` instead\n"
          ]
        },
        {
          "output_type": "stream",
          "name": "stdout",
          "text": [
            "0: 736x1280 2 cars, 1 truck, 1328.9ms\n",
            "Speed: 14.8ms preprocess, 1328.9ms inference, 4.1ms postprocess per image at shape (1, 3, 736, 1280)\n",
            "\n"
          ]
        },
        {
          "output_type": "stream",
          "name": "stderr",
          "text": [
            "SupervisionWarnings: annotate is deprecated: `BoxAnnotator` is deprecated and will be removed in `supervision-0.22.0`. Use `BoundingBoxAnnotator` and `LabelAnnotator` instead\n"
          ]
        },
        {
          "output_type": "stream",
          "name": "stdout",
          "text": [
            "0: 736x1280 2 cars, 1 truck, 2010.7ms\n",
            "Speed: 21.2ms preprocess, 2010.7ms inference, 3.2ms postprocess per image at shape (1, 3, 736, 1280)\n",
            "\n"
          ]
        },
        {
          "output_type": "stream",
          "name": "stderr",
          "text": [
            "SupervisionWarnings: annotate is deprecated: `BoxAnnotator` is deprecated and will be removed in `supervision-0.22.0`. Use `BoundingBoxAnnotator` and `LabelAnnotator` instead\n"
          ]
        },
        {
          "output_type": "stream",
          "name": "stdout",
          "text": [
            "0: 736x1280 2 cars, 1 truck, 1820.0ms\n",
            "Speed: 26.1ms preprocess, 1820.0ms inference, 2.4ms postprocess per image at shape (1, 3, 736, 1280)\n",
            "\n"
          ]
        },
        {
          "output_type": "stream",
          "name": "stderr",
          "text": [
            "SupervisionWarnings: annotate is deprecated: `BoxAnnotator` is deprecated and will be removed in `supervision-0.22.0`. Use `BoundingBoxAnnotator` and `LabelAnnotator` instead\n"
          ]
        },
        {
          "output_type": "stream",
          "name": "stdout",
          "text": [
            "0: 736x1280 2 cars, 1 truck, 1270.7ms\n",
            "Speed: 13.2ms preprocess, 1270.7ms inference, 3.2ms postprocess per image at shape (1, 3, 736, 1280)\n",
            "\n"
          ]
        },
        {
          "output_type": "stream",
          "name": "stderr",
          "text": [
            "SupervisionWarnings: annotate is deprecated: `BoxAnnotator` is deprecated and will be removed in `supervision-0.22.0`. Use `BoundingBoxAnnotator` and `LabelAnnotator` instead\n"
          ]
        },
        {
          "output_type": "stream",
          "name": "stdout",
          "text": [
            "0: 736x1280 2 cars, 1 truck, 1253.8ms\n",
            "Speed: 14.7ms preprocess, 1253.8ms inference, 4.4ms postprocess per image at shape (1, 3, 736, 1280)\n",
            "\n"
          ]
        },
        {
          "output_type": "stream",
          "name": "stderr",
          "text": [
            "SupervisionWarnings: annotate is deprecated: `BoxAnnotator` is deprecated and will be removed in `supervision-0.22.0`. Use `BoundingBoxAnnotator` and `LabelAnnotator` instead\n"
          ]
        },
        {
          "output_type": "stream",
          "name": "stdout",
          "text": [
            "0: 736x1280 2 cars, 1 truck, 1328.1ms\n",
            "Speed: 20.8ms preprocess, 1328.1ms inference, 2.5ms postprocess per image at shape (1, 3, 736, 1280)\n",
            "\n"
          ]
        },
        {
          "output_type": "stream",
          "name": "stderr",
          "text": [
            "SupervisionWarnings: annotate is deprecated: `BoxAnnotator` is deprecated and will be removed in `supervision-0.22.0`. Use `BoundingBoxAnnotator` and `LabelAnnotator` instead\n"
          ]
        },
        {
          "output_type": "stream",
          "name": "stdout",
          "text": [
            "0: 736x1280 2 cars, 1 truck, 1275.2ms\n",
            "Speed: 13.0ms preprocess, 1275.2ms inference, 3.6ms postprocess per image at shape (1, 3, 736, 1280)\n",
            "\n"
          ]
        },
        {
          "output_type": "stream",
          "name": "stderr",
          "text": [
            "SupervisionWarnings: annotate is deprecated: `BoxAnnotator` is deprecated and will be removed in `supervision-0.22.0`. Use `BoundingBoxAnnotator` and `LabelAnnotator` instead\n"
          ]
        },
        {
          "output_type": "stream",
          "name": "stdout",
          "text": [
            "0: 736x1280 2 cars, 1 truck, 1232.9ms\n",
            "Speed: 20.1ms preprocess, 1232.9ms inference, 3.3ms postprocess per image at shape (1, 3, 736, 1280)\n",
            "\n"
          ]
        },
        {
          "output_type": "stream",
          "name": "stderr",
          "text": [
            "SupervisionWarnings: annotate is deprecated: `BoxAnnotator` is deprecated and will be removed in `supervision-0.22.0`. Use `BoundingBoxAnnotator` and `LabelAnnotator` instead\n"
          ]
        },
        {
          "output_type": "stream",
          "name": "stdout",
          "text": [
            "0: 736x1280 2 cars, 1 truck, 1293.6ms\n",
            "Speed: 14.3ms preprocess, 1293.6ms inference, 2.3ms postprocess per image at shape (1, 3, 736, 1280)\n",
            "\n"
          ]
        },
        {
          "output_type": "stream",
          "name": "stderr",
          "text": [
            "SupervisionWarnings: annotate is deprecated: `BoxAnnotator` is deprecated and will be removed in `supervision-0.22.0`. Use `BoundingBoxAnnotator` and `LabelAnnotator` instead\n"
          ]
        },
        {
          "output_type": "stream",
          "name": "stdout",
          "text": [
            "0: 736x1280 2 cars, 1 truck, 1277.5ms\n",
            "Speed: 13.6ms preprocess, 1277.5ms inference, 2.7ms postprocess per image at shape (1, 3, 736, 1280)\n",
            "\n"
          ]
        },
        {
          "output_type": "stream",
          "name": "stderr",
          "text": [
            "SupervisionWarnings: annotate is deprecated: `BoxAnnotator` is deprecated and will be removed in `supervision-0.22.0`. Use `BoundingBoxAnnotator` and `LabelAnnotator` instead\n"
          ]
        },
        {
          "output_type": "stream",
          "name": "stdout",
          "text": [
            "0: 736x1280 2 cars, 1 truck, 1883.6ms\n",
            "Speed: 28.4ms preprocess, 1883.6ms inference, 3.4ms postprocess per image at shape (1, 3, 736, 1280)\n",
            "\n"
          ]
        },
        {
          "output_type": "stream",
          "name": "stderr",
          "text": [
            "SupervisionWarnings: annotate is deprecated: `BoxAnnotator` is deprecated and will be removed in `supervision-0.22.0`. Use `BoundingBoxAnnotator` and `LabelAnnotator` instead\n"
          ]
        },
        {
          "output_type": "stream",
          "name": "stdout",
          "text": [
            "0: 736x1280 2 cars, 1 truck, 1763.9ms\n",
            "Speed: 26.7ms preprocess, 1763.9ms inference, 3.0ms postprocess per image at shape (1, 3, 736, 1280)\n",
            "\n"
          ]
        },
        {
          "output_type": "stream",
          "name": "stderr",
          "text": [
            "SupervisionWarnings: annotate is deprecated: `BoxAnnotator` is deprecated and will be removed in `supervision-0.22.0`. Use `BoundingBoxAnnotator` and `LabelAnnotator` instead\n"
          ]
        },
        {
          "output_type": "stream",
          "name": "stdout",
          "text": [
            "0: 736x1280 2 cars, 1 truck, 1267.9ms\n",
            "Speed: 23.4ms preprocess, 1267.9ms inference, 3.3ms postprocess per image at shape (1, 3, 736, 1280)\n",
            "\n"
          ]
        },
        {
          "output_type": "stream",
          "name": "stderr",
          "text": [
            "SupervisionWarnings: annotate is deprecated: `BoxAnnotator` is deprecated and will be removed in `supervision-0.22.0`. Use `BoundingBoxAnnotator` and `LabelAnnotator` instead\n"
          ]
        },
        {
          "output_type": "stream",
          "name": "stdout",
          "text": [
            "0: 736x1280 2 cars, 1 truck, 1328.6ms\n",
            "Speed: 14.5ms preprocess, 1328.6ms inference, 2.7ms postprocess per image at shape (1, 3, 736, 1280)\n",
            "\n"
          ]
        },
        {
          "output_type": "stream",
          "name": "stderr",
          "text": [
            "SupervisionWarnings: annotate is deprecated: `BoxAnnotator` is deprecated and will be removed in `supervision-0.22.0`. Use `BoundingBoxAnnotator` and `LabelAnnotator` instead\n"
          ]
        },
        {
          "output_type": "stream",
          "name": "stdout",
          "text": [
            "0: 736x1280 2 cars, 1 truck, 1229.8ms\n",
            "Speed: 12.6ms preprocess, 1229.8ms inference, 2.5ms postprocess per image at shape (1, 3, 736, 1280)\n",
            "\n"
          ]
        },
        {
          "output_type": "stream",
          "name": "stderr",
          "text": [
            "SupervisionWarnings: annotate is deprecated: `BoxAnnotator` is deprecated and will be removed in `supervision-0.22.0`. Use `BoundingBoxAnnotator` and `LabelAnnotator` instead\n"
          ]
        },
        {
          "output_type": "stream",
          "name": "stdout",
          "text": [
            "0: 736x1280 2 cars, 1 truck, 1325.6ms\n",
            "Speed: 13.4ms preprocess, 1325.6ms inference, 2.5ms postprocess per image at shape (1, 3, 736, 1280)\n",
            "\n"
          ]
        },
        {
          "output_type": "stream",
          "name": "stderr",
          "text": [
            "SupervisionWarnings: annotate is deprecated: `BoxAnnotator` is deprecated and will be removed in `supervision-0.22.0`. Use `BoundingBoxAnnotator` and `LabelAnnotator` instead\n"
          ]
        },
        {
          "output_type": "stream",
          "name": "stdout",
          "text": [
            "0: 736x1280 2 cars, 1 truck, 1263.4ms\n",
            "Speed: 12.9ms preprocess, 1263.4ms inference, 2.5ms postprocess per image at shape (1, 3, 736, 1280)\n",
            "\n"
          ]
        },
        {
          "output_type": "stream",
          "name": "stderr",
          "text": [
            "SupervisionWarnings: annotate is deprecated: `BoxAnnotator` is deprecated and will be removed in `supervision-0.22.0`. Use `BoundingBoxAnnotator` and `LabelAnnotator` instead\n"
          ]
        },
        {
          "output_type": "stream",
          "name": "stdout",
          "text": [
            "0: 736x1280 2 cars, 1 truck, 1381.8ms\n",
            "Speed: 13.1ms preprocess, 1381.8ms inference, 3.4ms postprocess per image at shape (1, 3, 736, 1280)\n",
            "\n"
          ]
        },
        {
          "output_type": "stream",
          "name": "stderr",
          "text": [
            "SupervisionWarnings: annotate is deprecated: `BoxAnnotator` is deprecated and will be removed in `supervision-0.22.0`. Use `BoundingBoxAnnotator` and `LabelAnnotator` instead\n"
          ]
        },
        {
          "output_type": "stream",
          "name": "stdout",
          "text": [
            "0: 736x1280 2 cars, 1 truck, 1506.4ms\n",
            "Speed: 18.3ms preprocess, 1506.4ms inference, 2.9ms postprocess per image at shape (1, 3, 736, 1280)\n",
            "\n"
          ]
        },
        {
          "output_type": "stream",
          "name": "stderr",
          "text": [
            "SupervisionWarnings: annotate is deprecated: `BoxAnnotator` is deprecated and will be removed in `supervision-0.22.0`. Use `BoundingBoxAnnotator` and `LabelAnnotator` instead\n"
          ]
        },
        {
          "output_type": "stream",
          "name": "stdout",
          "text": [
            "0: 736x1280 2 cars, 1 truck, 1861.2ms\n",
            "Speed: 20.0ms preprocess, 1861.2ms inference, 3.2ms postprocess per image at shape (1, 3, 736, 1280)\n",
            "\n"
          ]
        },
        {
          "output_type": "stream",
          "name": "stderr",
          "text": [
            "SupervisionWarnings: annotate is deprecated: `BoxAnnotator` is deprecated and will be removed in `supervision-0.22.0`. Use `BoundingBoxAnnotator` and `LabelAnnotator` instead\n"
          ]
        },
        {
          "output_type": "stream",
          "name": "stdout",
          "text": [
            "0: 736x1280 2 cars, 1 truck, 1619.8ms\n",
            "Speed: 28.9ms preprocess, 1619.8ms inference, 2.5ms postprocess per image at shape (1, 3, 736, 1280)\n",
            "\n"
          ]
        },
        {
          "output_type": "stream",
          "name": "stderr",
          "text": [
            "SupervisionWarnings: annotate is deprecated: `BoxAnnotator` is deprecated and will be removed in `supervision-0.22.0`. Use `BoundingBoxAnnotator` and `LabelAnnotator` instead\n"
          ]
        },
        {
          "output_type": "stream",
          "name": "stdout",
          "text": [
            "0: 736x1280 2 cars, 1 truck, 1254.5ms\n",
            "Speed: 13.4ms preprocess, 1254.5ms inference, 3.1ms postprocess per image at shape (1, 3, 736, 1280)\n",
            "\n"
          ]
        },
        {
          "output_type": "stream",
          "name": "stderr",
          "text": [
            "SupervisionWarnings: annotate is deprecated: `BoxAnnotator` is deprecated and will be removed in `supervision-0.22.0`. Use `BoundingBoxAnnotator` and `LabelAnnotator` instead\n"
          ]
        },
        {
          "output_type": "stream",
          "name": "stdout",
          "text": [
            "0: 736x1280 2 cars, 1 truck, 1356.8ms\n",
            "Speed: 14.4ms preprocess, 1356.8ms inference, 3.3ms postprocess per image at shape (1, 3, 736, 1280)\n",
            "\n"
          ]
        },
        {
          "output_type": "stream",
          "name": "stderr",
          "text": [
            "SupervisionWarnings: annotate is deprecated: `BoxAnnotator` is deprecated and will be removed in `supervision-0.22.0`. Use `BoundingBoxAnnotator` and `LabelAnnotator` instead\n"
          ]
        },
        {
          "output_type": "stream",
          "name": "stdout",
          "text": [
            "0: 736x1280 2 cars, 1 truck, 1355.9ms\n",
            "Speed: 17.7ms preprocess, 1355.9ms inference, 3.1ms postprocess per image at shape (1, 3, 736, 1280)\n",
            "\n"
          ]
        },
        {
          "output_type": "stream",
          "name": "stderr",
          "text": [
            "SupervisionWarnings: annotate is deprecated: `BoxAnnotator` is deprecated and will be removed in `supervision-0.22.0`. Use `BoundingBoxAnnotator` and `LabelAnnotator` instead\n"
          ]
        },
        {
          "output_type": "stream",
          "name": "stdout",
          "text": [
            "0: 736x1280 2 cars, 2 trucks, 1335.2ms\n",
            "Speed: 14.4ms preprocess, 1335.2ms inference, 2.5ms postprocess per image at shape (1, 3, 736, 1280)\n",
            "\n"
          ]
        },
        {
          "output_type": "stream",
          "name": "stderr",
          "text": [
            "SupervisionWarnings: annotate is deprecated: `BoxAnnotator` is deprecated and will be removed in `supervision-0.22.0`. Use `BoundingBoxAnnotator` and `LabelAnnotator` instead\n"
          ]
        },
        {
          "output_type": "stream",
          "name": "stdout",
          "text": [
            "0: 736x1280 2 cars, 1 truck, 1191.5ms\n",
            "Speed: 13.4ms preprocess, 1191.5ms inference, 2.5ms postprocess per image at shape (1, 3, 736, 1280)\n",
            "\n"
          ]
        },
        {
          "output_type": "stream",
          "name": "stderr",
          "text": [
            "SupervisionWarnings: annotate is deprecated: `BoxAnnotator` is deprecated and will be removed in `supervision-0.22.0`. Use `BoundingBoxAnnotator` and `LabelAnnotator` instead\n"
          ]
        },
        {
          "output_type": "stream",
          "name": "stdout",
          "text": [
            "0: 736x1280 2 cars, 1 truck, 1237.0ms\n",
            "Speed: 19.5ms preprocess, 1237.0ms inference, 2.5ms postprocess per image at shape (1, 3, 736, 1280)\n",
            "\n"
          ]
        },
        {
          "output_type": "stream",
          "name": "stderr",
          "text": [
            "SupervisionWarnings: annotate is deprecated: `BoxAnnotator` is deprecated and will be removed in `supervision-0.22.0`. Use `BoundingBoxAnnotator` and `LabelAnnotator` instead\n"
          ]
        },
        {
          "output_type": "stream",
          "name": "stdout",
          "text": [
            "0: 736x1280 2 cars, 1 truck, 1660.0ms\n",
            "Speed: 14.0ms preprocess, 1660.0ms inference, 4.1ms postprocess per image at shape (1, 3, 736, 1280)\n",
            "\n"
          ]
        },
        {
          "output_type": "stream",
          "name": "stderr",
          "text": [
            "SupervisionWarnings: annotate is deprecated: `BoxAnnotator` is deprecated and will be removed in `supervision-0.22.0`. Use `BoundingBoxAnnotator` and `LabelAnnotator` instead\n"
          ]
        },
        {
          "output_type": "stream",
          "name": "stdout",
          "text": [
            "0: 736x1280 2 cars, 1 truck, 2048.3ms\n",
            "Speed: 20.7ms preprocess, 2048.3ms inference, 4.2ms postprocess per image at shape (1, 3, 736, 1280)\n",
            "\n"
          ]
        },
        {
          "output_type": "stream",
          "name": "stderr",
          "text": [
            "SupervisionWarnings: annotate is deprecated: `BoxAnnotator` is deprecated and will be removed in `supervision-0.22.0`. Use `BoundingBoxAnnotator` and `LabelAnnotator` instead\n"
          ]
        },
        {
          "output_type": "stream",
          "name": "stdout",
          "text": [
            "0: 736x1280 2 cars, 1 truck, 1416.4ms\n",
            "Speed: 24.5ms preprocess, 1416.4ms inference, 2.4ms postprocess per image at shape (1, 3, 736, 1280)\n",
            "\n"
          ]
        },
        {
          "output_type": "stream",
          "name": "stderr",
          "text": [
            "SupervisionWarnings: annotate is deprecated: `BoxAnnotator` is deprecated and will be removed in `supervision-0.22.0`. Use `BoundingBoxAnnotator` and `LabelAnnotator` instead\n"
          ]
        },
        {
          "output_type": "stream",
          "name": "stdout",
          "text": [
            "0: 736x1280 2 cars, 1 truck, 1320.7ms\n",
            "Speed: 16.2ms preprocess, 1320.7ms inference, 2.5ms postprocess per image at shape (1, 3, 736, 1280)\n",
            "\n"
          ]
        },
        {
          "output_type": "stream",
          "name": "stderr",
          "text": [
            "SupervisionWarnings: annotate is deprecated: `BoxAnnotator` is deprecated and will be removed in `supervision-0.22.0`. Use `BoundingBoxAnnotator` and `LabelAnnotator` instead\n"
          ]
        },
        {
          "output_type": "stream",
          "name": "stdout",
          "text": [
            "0: 736x1280 2 cars, 1 truck, 1300.7ms\n",
            "Speed: 13.2ms preprocess, 1300.7ms inference, 3.1ms postprocess per image at shape (1, 3, 736, 1280)\n",
            "\n"
          ]
        },
        {
          "output_type": "stream",
          "name": "stderr",
          "text": [
            "SupervisionWarnings: annotate is deprecated: `BoxAnnotator` is deprecated and will be removed in `supervision-0.22.0`. Use `BoundingBoxAnnotator` and `LabelAnnotator` instead\n"
          ]
        },
        {
          "output_type": "stream",
          "name": "stdout",
          "text": [
            "0: 736x1280 2 cars, 1 truck, 1332.6ms\n",
            "Speed: 21.9ms preprocess, 1332.6ms inference, 3.3ms postprocess per image at shape (1, 3, 736, 1280)\n",
            "\n"
          ]
        },
        {
          "output_type": "stream",
          "name": "stderr",
          "text": [
            "SupervisionWarnings: annotate is deprecated: `BoxAnnotator` is deprecated and will be removed in `supervision-0.22.0`. Use `BoundingBoxAnnotator` and `LabelAnnotator` instead\n"
          ]
        },
        {
          "output_type": "stream",
          "name": "stdout",
          "text": [
            "0: 736x1280 2 cars, 1 truck, 1249.5ms\n",
            "Speed: 16.8ms preprocess, 1249.5ms inference, 2.5ms postprocess per image at shape (1, 3, 736, 1280)\n",
            "\n"
          ]
        },
        {
          "output_type": "stream",
          "name": "stderr",
          "text": [
            "SupervisionWarnings: annotate is deprecated: `BoxAnnotator` is deprecated and will be removed in `supervision-0.22.0`. Use `BoundingBoxAnnotator` and `LabelAnnotator` instead\n"
          ]
        },
        {
          "output_type": "stream",
          "name": "stdout",
          "text": [
            "0: 736x1280 2 cars, 1 truck, 1 traffic light, 1265.6ms\n",
            "Speed: 14.3ms preprocess, 1265.6ms inference, 3.2ms postprocess per image at shape (1, 3, 736, 1280)\n",
            "\n"
          ]
        },
        {
          "output_type": "stream",
          "name": "stderr",
          "text": [
            "SupervisionWarnings: annotate is deprecated: `BoxAnnotator` is deprecated and will be removed in `supervision-0.22.0`. Use `BoundingBoxAnnotator` and `LabelAnnotator` instead\n"
          ]
        },
        {
          "output_type": "stream",
          "name": "stdout",
          "text": [
            "0: 736x1280 2 cars, 1 truck, 1349.2ms\n",
            "Speed: 16.5ms preprocess, 1349.2ms inference, 3.0ms postprocess per image at shape (1, 3, 736, 1280)\n",
            "\n"
          ]
        },
        {
          "output_type": "stream",
          "name": "stderr",
          "text": [
            "SupervisionWarnings: annotate is deprecated: `BoxAnnotator` is deprecated and will be removed in `supervision-0.22.0`. Use `BoundingBoxAnnotator` and `LabelAnnotator` instead\n"
          ]
        },
        {
          "output_type": "stream",
          "name": "stdout",
          "text": [
            "0: 736x1280 2 cars, 1 truck, 1842.1ms\n",
            "Speed: 13.5ms preprocess, 1842.1ms inference, 3.1ms postprocess per image at shape (1, 3, 736, 1280)\n",
            "\n"
          ]
        },
        {
          "output_type": "stream",
          "name": "stderr",
          "text": [
            "SupervisionWarnings: annotate is deprecated: `BoxAnnotator` is deprecated and will be removed in `supervision-0.22.0`. Use `BoundingBoxAnnotator` and `LabelAnnotator` instead\n"
          ]
        },
        {
          "output_type": "stream",
          "name": "stdout",
          "text": [
            "0: 736x1280 2 cars, 1 truck, 1952.5ms\n",
            "Speed: 27.1ms preprocess, 1952.5ms inference, 3.2ms postprocess per image at shape (1, 3, 736, 1280)\n",
            "\n"
          ]
        },
        {
          "output_type": "stream",
          "name": "stderr",
          "text": [
            "SupervisionWarnings: annotate is deprecated: `BoxAnnotator` is deprecated and will be removed in `supervision-0.22.0`. Use `BoundingBoxAnnotator` and `LabelAnnotator` instead\n"
          ]
        },
        {
          "output_type": "stream",
          "name": "stdout",
          "text": [
            "0: 736x1280 2 cars, 1 truck, 1318.7ms\n",
            "Speed: 20.3ms preprocess, 1318.7ms inference, 2.8ms postprocess per image at shape (1, 3, 736, 1280)\n",
            "\n"
          ]
        },
        {
          "output_type": "stream",
          "name": "stderr",
          "text": [
            "SupervisionWarnings: annotate is deprecated: `BoxAnnotator` is deprecated and will be removed in `supervision-0.22.0`. Use `BoundingBoxAnnotator` and `LabelAnnotator` instead\n"
          ]
        },
        {
          "output_type": "stream",
          "name": "stdout",
          "text": [
            "0: 736x1280 2 cars, 1314.6ms\n",
            "Speed: 12.7ms preprocess, 1314.6ms inference, 3.3ms postprocess per image at shape (1, 3, 736, 1280)\n",
            "\n"
          ]
        },
        {
          "output_type": "stream",
          "name": "stderr",
          "text": [
            "SupervisionWarnings: annotate is deprecated: `BoxAnnotator` is deprecated and will be removed in `supervision-0.22.0`. Use `BoundingBoxAnnotator` and `LabelAnnotator` instead\n"
          ]
        },
        {
          "output_type": "stream",
          "name": "stdout",
          "text": [
            "0: 736x1280 2 cars, 1224.7ms\n",
            "Speed: 21.2ms preprocess, 1224.7ms inference, 2.6ms postprocess per image at shape (1, 3, 736, 1280)\n",
            "\n"
          ]
        },
        {
          "output_type": "stream",
          "name": "stderr",
          "text": [
            "SupervisionWarnings: annotate is deprecated: `BoxAnnotator` is deprecated and will be removed in `supervision-0.22.0`. Use `BoundingBoxAnnotator` and `LabelAnnotator` instead\n"
          ]
        },
        {
          "output_type": "stream",
          "name": "stdout",
          "text": [
            "0: 736x1280 2 cars, 1297.9ms\n",
            "Speed: 13.2ms preprocess, 1297.9ms inference, 3.2ms postprocess per image at shape (1, 3, 736, 1280)\n",
            "\n"
          ]
        },
        {
          "output_type": "stream",
          "name": "stderr",
          "text": [
            "SupervisionWarnings: annotate is deprecated: `BoxAnnotator` is deprecated and will be removed in `supervision-0.22.0`. Use `BoundingBoxAnnotator` and `LabelAnnotator` instead\n"
          ]
        },
        {
          "output_type": "stream",
          "name": "stdout",
          "text": [
            "0: 736x1280 2 cars, 1326.5ms\n",
            "Speed: 15.1ms preprocess, 1326.5ms inference, 3.4ms postprocess per image at shape (1, 3, 736, 1280)\n",
            "\n"
          ]
        },
        {
          "output_type": "stream",
          "name": "stderr",
          "text": [
            "SupervisionWarnings: annotate is deprecated: `BoxAnnotator` is deprecated and will be removed in `supervision-0.22.0`. Use `BoundingBoxAnnotator` and `LabelAnnotator` instead\n"
          ]
        },
        {
          "output_type": "stream",
          "name": "stdout",
          "text": [
            "0: 736x1280 2 cars, 1 truck, 1356.2ms\n",
            "Speed: 14.8ms preprocess, 1356.2ms inference, 3.1ms postprocess per image at shape (1, 3, 736, 1280)\n",
            "\n"
          ]
        },
        {
          "output_type": "stream",
          "name": "stderr",
          "text": [
            "SupervisionWarnings: annotate is deprecated: `BoxAnnotator` is deprecated and will be removed in `supervision-0.22.0`. Use `BoundingBoxAnnotator` and `LabelAnnotator` instead\n"
          ]
        },
        {
          "output_type": "stream",
          "name": "stdout",
          "text": [
            "0: 736x1280 2 cars, 1396.4ms\n",
            "Speed: 14.9ms preprocess, 1396.4ms inference, 3.8ms postprocess per image at shape (1, 3, 736, 1280)\n",
            "\n"
          ]
        },
        {
          "output_type": "stream",
          "name": "stderr",
          "text": [
            "SupervisionWarnings: annotate is deprecated: `BoxAnnotator` is deprecated and will be removed in `supervision-0.22.0`. Use `BoundingBoxAnnotator` and `LabelAnnotator` instead\n"
          ]
        },
        {
          "output_type": "stream",
          "name": "stdout",
          "text": [
            "0: 736x1280 2 cars, 1937.2ms\n",
            "Speed: 28.7ms preprocess, 1937.2ms inference, 3.5ms postprocess per image at shape (1, 3, 736, 1280)\n",
            "\n"
          ]
        },
        {
          "output_type": "stream",
          "name": "stderr",
          "text": [
            "SupervisionWarnings: annotate is deprecated: `BoxAnnotator` is deprecated and will be removed in `supervision-0.22.0`. Use `BoundingBoxAnnotator` and `LabelAnnotator` instead\n"
          ]
        },
        {
          "output_type": "stream",
          "name": "stdout",
          "text": [
            "0: 736x1280 2 cars, 1705.2ms\n",
            "Speed: 25.8ms preprocess, 1705.2ms inference, 3.6ms postprocess per image at shape (1, 3, 736, 1280)\n",
            "\n"
          ]
        },
        {
          "output_type": "stream",
          "name": "stderr",
          "text": [
            "SupervisionWarnings: annotate is deprecated: `BoxAnnotator` is deprecated and will be removed in `supervision-0.22.0`. Use `BoundingBoxAnnotator` and `LabelAnnotator` instead\n"
          ]
        },
        {
          "output_type": "stream",
          "name": "stdout",
          "text": [
            "0: 736x1280 2 cars, 1 truck, 1236.8ms\n",
            "Speed: 12.9ms preprocess, 1236.8ms inference, 2.7ms postprocess per image at shape (1, 3, 736, 1280)\n",
            "\n"
          ]
        },
        {
          "output_type": "stream",
          "name": "stderr",
          "text": [
            "SupervisionWarnings: annotate is deprecated: `BoxAnnotator` is deprecated and will be removed in `supervision-0.22.0`. Use `BoundingBoxAnnotator` and `LabelAnnotator` instead\n"
          ]
        },
        {
          "output_type": "stream",
          "name": "stdout",
          "text": [
            "0: 736x1280 2 cars, 1250.8ms\n",
            "Speed: 13.4ms preprocess, 1250.8ms inference, 2.5ms postprocess per image at shape (1, 3, 736, 1280)\n",
            "\n"
          ]
        },
        {
          "output_type": "stream",
          "name": "stderr",
          "text": [
            "SupervisionWarnings: annotate is deprecated: `BoxAnnotator` is deprecated and will be removed in `supervision-0.22.0`. Use `BoundingBoxAnnotator` and `LabelAnnotator` instead\n"
          ]
        },
        {
          "output_type": "stream",
          "name": "stdout",
          "text": [
            "0: 736x1280 2 cars, 1239.9ms\n",
            "Speed: 13.9ms preprocess, 1239.9ms inference, 2.7ms postprocess per image at shape (1, 3, 736, 1280)\n",
            "\n"
          ]
        },
        {
          "output_type": "stream",
          "name": "stderr",
          "text": [
            "SupervisionWarnings: annotate is deprecated: `BoxAnnotator` is deprecated and will be removed in `supervision-0.22.0`. Use `BoundingBoxAnnotator` and `LabelAnnotator` instead\n"
          ]
        },
        {
          "output_type": "stream",
          "name": "stdout",
          "text": [
            "0: 736x1280 2 cars, 1299.0ms\n",
            "Speed: 18.3ms preprocess, 1299.0ms inference, 2.5ms postprocess per image at shape (1, 3, 736, 1280)\n",
            "\n"
          ]
        },
        {
          "output_type": "stream",
          "name": "stderr",
          "text": [
            "SupervisionWarnings: annotate is deprecated: `BoxAnnotator` is deprecated and will be removed in `supervision-0.22.0`. Use `BoundingBoxAnnotator` and `LabelAnnotator` instead\n"
          ]
        },
        {
          "output_type": "stream",
          "name": "stdout",
          "text": [
            "0: 736x1280 2 cars, 1261.4ms\n",
            "Speed: 13.1ms preprocess, 1261.4ms inference, 2.8ms postprocess per image at shape (1, 3, 736, 1280)\n",
            "\n"
          ]
        },
        {
          "output_type": "stream",
          "name": "stderr",
          "text": [
            "SupervisionWarnings: annotate is deprecated: `BoxAnnotator` is deprecated and will be removed in `supervision-0.22.0`. Use `BoundingBoxAnnotator` and `LabelAnnotator` instead\n"
          ]
        },
        {
          "output_type": "stream",
          "name": "stdout",
          "text": [
            "0: 736x1280 2 cars, 1316.1ms\n",
            "Speed: 12.7ms preprocess, 1316.1ms inference, 3.2ms postprocess per image at shape (1, 3, 736, 1280)\n",
            "\n"
          ]
        },
        {
          "output_type": "stream",
          "name": "stderr",
          "text": [
            "SupervisionWarnings: annotate is deprecated: `BoxAnnotator` is deprecated and will be removed in `supervision-0.22.0`. Use `BoundingBoxAnnotator` and `LabelAnnotator` instead\n"
          ]
        },
        {
          "output_type": "stream",
          "name": "stdout",
          "text": [
            "0: 736x1280 2 cars, 1434.4ms\n",
            "Speed: 15.1ms preprocess, 1434.4ms inference, 4.1ms postprocess per image at shape (1, 3, 736, 1280)\n",
            "\n"
          ]
        },
        {
          "output_type": "stream",
          "name": "stderr",
          "text": [
            "SupervisionWarnings: annotate is deprecated: `BoxAnnotator` is deprecated and will be removed in `supervision-0.22.0`. Use `BoundingBoxAnnotator` and `LabelAnnotator` instead\n"
          ]
        },
        {
          "output_type": "stream",
          "name": "stdout",
          "text": [
            "0: 736x1280 2 cars, 1952.9ms\n",
            "Speed: 26.4ms preprocess, 1952.9ms inference, 4.7ms postprocess per image at shape (1, 3, 736, 1280)\n",
            "\n"
          ]
        },
        {
          "output_type": "stream",
          "name": "stderr",
          "text": [
            "SupervisionWarnings: annotate is deprecated: `BoxAnnotator` is deprecated and will be removed in `supervision-0.22.0`. Use `BoundingBoxAnnotator` and `LabelAnnotator` instead\n"
          ]
        },
        {
          "output_type": "stream",
          "name": "stdout",
          "text": [
            "0: 736x1280 2 cars, 1730.6ms\n",
            "Speed: 34.2ms preprocess, 1730.6ms inference, 3.4ms postprocess per image at shape (1, 3, 736, 1280)\n",
            "\n"
          ]
        },
        {
          "output_type": "stream",
          "name": "stderr",
          "text": [
            "SupervisionWarnings: annotate is deprecated: `BoxAnnotator` is deprecated and will be removed in `supervision-0.22.0`. Use `BoundingBoxAnnotator` and `LabelAnnotator` instead\n"
          ]
        },
        {
          "output_type": "stream",
          "name": "stdout",
          "text": [
            "0: 736x1280 2 cars, 1245.3ms\n",
            "Speed: 15.1ms preprocess, 1245.3ms inference, 3.3ms postprocess per image at shape (1, 3, 736, 1280)\n",
            "\n"
          ]
        },
        {
          "output_type": "stream",
          "name": "stderr",
          "text": [
            "SupervisionWarnings: annotate is deprecated: `BoxAnnotator` is deprecated and will be removed in `supervision-0.22.0`. Use `BoundingBoxAnnotator` and `LabelAnnotator` instead\n"
          ]
        },
        {
          "output_type": "stream",
          "name": "stdout",
          "text": [
            "0: 736x1280 1 person, 2 cars, 1332.9ms\n",
            "Speed: 14.7ms preprocess, 1332.9ms inference, 2.8ms postprocess per image at shape (1, 3, 736, 1280)\n",
            "\n"
          ]
        },
        {
          "output_type": "stream",
          "name": "stderr",
          "text": [
            "SupervisionWarnings: annotate is deprecated: `BoxAnnotator` is deprecated and will be removed in `supervision-0.22.0`. Use `BoundingBoxAnnotator` and `LabelAnnotator` instead\n"
          ]
        },
        {
          "output_type": "stream",
          "name": "stdout",
          "text": [
            "0: 736x1280 2 cars, 1251.2ms\n",
            "Speed: 13.1ms preprocess, 1251.2ms inference, 2.4ms postprocess per image at shape (1, 3, 736, 1280)\n",
            "\n"
          ]
        },
        {
          "output_type": "stream",
          "name": "stderr",
          "text": [
            "SupervisionWarnings: annotate is deprecated: `BoxAnnotator` is deprecated and will be removed in `supervision-0.22.0`. Use `BoundingBoxAnnotator` and `LabelAnnotator` instead\n"
          ]
        },
        {
          "output_type": "stream",
          "name": "stdout",
          "text": [
            "0: 736x1280 2 cars, 1251.6ms\n",
            "Speed: 13.2ms preprocess, 1251.6ms inference, 2.5ms postprocess per image at shape (1, 3, 736, 1280)\n",
            "\n"
          ]
        },
        {
          "output_type": "stream",
          "name": "stderr",
          "text": [
            "SupervisionWarnings: annotate is deprecated: `BoxAnnotator` is deprecated and will be removed in `supervision-0.22.0`. Use `BoundingBoxAnnotator` and `LabelAnnotator` instead\n"
          ]
        },
        {
          "output_type": "stream",
          "name": "stdout",
          "text": [
            "0: 736x1280 2 cars, 1234.7ms\n",
            "Speed: 12.8ms preprocess, 1234.7ms inference, 2.6ms postprocess per image at shape (1, 3, 736, 1280)\n",
            "\n"
          ]
        },
        {
          "output_type": "stream",
          "name": "stderr",
          "text": [
            "SupervisionWarnings: annotate is deprecated: `BoxAnnotator` is deprecated and will be removed in `supervision-0.22.0`. Use `BoundingBoxAnnotator` and `LabelAnnotator` instead\n"
          ]
        },
        {
          "output_type": "stream",
          "name": "stdout",
          "text": [
            "0: 736x1280 2 cars, 1341.7ms\n",
            "Speed: 13.0ms preprocess, 1341.7ms inference, 3.4ms postprocess per image at shape (1, 3, 736, 1280)\n",
            "\n"
          ]
        },
        {
          "output_type": "stream",
          "name": "stderr",
          "text": [
            "SupervisionWarnings: annotate is deprecated: `BoxAnnotator` is deprecated and will be removed in `supervision-0.22.0`. Use `BoundingBoxAnnotator` and `LabelAnnotator` instead\n"
          ]
        },
        {
          "output_type": "stream",
          "name": "stdout",
          "text": [
            "0: 736x1280 3 cars, 1373.1ms\n",
            "Speed: 16.9ms preprocess, 1373.1ms inference, 3.5ms postprocess per image at shape (1, 3, 736, 1280)\n",
            "\n"
          ]
        },
        {
          "output_type": "stream",
          "name": "stderr",
          "text": [
            "SupervisionWarnings: annotate is deprecated: `BoxAnnotator` is deprecated and will be removed in `supervision-0.22.0`. Use `BoundingBoxAnnotator` and `LabelAnnotator` instead\n"
          ]
        },
        {
          "output_type": "stream",
          "name": "stdout",
          "text": [
            "0: 736x1280 3 cars, 1960.3ms\n",
            "Speed: 29.1ms preprocess, 1960.3ms inference, 4.1ms postprocess per image at shape (1, 3, 736, 1280)\n",
            "\n"
          ]
        },
        {
          "output_type": "stream",
          "name": "stderr",
          "text": [
            "SupervisionWarnings: annotate is deprecated: `BoxAnnotator` is deprecated and will be removed in `supervision-0.22.0`. Use `BoundingBoxAnnotator` and `LabelAnnotator` instead\n"
          ]
        },
        {
          "output_type": "stream",
          "name": "stdout",
          "text": [
            "0: 736x1280 1 person, 3 cars, 2173.3ms\n",
            "Speed: 28.4ms preprocess, 2173.3ms inference, 3.9ms postprocess per image at shape (1, 3, 736, 1280)\n",
            "\n"
          ]
        },
        {
          "output_type": "stream",
          "name": "stderr",
          "text": [
            "SupervisionWarnings: annotate is deprecated: `BoxAnnotator` is deprecated and will be removed in `supervision-0.22.0`. Use `BoundingBoxAnnotator` and `LabelAnnotator` instead\n"
          ]
        },
        {
          "output_type": "stream",
          "name": "stdout",
          "text": [
            "0: 736x1280 3 cars, 1904.3ms\n",
            "Speed: 27.5ms preprocess, 1904.3ms inference, 3.1ms postprocess per image at shape (1, 3, 736, 1280)\n",
            "\n"
          ]
        },
        {
          "output_type": "stream",
          "name": "stderr",
          "text": [
            "SupervisionWarnings: annotate is deprecated: `BoxAnnotator` is deprecated and will be removed in `supervision-0.22.0`. Use `BoundingBoxAnnotator` and `LabelAnnotator` instead\n"
          ]
        },
        {
          "output_type": "stream",
          "name": "stdout",
          "text": [
            "0: 736x1280 1 person, 2 cars, 1363.4ms\n",
            "Speed: 28.7ms preprocess, 1363.4ms inference, 3.1ms postprocess per image at shape (1, 3, 736, 1280)\n",
            "\n"
          ]
        },
        {
          "output_type": "stream",
          "name": "stderr",
          "text": [
            "SupervisionWarnings: annotate is deprecated: `BoxAnnotator` is deprecated and will be removed in `supervision-0.22.0`. Use `BoundingBoxAnnotator` and `LabelAnnotator` instead\n"
          ]
        },
        {
          "output_type": "stream",
          "name": "stdout",
          "text": [
            "0: 736x1280 2 cars, 1288.7ms\n",
            "Speed: 18.6ms preprocess, 1288.7ms inference, 2.6ms postprocess per image at shape (1, 3, 736, 1280)\n",
            "\n"
          ]
        },
        {
          "output_type": "stream",
          "name": "stderr",
          "text": [
            "SupervisionWarnings: annotate is deprecated: `BoxAnnotator` is deprecated and will be removed in `supervision-0.22.0`. Use `BoundingBoxAnnotator` and `LabelAnnotator` instead\n"
          ]
        },
        {
          "output_type": "stream",
          "name": "stdout",
          "text": [
            "0: 736x1280 1 person, 2 cars, 1232.6ms\n",
            "Speed: 14.5ms preprocess, 1232.6ms inference, 2.5ms postprocess per image at shape (1, 3, 736, 1280)\n",
            "\n"
          ]
        },
        {
          "output_type": "stream",
          "name": "stderr",
          "text": [
            "SupervisionWarnings: annotate is deprecated: `BoxAnnotator` is deprecated and will be removed in `supervision-0.22.0`. Use `BoundingBoxAnnotator` and `LabelAnnotator` instead\n"
          ]
        },
        {
          "output_type": "stream",
          "name": "stdout",
          "text": [
            "0: 736x1280 2 cars, 1277.9ms\n",
            "Speed: 14.2ms preprocess, 1277.9ms inference, 3.1ms postprocess per image at shape (1, 3, 736, 1280)\n",
            "\n"
          ]
        },
        {
          "output_type": "stream",
          "name": "stderr",
          "text": [
            "SupervisionWarnings: annotate is deprecated: `BoxAnnotator` is deprecated and will be removed in `supervision-0.22.0`. Use `BoundingBoxAnnotator` and `LabelAnnotator` instead\n"
          ]
        },
        {
          "output_type": "stream",
          "name": "stdout",
          "text": [
            "0: 736x1280 2 persons, 2 cars, 1273.8ms\n",
            "Speed: 15.5ms preprocess, 1273.8ms inference, 2.6ms postprocess per image at shape (1, 3, 736, 1280)\n",
            "\n"
          ]
        },
        {
          "output_type": "stream",
          "name": "stderr",
          "text": [
            "SupervisionWarnings: annotate is deprecated: `BoxAnnotator` is deprecated and will be removed in `supervision-0.22.0`. Use `BoundingBoxAnnotator` and `LabelAnnotator` instead\n"
          ]
        },
        {
          "output_type": "stream",
          "name": "stdout",
          "text": [
            "0: 736x1280 1 person, 2 cars, 1802.2ms\n",
            "Speed: 13.1ms preprocess, 1802.2ms inference, 3.8ms postprocess per image at shape (1, 3, 736, 1280)\n",
            "\n"
          ]
        },
        {
          "output_type": "stream",
          "name": "stderr",
          "text": [
            "SupervisionWarnings: annotate is deprecated: `BoxAnnotator` is deprecated and will be removed in `supervision-0.22.0`. Use `BoundingBoxAnnotator` and `LabelAnnotator` instead\n"
          ]
        },
        {
          "output_type": "stream",
          "name": "stdout",
          "text": [
            "0: 736x1280 2 persons, 2 cars, 1876.9ms\n",
            "Speed: 15.0ms preprocess, 1876.9ms inference, 3.8ms postprocess per image at shape (1, 3, 736, 1280)\n",
            "\n"
          ]
        },
        {
          "output_type": "stream",
          "name": "stderr",
          "text": [
            "SupervisionWarnings: annotate is deprecated: `BoxAnnotator` is deprecated and will be removed in `supervision-0.22.0`. Use `BoundingBoxAnnotator` and `LabelAnnotator` instead\n"
          ]
        },
        {
          "output_type": "stream",
          "name": "stdout",
          "text": [
            "0: 736x1280 2 persons, 3 cars, 1360.4ms\n",
            "Speed: 38.5ms preprocess, 1360.4ms inference, 2.3ms postprocess per image at shape (1, 3, 736, 1280)\n",
            "\n"
          ]
        },
        {
          "output_type": "stream",
          "name": "stderr",
          "text": [
            "SupervisionWarnings: annotate is deprecated: `BoxAnnotator` is deprecated and will be removed in `supervision-0.22.0`. Use `BoundingBoxAnnotator` and `LabelAnnotator` instead\n"
          ]
        },
        {
          "output_type": "stream",
          "name": "stdout",
          "text": [
            "0: 736x1280 2 persons, 3 cars, 1234.0ms\n",
            "Speed: 12.9ms preprocess, 1234.0ms inference, 2.2ms postprocess per image at shape (1, 3, 736, 1280)\n",
            "\n"
          ]
        },
        {
          "output_type": "stream",
          "name": "stderr",
          "text": [
            "SupervisionWarnings: annotate is deprecated: `BoxAnnotator` is deprecated and will be removed in `supervision-0.22.0`. Use `BoundingBoxAnnotator` and `LabelAnnotator` instead\n"
          ]
        },
        {
          "output_type": "stream",
          "name": "stdout",
          "text": [
            "0: 736x1280 2 persons, 2 cars, 1238.2ms\n",
            "Speed: 20.7ms preprocess, 1238.2ms inference, 3.3ms postprocess per image at shape (1, 3, 736, 1280)\n",
            "\n"
          ]
        },
        {
          "output_type": "stream",
          "name": "stderr",
          "text": [
            "SupervisionWarnings: annotate is deprecated: `BoxAnnotator` is deprecated and will be removed in `supervision-0.22.0`. Use `BoundingBoxAnnotator` and `LabelAnnotator` instead\n"
          ]
        },
        {
          "output_type": "stream",
          "name": "stdout",
          "text": [
            "0: 736x1280 2 persons, 1 car, 1 truck, 1372.5ms\n",
            "Speed: 15.8ms preprocess, 1372.5ms inference, 2.9ms postprocess per image at shape (1, 3, 736, 1280)\n",
            "\n"
          ]
        },
        {
          "output_type": "stream",
          "name": "stderr",
          "text": [
            "SupervisionWarnings: annotate is deprecated: `BoxAnnotator` is deprecated and will be removed in `supervision-0.22.0`. Use `BoundingBoxAnnotator` and `LabelAnnotator` instead\n"
          ]
        },
        {
          "output_type": "stream",
          "name": "stdout",
          "text": [
            "0: 736x1280 3 persons, 2 cars, 1303.9ms\n",
            "Speed: 15.0ms preprocess, 1303.9ms inference, 3.2ms postprocess per image at shape (1, 3, 736, 1280)\n",
            "\n"
          ]
        },
        {
          "output_type": "stream",
          "name": "stderr",
          "text": [
            "SupervisionWarnings: annotate is deprecated: `BoxAnnotator` is deprecated and will be removed in `supervision-0.22.0`. Use `BoundingBoxAnnotator` and `LabelAnnotator` instead\n"
          ]
        },
        {
          "output_type": "stream",
          "name": "stdout",
          "text": [
            "0: 736x1280 2 cars, 1312.5ms\n",
            "Speed: 15.6ms preprocess, 1312.5ms inference, 3.3ms postprocess per image at shape (1, 3, 736, 1280)\n",
            "\n"
          ]
        },
        {
          "output_type": "stream",
          "name": "stderr",
          "text": [
            "SupervisionWarnings: annotate is deprecated: `BoxAnnotator` is deprecated and will be removed in `supervision-0.22.0`. Use `BoundingBoxAnnotator` and `LabelAnnotator` instead\n"
          ]
        },
        {
          "output_type": "stream",
          "name": "stdout",
          "text": [
            "0: 736x1280 1 person, 2 cars, 1266.2ms\n",
            "Speed: 13.8ms preprocess, 1266.2ms inference, 3.2ms postprocess per image at shape (1, 3, 736, 1280)\n"
          ]
        },
        {
          "output_type": "stream",
          "name": "stderr",
          "text": [
            "SupervisionWarnings: annotate is deprecated: `BoxAnnotator` is deprecated and will be removed in `supervision-0.22.0`. Use `BoundingBoxAnnotator` and `LabelAnnotator` instead\n"
          ]
        }
      ],
      "source": [
        "def process_frame(frame: np.ndarray, _) -> np.ndarray:\n",
        "    results = model(frame, imgsz=1280)[0]\n",
        "\n",
        "    detections = sv.Detections.from_ultralytics(results)\n",
        "\n",
        "    box_annotator = sv.BoxAnnotator(thickness=4, text_thickness=4, text_scale=2)\n",
        "\n",
        "    labels = [f\"{model.names[class_id]} {confidence:0.2f}\" for _, _, confidence, class_id, _, _ in detections]\n",
        "\n",
        "    frame = box_annotator.annotate(scene=frame, detections=detections, labels=labels)\n",
        "\n",
        "    return frame\n",
        "\n",
        "sv.process_video(source_path=VIDEO_PATH, target_path=f\"result.mp4\", callback=process_frame)\n",
        "\n"
      ]
    }
  ],
  "metadata": {
    "colab": {
      "provenance": []
    },
    "kernelspec": {
      "display_name": "Python 3",
      "name": "python3"
    },
    "language_info": {
      "name": "python"
    }
  },
  "nbformat": 4,
  "nbformat_minor": 0
}